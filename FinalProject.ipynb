{
 "cells": [
  {
   "cell_type": "code",
   "execution_count": 7,
   "id": "e97650d9",
   "metadata": {},
   "outputs": [],
   "source": [
    "# 228 Final Project\n",
    "# Brian Dobkowski and Bianca Jurewicz\n",
    "\n",
    "# Initialize Packages\n",
    "### Be sure to install these packages on your local computer first###\n",
    "\n",
    "# import POMDPs.jl interface\n",
    "using POMDPs\n",
    "# POMDPModelTools has tools that help build the MDP definition\n",
    "using POMDPModelTools\n",
    "# POMDPPolicies provides functions to help define simple policies\n",
    "using POMDPPolicies\n",
    "# POMDPSimulators provide functions for running MDP simulations\n",
    "using POMDPSimulators\n"
   ]
  },
  {
   "cell_type": "code",
   "execution_count": 8,
   "id": "c63ad909",
   "metadata": {},
   "outputs": [
    {
     "ename": "LoadError",
     "evalue": "syntax: extra token \"MyMDP\" after end of expression",
     "output_type": "error",
     "traceback": [
      "syntax: extra token \"MyMDP\" after end of expression",
      "",
      "Stacktrace:",
      " [1] top-level scope",
      "   @ In[8]:3",
      " [2] eval",
      "   @ .\\boot.jl:360 [inlined]",
      " [3] include_string(mapexpr::typeof(REPL.softscope), mod::Module, code::String, filename::String)",
      "   @ Base .\\loading.jl:1116"
     ]
    }
   ],
   "source": [
    "# Define MDP Type\n",
    "\n",
    "type MyMDP <: MDP{Int64, Int64} # MDP{StateType, ActionType}\n",
    "end"
   ]
  },
  {
   "cell_type": "code",
   "execution_count": 9,
   "id": "afd3c6fb",
   "metadata": {},
   "outputs": [
    {
     "data": {
      "text/plain": [
       "posequal (generic function with 1 method)"
      ]
     },
     "execution_count": 9,
     "metadata": {},
     "output_type": "execute_result"
    }
   ],
   "source": [
    "# Define States\n",
    "struct GridWorldState \n",
    "    x::Int64 # x position\n",
    "    y::Int64 # y position\n",
    "    done::Bool # are we in a terminal state?\n",
    "end\n",
    "\n",
    "# initial state constructor\n",
    "GridWorldState(x::Int64, y::Int64) = GridWorldState(x,y,false)\n",
    "# checks if the position of two states are the same\n",
    "posequal(s1::GridWorldState, s2::GridWorldState) = s1.x == s2.x && s1.y == s2.y"
   ]
  },
  {
   "cell_type": "code",
   "execution_count": 10,
   "id": "63ccb007",
   "metadata": {},
   "outputs": [
    {
     "data": {
      "text/plain": [
       ":up"
      ]
     },
     "execution_count": 10,
     "metadata": {},
     "output_type": "execute_result"
    }
   ],
   "source": [
    "# Define Actions\n",
    "action = :up # can also be :down, :left, :right"
   ]
  },
  {
   "cell_type": "code",
   "execution_count": 20,
   "id": "6daa4a70",
   "metadata": {},
   "outputs": [],
   "source": [
    "# Define Grid World MDP Type\n",
    "mutable struct GridWorld <: MDP{GridWorldState, Symbol} # Note that our MDP is parametarized by the state and the action\n",
    "    size_x::Int64 # x size of the grid\n",
    "    size_y::Int64 # y size of the grid\n",
    "    reward_states::Vector{GridWorldState} # the states in which agent recieves reward\n",
    "    reward_values::Vector{Float64} # reward values for those states\n",
    "    tprob::Float64 # probability of transitioning to the desired state\n",
    "    discount_factor::Float64 # disocunt factor\n",
    "end"
   ]
  },
  {
   "cell_type": "code",
   "execution_count": 18,
   "id": "d914a9e3",
   "metadata": {},
   "outputs": [
    {
     "data": {
      "text/plain": [
       "GridWorld"
      ]
     },
     "execution_count": 18,
     "metadata": {},
     "output_type": "execute_result"
    }
   ],
   "source": [
    "# Create a Constructor for GridWorld\n",
    "#we use key worded arguments so we can change any of the values we pass in \n",
    "function GridWorld(;sx::Int64=5, # size_x\n",
    "                    sy::Int64=5, # size_y\n",
    "                    rs::Vector{GridWorldState}=[GridWorldState(5,3), GridWorldState(3,4), GridWorldState(3,1), GridWorldState(4,3)], # reward states\n",
    "                    rv::Vector{Float64}=rv = [10,-10,-10,-2], # reward values\n",
    "                    tp::Float64=0.8, # tprob\n",
    "                    discount_factor::Float64=0.9)\n",
    "    return GridWorld(sx, sy, rs, rv, tp, discount_factor)\n",
    "end\n"
   ]
  },
  {
   "cell_type": "code",
   "execution_count": 19,
   "id": "ee971e84",
   "metadata": {},
   "outputs": [
    {
     "ename": "LoadError",
     "evalue": "MethodError: no method matching var\"#GridWorld#6\"(::Int64, ::Int64, ::Vector{GridWorldState}, ::Vector{Int64}, ::Float64, ::Float64, ::Type{GridWorld})\n\u001b[0mClosest candidates are:\n\u001b[0m  var\"#GridWorld#6\"(::Int64, ::Int64, ::Vector{GridWorldState}, \u001b[91m::Vector{Float64}\u001b[39m, ::Float64, ::Float64, ::Type{GridWorld}) at In[18]:3",
     "output_type": "error",
     "traceback": [
      "MethodError: no method matching var\"#GridWorld#6\"(::Int64, ::Int64, ::Vector{GridWorldState}, ::Vector{Int64}, ::Float64, ::Float64, ::Type{GridWorld})\n\u001b[0mClosest candidates are:\n\u001b[0m  var\"#GridWorld#6\"(::Int64, ::Int64, ::Vector{GridWorldState}, \u001b[91m::Vector{Float64}\u001b[39m, ::Float64, ::Float64, ::Type{GridWorld}) at In[18]:3",
      "",
      "Stacktrace:",
      " [1] GridWorld()",
      "   @ Main .\\In[18]:9",
      " [2] top-level scope",
      "   @ In[19]:1",
      " [3] eval",
      "   @ .\\boot.jl:360 [inlined]",
      " [4] include_string(mapexpr::typeof(REPL.softscope), mod::Module, code::String, filename::String)",
      "   @ Base .\\loading.jl:1116"
     ]
    }
   ],
   "source": [
    "mdp = GridWorld()\n",
    "mdp.reward_states # mdp contains all the defualt values from the constructor"
   ]
  },
  {
   "cell_type": "code",
   "execution_count": 21,
   "id": "eb553c91",
   "metadata": {},
   "outputs": [],
   "source": [
    "# Define State Space\n",
    "function POMDPs.states(mdp::GridWorld)\n",
    "    s = GridWorldState[] # initialize an array of GridWorldStates\n",
    "    # loop over all our states, remeber there are two binary variables:\n",
    "    # done (d)\n",
    "    for d = 0:1, y = 1:mdp.size_y, x = 1:mdp.size_x\n",
    "        push!(s, GridWorldState(x,y,d))\n",
    "    end\n",
    "    return s\n",
    "end;"
   ]
  },
  {
   "cell_type": "code",
   "execution_count": 22,
   "id": "8e086a8e",
   "metadata": {},
   "outputs": [
    {
     "ename": "LoadError",
     "evalue": "MethodError: no method matching var\"#GridWorld#6\"(::Int64, ::Int64, ::Vector{GridWorldState}, ::Vector{Int64}, ::Float64, ::Float64, ::Type{GridWorld})\n\u001b[0mClosest candidates are:\n\u001b[0m  var\"#GridWorld#6\"(::Int64, ::Int64, ::Vector{GridWorldState}, \u001b[91m::Vector{Float64}\u001b[39m, ::Float64, ::Float64, ::Type{GridWorld}) at In[18]:3",
     "output_type": "error",
     "traceback": [
      "MethodError: no method matching var\"#GridWorld#6\"(::Int64, ::Int64, ::Vector{GridWorldState}, ::Vector{Int64}, ::Float64, ::Float64, ::Type{GridWorld})\n\u001b[0mClosest candidates are:\n\u001b[0m  var\"#GridWorld#6\"(::Int64, ::Int64, ::Vector{GridWorldState}, \u001b[91m::Vector{Float64}\u001b[39m, ::Float64, ::Float64, ::Type{GridWorld}) at In[18]:3",
      "",
      "Stacktrace:",
      " [1] GridWorld()",
      "   @ Main .\\In[18]:9",
      " [2] top-level scope",
      "   @ In[22]:1",
      " [3] eval",
      "   @ .\\boot.jl:360 [inlined]",
      " [4] include_string(mapexpr::typeof(REPL.softscope), mod::Module, code::String, filename::String)",
      "   @ Base .\\loading.jl:1116"
     ]
    }
   ],
   "source": [
    "mdp = GridWorld()\n",
    "state_space = states(mdp);\n",
    "state_space[1]"
   ]
  },
  {
   "cell_type": "code",
   "execution_count": 23,
   "id": "34fc63ce",
   "metadata": {},
   "outputs": [],
   "source": [
    "# Define Action Space\n",
    "POMDPs.actions(mdp::GridWorld) = [:up, :down, :left, :right];"
   ]
  },
  {
   "cell_type": "code",
   "execution_count": null,
   "id": "659ca056",
   "metadata": {},
   "outputs": [],
   "source": []
  }
 ],
 "metadata": {
  "kernelspec": {
   "display_name": "Julia 1.6.2",
   "language": "julia",
   "name": "julia-1.6"
  },
  "language_info": {
   "file_extension": ".jl",
   "mimetype": "application/julia",
   "name": "julia",
   "version": "1.6.2"
  }
 },
 "nbformat": 4,
 "nbformat_minor": 5
}
