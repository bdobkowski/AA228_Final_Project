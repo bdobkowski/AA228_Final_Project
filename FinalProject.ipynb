{
 "cells": [
  {
   "cell_type": "code",
   "execution_count": null,
   "id": "30601c3e",
   "metadata": {},
   "outputs": [],
   "source": [
    "# 228 Final Project\n",
    "# Brian Dobkowski and Bianca Jurewicz\n",
    "\n",
    "# Initialize Packages\n",
    "### Be sure to install these packages on your local computer first###\n",
    "\n",
    "# import POMDPs.jl interface\n",
    "using POMDPs\n",
    "# POMDPModelTools has tools that help build the MDP definition\n",
    "using POMDPModelTools\n",
    "# POMDPPolicies provides functions to help define simple policies\n",
    "using POMDPPolicies\n",
    "# POMDPSimulators provide functions for running MDP simulations\n",
    "using POMDPSimulators\n"
   ]
  }
 ],
 "metadata": {
  "kernelspec": {
   "display_name": "Julia 1.6.2",
   "language": "julia",
   "name": "julia-1.6"
  },
  "language_info": {
   "file_extension": ".jl",
   "mimetype": "application/julia",
   "name": "julia",
   "version": "1.6.2"
  }
 },
 "nbformat": 4,
 "nbformat_minor": 5
}
