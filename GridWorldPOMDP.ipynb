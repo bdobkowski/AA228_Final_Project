{
 "cells": [
  {
   "cell_type": "markdown",
   "metadata": {
    "slideshow": {
     "slide_type": "slide"
    }
   },
   "source": [
    "# Brian and Bianca - Grid World POMDP"
   ]
  },
  {
   "cell_type": "markdown",
   "metadata": {
    "slideshow": {
     "slide_type": "slide"
    }
   },
   "source": [
    "In this tutorial, we try to provide a simple example of how to define a Markov decision process (MDP) problem using the [POMDPs.jl](https://github.com/sisl/POMDPs.jl) interface. After defining the problem in this way, you will be able to use the solvers that the interface supports. In this tutorial, we will show you how to use the value iteration and the Monte Carlo Tree Search solvers that the POMDPs.jl interface supports. We assume that you have some knowledge of basic programming, but are not necessarily familiar with all the features that exist in Julia. We try to cover the many language specific features used in POMDPs.jl in this tutorial. We do assume that you know the grid world problem, and are familiar with the formal defintion of the MDP.  Let's get started!"
   ]
  },
  {
   "cell_type": "markdown",
   "metadata": {},
   "source": [
    "## Dependencies\n",
    "You need to install a few modules in order to use this notebook. If you have all the modules below installed, great! If not run the following commands:\n"
   ]
  },
  {
   "cell_type": "markdown",
   "metadata": {},
   "source": [
    "If you already have all of the modules above, make sure you have the most recent versions. Many of these are still under heavy development, so update before starting by running\n",
    "\n",
    "```julia\n",
    "Pkg.update()\n",
    "```"
   ]
  },
  {
   "cell_type": "code",
   "execution_count": 1,
   "metadata": {
    "jupyter": {
     "outputs_hidden": false
    },
    "slideshow": {
     "slide_type": "slide"
    }
   },
   "outputs": [],
   "source": [
    "# first import the POMDPs.jl interface\n",
    "using POMDPs\n",
    "\n",
    "# POMDPModelTools has tools that help build the MDP definition\n",
    "using POMDPModelTools\n",
    "# POMDPPolicies provides functions to help define simple policies\n",
    "using POMDPPolicies\n",
    "# POMDPSimulators provide functions for running MDP simulations\n",
    "using POMDPSimulators\n",
    "\n",
    "using Debugger\n",
    "\n",
    "using ColorSchemes, Colors\n",
    "using Plots\n",
    "\n",
    "using QMDP"
   ]
  },
  {
   "cell_type": "markdown",
   "metadata": {},
   "source": [
    "## Problem Overview\n",
    "In Grid World, we are trying to control an agent who has trouble moving in the desired direction. In our problem, we have a four reward states on a $10\\times 10$ grid. Each position on the grid represents a state, and the positive reward states are terminal (the agent stops recieveing reward after reaching them). The agent has four actions to choose from: up, down, left, right. The agent moves in the desired direction with a probability of 0.7, and with a probability of 0.1 in each of the remaining three directions. The problem has the following form (checkout [this page](https://artint.info/2e/html/ArtInt2e.Ch9.S5.html) for more information):\n",
    "\n",
    "![example](http://artint.info/figures/ch09/gridworldc.gif)"
   ]
  },
  {
   "cell_type": "markdown",
   "metadata": {},
   "source": [
    "## MDP Type\n",
    "\n",
    "In POMDPs.jl, an MDP is defined by creating a subtype of the `MDP` abstract type. The types of the states and actions for the MDP are declared as [parameters](https://docs.julialang.org/en/v1/manual/types/#Parametric-Types-1) of the `MDP` type.  For example, if our states and actions are both represented by integers we can define our MDP type in the following way:\n",
    "```julia\n",
    "type MyMDP <: MDP{Int64, Int64} # MDP{StateType, ActionType}\n",
    "\n",
    "end\n",
    "```\n",
    "`MyMDP` is a subtype from an abstract MDP type defined in POMDPs.jl. Let's first define types to represent grid worls states and actions, and then we'll go through defining our Grid World MDP type. "
   ]
  },
  {
   "cell_type": "markdown",
   "metadata": {
    "slideshow": {
     "slide_type": "slide"
    }
   },
   "source": [
    "## States\n",
    "The data container below represents the state of the agent in the grid world."
   ]
  },
  {
   "cell_type": "code",
   "execution_count": 2,
   "metadata": {},
   "outputs": [],
   "source": [
    "struct GridWorldState \n",
    "    x::Int64 # x position\n",
    "    y::Int64 # y position\n",
    "    done::Bool # are we in a terminal state?\n",
    "end"
   ]
  },
  {
   "cell_type": "markdown",
   "metadata": {},
   "source": [
    "Below are some convenience functions for working with the GridWorldState. "
   ]
  },
  {
   "cell_type": "code",
   "execution_count": 3,
   "metadata": {
    "jupyter": {
     "outputs_hidden": false
    }
   },
   "outputs": [
    {
     "data": {
      "text/plain": [
       "posequal (generic function with 1 method)"
      ]
     },
     "execution_count": 3,
     "metadata": {},
     "output_type": "execute_result"
    }
   ],
   "source": [
    "# initial state constructor\n",
    "GridWorldState(x::Int64, y::Int64) = GridWorldState(x,y,false)\n",
    "# checks if the position of two states are the same\n",
    "posequal(s1::GridWorldState, s2::GridWorldState) = s1.x == s2.x && s1.y == s2.y"
   ]
  },
  {
   "cell_type": "markdown",
   "metadata": {},
   "source": [
    "## Actions\n",
    "Since our action is simply the direction the agent chooses to go (i.e. up, down, left, right), we can use a Symbol to represent it. Symbols are essentially the same as strings, but they typically consist of only one word and literals begin with \"`:`\". See [this page](https://stackoverflow.com/questions/23480722/what-is-a-symbol-in-julia) for a technical discussion of what they are. Note that in this case, we will not define a custom type for our action, instead we represent it directly with a symbol. So that our action looks like:\n",
    "```julia\n",
    "action = :up # can also be :down, :left, :right\n",
    "```"
   ]
  },
  {
   "cell_type": "markdown",
   "metadata": {},
   "source": [
    "## MDP\n",
    "The GridWorld data container is defined below. It holds all the information we need to define the MDP tuple $$(\\mathcal{S}, \\mathcal{A}, T, R).$$"
   ]
  },
  {
   "cell_type": "code",
   "execution_count": 4,
   "metadata": {},
   "outputs": [],
   "source": [
    "# the grid world mdp type\n",
    "mutable struct GridWorld <: POMDP{GridWorldState, Symbol, GridWorldState} # Note that our MDP is parametarized by the state and the action\n",
    "    size_x::Int64 # x size of the grid\n",
    "    size_y::Int64 # y size of the grid\n",
    "    reward_states::Vector{GridWorldState} # the states in which agent recieves reward\n",
    "    reward_values::Vector{Float64} # reward values for those states\n",
    "    tprob::Float64 # probability of transitioning to the desired state\n",
    "    oprob::Float64 # observation probability of neighboring states\n",
    "    discount_factor::Float64 # disocunt factor\n",
    "end"
   ]
  },
  {
   "cell_type": "markdown",
   "metadata": {},
   "source": [
    "Before moving on, I want to create a constructor for GridWorld for convenience. Currently, if I want to create an instance of GridWorld, I have to pass in all of fields inside the GridWorld container (size_x, size_y, etc). The function below will return a GridWorld type with all the fields filled with some default values."
   ]
  },
  {
   "cell_type": "code",
   "execution_count": 5,
   "metadata": {
    "jupyter": {
     "outputs_hidden": false
    }
   },
   "outputs": [],
   "source": [
    "# #we use key worded arguments so we can change any of the values we pass in \n",
    "# function GridWorld(;sx::Int64=10, # size_x\n",
    "#                     sy::Int64=10, # size_y\n",
    "#                     rs::Vector{GridWorldState}=[GridWorldState(2,2), \n",
    "#             GridWorldState(5,5), \n",
    "#             GridWorldState(7,7), \n",
    "#             GridWorldState(8,8)], # reward states\n",
    "#                     rv::Vector{Float64}=rv = [10.,-5.,-10.,3.], # reward values\n",
    "#                     tp::Float64=0.7, # tprob\n",
    "#                     op::Float64=0.8, # observation prob\n",
    "#                     discount_factor::Float64=0.9)\n",
    "#     return GridWorld(sx, sy, rs, rv, tp, op, discount_factor)\n",
    "# end\n",
    "\n",
    "# # we can now create a GridWorld mdp instance like this:\n",
    "# mdp = GridWorld()\n",
    "# mdp.reward_states # mdp contains all the defualt values from the constructor"
   ]
  },
  {
   "cell_type": "code",
   "execution_count": 6,
   "metadata": {},
   "outputs": [
    {
     "data": {
      "text/plain": [
       "2-element Vector{GridWorldState}:\n",
       " GridWorldState(2, 2, false)\n",
       " GridWorldState(3, 3, false)"
      ]
     },
     "execution_count": 6,
     "metadata": {},
     "output_type": "execute_result"
    }
   ],
   "source": [
    "#we use key worded arguments so we can change any of the values we pass in \n",
    "function GridWorld(;sx::Int64=3, # size_x\n",
    "                    sy::Int64=3, # size_y\n",
    "                    rs::Vector{GridWorldState}=[GridWorldState(2,2), GridWorldState(3,3)], # reward states\n",
    "                    rv::Vector{Float64}=rv = [10.,-5.], # reward values\n",
    "                    tp::Float64=0.7, # tprob\n",
    "                    op::Float64=0.8, # observation prob\n",
    "                    discount_factor::Float64=0.9)\n",
    "    return GridWorld(sx, sy, rs, rv, tp, op, discount_factor)\n",
    "end\n",
    "\n",
    "# we can now create a GridWorld mdp instance like this:\n",
    "mdp = GridWorld()\n",
    "mdp.reward_states # mdp contains all the defualt values from the constructor"
   ]
  },
  {
   "cell_type": "markdown",
   "metadata": {},
   "source": [
    "## Spaces\n",
    "Let's look at how we can define the state and action spaces for our problem."
   ]
  },
  {
   "cell_type": "markdown",
   "metadata": {},
   "source": [
    "### State Space\n",
    "The state space in an MDP represents all the states in the problem. There are two primary functionalities that we want our spaces to support. We want to be able to iterate over the state space (for Value Iteration for example), and sometimes we want to be able to sample form the state space (used in some POMDP solvers). In this notebook, we will only look at iterable state spaces. "
   ]
  },
  {
   "cell_type": "markdown",
   "metadata": {},
   "source": [
    "Since we can iterate over elements of an array, and our problem is small, we can store all of our states in an array. If your problem is very large (tens of millions of states), it might be worthwhile to create a custom type to define the problem's state space. See [the documentation](https://docs.julialang.org/en/v1/manual/interfaces/) on which functions you need to implement in order to create your own iterator. "
   ]
  },
  {
   "cell_type": "code",
   "execution_count": 7,
   "metadata": {},
   "outputs": [],
   "source": [
    "function POMDPs.states(mdp::GridWorld)\n",
    "    s = GridWorldState[] # initialize an array of GridWorldStates\n",
    "    # loop over all our states, remeber there are two binary variables:\n",
    "    # done (d)\n",
    "    for d = 0:1, y = 1:mdp.size_y, x = 1:mdp.size_x\n",
    "        push!(s, GridWorldState(x,y,d))\n",
    "    end\n",
    "    return s\n",
    "end;\n",
    "\n",
    "function POMDPs.observations(mdp::GridWorld)\n",
    "    s = GridWorldState[] # initialize an array of GridWorldStates\n",
    "    # loop over all our states, remeber there are two binary variables:\n",
    "    # done (d)\n",
    "    for d = 0:1, y = 1:mdp.size_y, x = 1:mdp.size_x\n",
    "        push!(s, GridWorldState(x,y,d))\n",
    "    end\n",
    "    return s\n",
    "end;"
   ]
  },
  {
   "cell_type": "markdown",
   "metadata": {},
   "source": [
    "Here, the code: ```function POMDPs.states(mdp::GridWorld)``` means that we want to take the function called ```states(...)``` from the POMDPs.jl module and add another method to it. The ```states(...)``` function in POMDPs.jl doesn't know about our GridWorld type. However, now when ```states(...)``` is called with GridWorld it will dispatch the function we defined above! This is the awesome thing about multiple-dispatch, and one of the features that should make working with MDP/POMDPs easier in Julia. \n",
    "\n",
    "The solvers that support the POMDPs.jl interface know that a function called ```states(...)``` exists in the interface. However, they do not know the behavior of that function for GridWorld. That means in order for the solvers to use this behavior all we have to do is pass an instance of our GridWorld type into the solver. When ```states(...)``` is called in the solver with the GridWorld type, the function above will be called.   "
   ]
  },
  {
   "cell_type": "code",
   "execution_count": 8,
   "metadata": {
    "jupyter": {
     "outputs_hidden": false
    }
   },
   "outputs": [
    {
     "data": {
      "text/plain": [
       "18-element Vector{GridWorldState}:\n",
       " GridWorldState(1, 1, false)\n",
       " GridWorldState(2, 1, false)\n",
       " GridWorldState(3, 1, false)\n",
       " GridWorldState(1, 2, false)\n",
       " GridWorldState(2, 2, false)\n",
       " GridWorldState(3, 2, false)\n",
       " GridWorldState(1, 3, false)\n",
       " GridWorldState(2, 3, false)\n",
       " GridWorldState(3, 3, false)\n",
       " GridWorldState(1, 1, true)\n",
       " GridWorldState(2, 1, true)\n",
       " GridWorldState(3, 1, true)\n",
       " GridWorldState(1, 2, true)\n",
       " GridWorldState(2, 2, true)\n",
       " GridWorldState(3, 2, true)\n",
       " GridWorldState(1, 3, true)\n",
       " GridWorldState(2, 3, true)\n",
       " GridWorldState(3, 3, true)"
      ]
     },
     "execution_count": 8,
     "metadata": {},
     "output_type": "execute_result"
    }
   ],
   "source": [
    "mdp = GridWorld()\n",
    "state_space = states(mdp)\n",
    "state_space[1]\n",
    "state_space"
   ]
  },
  {
   "cell_type": "markdown",
   "metadata": {},
   "source": [
    "### Action Space"
   ]
  },
  {
   "cell_type": "markdown",
   "metadata": {},
   "source": [
    "The action space is the set of all actions availiable to the agent. In the grid world problem the action space consists of up, down, left, and right. We can define the action space by implementing a new method of the `actions` function."
   ]
  },
  {
   "cell_type": "code",
   "execution_count": 9,
   "metadata": {},
   "outputs": [
    {
     "data": {
      "text/plain": [
       "reward (generic function with 6 methods)"
      ]
     },
     "execution_count": 9,
     "metadata": {},
     "output_type": "execute_result"
    }
   ],
   "source": [
    "POMDPs.actions(mdp::GridWorld) = [:up, :down, :left, :right];\n",
    "states(mdp)\n",
    "reward\n"
   ]
  },
  {
   "cell_type": "markdown",
   "metadata": {},
   "source": [
    "Now that we've defined our state and action spaces, we are half-way thorugh our MDP tuple:\n",
    "$$\n",
    "(\\mathcal{S}, \\mathcal{A}, T, R)\n",
    "$$"
   ]
  },
  {
   "cell_type": "markdown",
   "metadata": {},
   "source": [
    "## Reward Model\n",
    "The reward model $R(s,a,s')$ is a function that returns the reward of being in state $s$, taking an action $a$ from that state, and ending up in state $s'$. In our problem, we are rewarded for reaching a terminal reward state (this could be positive or negative)."
   ]
  },
  {
   "cell_type": "code",
   "execution_count": 10,
   "metadata": {},
   "outputs": [],
   "source": [
    "function POMDPs.reward(mdp::GridWorld, state::GridWorldState, action::Symbol, statep::GridWorldState) #deleted action\n",
    "    if state.done\n",
    "        return 0.0\n",
    "    end\n",
    "    r = 0.0\n",
    "    n = length(mdp.reward_states)\n",
    "    for i = 1:n\n",
    "        if posequal(state, mdp.reward_states[i])\n",
    "            r += mdp.reward_values[i]\n",
    "        end\n",
    "    end\n",
    "    return r\n",
    "end;\n"
   ]
  },
  {
   "cell_type": "markdown",
   "metadata": {},
   "source": [
    "## Plotting Function"
   ]
  },
  {
   "cell_type": "code",
   "execution_count": 11,
   "metadata": {},
   "outputs": [
    {
     "data": {
      "image/svg+xml": [
       "<?xml version=\"1.0\" encoding=\"UTF-8\"?>\n",
       "<!DOCTYPE svg PUBLIC \"-//W3C//DTD SVG 1.1//EN\"\n",
       " \"http://www.w3.org/Graphics/SVG/1.1/DTD/svg11.dtd\">\n",
       "<svg xmlns=\"http://www.w3.org/2000/svg\" version=\"1.1\"\n",
       "     width=\"75mm\" height=\"25mm\"\n",
       "     viewBox=\"0 0 3 1\" preserveAspectRatio=\"none\"\n",
       "     shape-rendering=\"crispEdges\" stroke=\"none\">\n",
       "<rect width=\".96\" height=\".96\" x=\"0\" y=\"0\" fill=\"#B40000\" />\n",
       "<rect width=\".96\" height=\".96\" x=\"1\" y=\"0\" fill=\"#FFFFFF\" />\n",
       "<rect width=\".96\" height=\".96\" x=\"2\" y=\"0\" fill=\"#006400\" />\n",
       "</svg>"
      ],
      "text/plain": [
       "ColorScheme{Vector{RGB{Float64}}, String, String}(RGB{Float64}[RGB{Float64}(0.7058823529411765,0.0,0.0), RGB{Float64}(1.0,1.0,1.0), RGB{Float64}(0.0,0.39215686274509803,0.0)], \"custom\", \"threetone, red, white, and green\")"
      ]
     },
     "execution_count": 11,
     "metadata": {},
     "output_type": "execute_result"
    }
   ],
   "source": [
    "function get_rewards(mdp::POMDP, policy::Policy)\n",
    "        null_state = GridWorldState(-1, -1)\n",
    "        valid_states = setdiff(states(mdp), [null_state])\n",
    "        states(mdp)\n",
    "        U = map(s->reward(mdp, s, :up, GridWorldState(-1,-1)), valid_states)\n",
    "end\n",
    "\n",
    "function values(mdp::POMDP, policy::Policy)\n",
    "        null_state = GridWorldState(-1, -1)\n",
    "        valid_states = setdiff(states(mdp), [null_state])\n",
    "        U = map(s->value(policy, s), valid_states)\n",
    "end\n",
    "\n",
    "struct NothingPolicy <: Policy end\n",
    "\n",
    "function policy_grid(policy::Policy, xmax::Int, ymax::Int)\n",
    "    arrows = Dict(:up => \"↑\",\n",
    "                  :down => \"↓\",\n",
    "                  :left => \"←\",\n",
    "                  :right => \"→\")\n",
    "    grid = Array{String}(undef, xmax, ymax)\n",
    "    for x = 1:xmax, y = 1:xmax\n",
    "        s = GridWorldState(x, y)\n",
    "        grid[x,y] = arrows[action(policy, s)]\n",
    "    end\n",
    "    return grid\n",
    "end\n",
    "\n",
    "cmap = ColorScheme([Colors.RGB(180/255, 0.0, 0.0), Colors.RGB(1, 1, 1), Colors.RGB(0.0, 100/255, 0.0)], \"custom\", \"threetone, red, white, and green\")"
   ]
  },
  {
   "cell_type": "code",
   "execution_count": 12,
   "metadata": {},
   "outputs": [
    {
     "data": {
      "text/plain": [
       "plot_grid_world (generic function with 4 methods)"
      ]
     },
     "execution_count": 12,
     "metadata": {},
     "output_type": "execute_result"
    }
   ],
   "source": [
    "function plot_grid_world(mdp::POMDP,\n",
    "        policy::Policy=NothingPolicy(),\n",
    "        iter=0,\n",
    "        discount=NaN;\n",
    "        outline=true,\n",
    "        show_policy=true,\n",
    "        extra_title=isnan(discount) ? \"\" : \" (iter=$iter, γ=$discount)\",\n",
    "        show_rewards=false,\n",
    "        outline_state::Union{GridWorldState, Nothing}=nothing)\n",
    "    \n",
    "    #gr()\n",
    "\n",
    "    if policy isa NothingPolicy\n",
    "        # override when the policy is empty\n",
    "        show_policy = false\n",
    "    end\n",
    "    \n",
    "    if iter == 0\n",
    "        # solver has not been run yet, so we just plot the raw rewards\n",
    "        # overwrite policy at time=0 to be emp\n",
    "        U = get_rewards(mdp, policy)\n",
    "    else\n",
    "        # otherwise, use the Value Function to get the values (i.e., utility)\n",
    "        U = values(mdp, policy)\n",
    "    end\n",
    "\n",
    "    # reshape to grid\n",
    "    \n",
    "    xmax = mdp.size_x\n",
    "    ymax = mdp.size_y\n",
    "        \n",
    "    Uxy = reshape(U[1:xmax*ymax], xmax, ymax) # need first 100 states because of boolean flags\n",
    "\n",
    "    # plot values (i.e the U matrix)\n",
    "    fig = heatmap(Uxy',\n",
    "                  legend=:none,\n",
    "                  aspect_ratio=:equal,\n",
    "                  framestyle=:box,\n",
    "                  tickdirection=:out,\n",
    "                  color=cmap.colors)\n",
    "    xlims!(0.5, xmax+0.5)\n",
    "    ylims!(0.5, ymax+0.5)\n",
    "    xticks!(1:xmax)\n",
    "    yticks!(1:ymax)\n",
    "\n",
    "    rectangle(w, h, x, y) = Shape(x .+ [0,w,w,0], y .+ [0,0,h,h])\n",
    "    \n",
    "    if show_rewards\n",
    "        for s in filter(s->reward(mdp, s, :up, GridWorldState(-1,-1)) != 0, states(mdp))\n",
    "            r = reward(mdp, s, :up, GridWorldState(-1,-1))\n",
    "            annotate!([(s.x, s.y, (r, :white, :center, 12, \"Computer Modern\"))])\n",
    "        end\n",
    "    end\n",
    "    \n",
    "    for x in 1:xmax, y in 1:ymax\n",
    "        # display policy on the plot as arrows\n",
    "        if show_policy\n",
    "            grid = policy_grid(policy, xmax, ymax)\n",
    "            annotate!([(x, y, (grid[x,y], :center, 12, \"Computer Modern\"))])\n",
    "        end\n",
    "        if outline\n",
    "            rect = rectangle(1, 1, x - 0.5, y - 0.5)\n",
    "            plot!(rect, fillalpha=0, linecolor=:gray)\n",
    "        end\n",
    "    end\n",
    "\n",
    "    if !isnothing(outline_state)\n",
    "        terminal_states = filter(s->reward(mdp, s) != 0, states(mdp))\n",
    "        color = (outline_state in terminal_states) ? \"yellow\" : \"blue\"\n",
    "        rect = rectangle(1, 1, outline_state.x - 0.5, outline_state.y - 0.5)\n",
    "        plot!(rect, fillalpha=0, linecolor=color)\n",
    "    end\n",
    "\n",
    "    title!(\"Grid World Policy Plot$extra_title\")\n",
    "\n",
    "    return fig\n",
    "end"
   ]
  },
  {
   "cell_type": "code",
   "execution_count": 13,
   "metadata": {},
   "outputs": [
    {
     "data": {
      "image/svg+xml": [
       "<?xml version=\"1.0\" encoding=\"utf-8\"?>\n",
       "<svg xmlns=\"http://www.w3.org/2000/svg\" xmlns:xlink=\"http://www.w3.org/1999/xlink\" width=\"600\" height=\"400\" viewBox=\"0 0 2400 1600\">\n",
       "<defs>\n",
       "  <clipPath id=\"clip210\">\n",
       "    <rect x=\"0\" y=\"0\" width=\"2400\" height=\"1600\"/>\n",
       "  </clipPath>\n",
       "</defs>\n",
       "<path clip-path=\"url(#clip210)\" d=\"\n",
       "M0 1600 L2400 1600 L2400 0 L0 0  Z\n",
       "  \" fill=\"#ffffff\" fill-rule=\"evenodd\" fill-opacity=\"1\"/>\n",
       "<defs>\n",
       "  <clipPath id=\"clip211\">\n",
       "    <rect x=\"480\" y=\"0\" width=\"1681\" height=\"1600\"/>\n",
       "  </clipPath>\n",
       "</defs>\n",
       "<path clip-path=\"url(#clip210)\" d=\"\n",
       "M549.763 1486.45 L1912.74 1486.45 L1912.74 123.472 L549.763 123.472  Z\n",
       "  \" fill=\"#ffffff\" fill-rule=\"evenodd\" fill-opacity=\"1\"/>\n",
       "<defs>\n",
       "  <clipPath id=\"clip212\">\n",
       "    <rect x=\"549\" y=\"123\" width=\"1364\" height=\"1364\"/>\n",
       "  </clipPath>\n",
       "</defs>\n",
       "<polyline clip-path=\"url(#clip212)\" style=\"stroke:#000000; stroke-linecap:butt; stroke-linejoin:round; stroke-width:2; stroke-opacity:0.1; fill:none\" points=\"\n",
       "  776.926,1486.45 776.926,123.472 \n",
       "  \"/>\n",
       "<polyline clip-path=\"url(#clip212)\" style=\"stroke:#000000; stroke-linecap:butt; stroke-linejoin:round; stroke-width:2; stroke-opacity:0.1; fill:none\" points=\"\n",
       "  1231.25,1486.45 1231.25,123.472 \n",
       "  \"/>\n",
       "<polyline clip-path=\"url(#clip212)\" style=\"stroke:#000000; stroke-linecap:butt; stroke-linejoin:round; stroke-width:2; stroke-opacity:0.1; fill:none\" points=\"\n",
       "  1685.58,1486.45 1685.58,123.472 \n",
       "  \"/>\n",
       "<polyline clip-path=\"url(#clip210)\" style=\"stroke:#000000; stroke-linecap:butt; stroke-linejoin:round; stroke-width:4; stroke-opacity:1; fill:none\" points=\"\n",
       "  549.763,1486.45 1912.74,1486.45 \n",
       "  \"/>\n",
       "<polyline clip-path=\"url(#clip210)\" style=\"stroke:#000000; stroke-linecap:butt; stroke-linejoin:round; stroke-width:4; stroke-opacity:1; fill:none\" points=\"\n",
       "  549.763,123.472 1912.74,123.472 \n",
       "  \"/>\n",
       "<polyline clip-path=\"url(#clip210)\" style=\"stroke:#000000; stroke-linecap:butt; stroke-linejoin:round; stroke-width:4; stroke-opacity:1; fill:none\" points=\"\n",
       "  776.926,1486.45 776.926,1505.35 \n",
       "  \"/>\n",
       "<polyline clip-path=\"url(#clip210)\" style=\"stroke:#000000; stroke-linecap:butt; stroke-linejoin:round; stroke-width:4; stroke-opacity:1; fill:none\" points=\"\n",
       "  1231.25,1486.45 1231.25,1505.35 \n",
       "  \"/>\n",
       "<polyline clip-path=\"url(#clip210)\" style=\"stroke:#000000; stroke-linecap:butt; stroke-linejoin:round; stroke-width:4; stroke-opacity:1; fill:none\" points=\"\n",
       "  1685.58,1486.45 1685.58,1505.35 \n",
       "  \"/>\n",
       "<path clip-path=\"url(#clip210)\" d=\"M767.308 1554.51 L774.947 1554.51 L774.947 1528.15 L766.637 1529.81 L766.637 1525.55 L774.901 1523.89 L779.576 1523.89 L779.576 1554.51 L787.215 1554.51 L787.215 1558.45 L767.308 1558.45 L767.308 1554.51 Z\" fill=\"#000000\" fill-rule=\"evenodd\" fill-opacity=\"1\" /><path clip-path=\"url(#clip210)\" d=\"M1225.9 1554.51 L1242.22 1554.51 L1242.22 1558.45 L1220.28 1558.45 L1220.28 1554.51 Q1222.94 1551.76 1227.52 1547.13 Q1232.13 1542.48 1233.31 1541.13 Q1235.56 1538.61 1236.44 1536.87 Q1237.34 1535.11 1237.34 1533.42 Q1237.34 1530.67 1235.39 1528.93 Q1233.47 1527.2 1230.37 1527.2 Q1228.17 1527.2 1225.72 1527.96 Q1223.29 1528.73 1220.51 1530.28 L1220.51 1525.55 Q1223.33 1524.42 1225.79 1523.84 Q1228.24 1523.26 1230.28 1523.26 Q1235.65 1523.26 1238.84 1525.95 Q1242.04 1528.63 1242.04 1533.12 Q1242.04 1535.25 1241.23 1537.17 Q1240.44 1539.07 1238.33 1541.67 Q1237.76 1542.34 1234.65 1545.55 Q1231.55 1548.75 1225.9 1554.51 Z\" fill=\"#000000\" fill-rule=\"evenodd\" fill-opacity=\"1\" /><path clip-path=\"url(#clip210)\" d=\"M1689.82 1539.81 Q1693.18 1540.53 1695.06 1542.8 Q1696.95 1545.07 1696.95 1548.4 Q1696.95 1553.52 1693.44 1556.32 Q1689.92 1559.12 1683.44 1559.12 Q1681.26 1559.12 1678.94 1558.68 Q1676.65 1558.26 1674.2 1557.41 L1674.2 1552.89 Q1676.14 1554.03 1678.46 1554.61 Q1680.77 1555.18 1683.3 1555.18 Q1687.69 1555.18 1689.99 1553.45 Q1692.3 1551.71 1692.3 1548.4 Q1692.3 1545.35 1690.15 1543.63 Q1688.02 1541.9 1684.2 1541.9 L1680.17 1541.9 L1680.17 1538.05 L1684.38 1538.05 Q1687.83 1538.05 1689.66 1536.69 Q1691.49 1535.3 1691.49 1532.71 Q1691.49 1530.05 1689.59 1528.63 Q1687.72 1527.2 1684.2 1527.2 Q1682.28 1527.2 1680.08 1527.61 Q1677.88 1528.03 1675.24 1528.91 L1675.24 1524.74 Q1677.9 1524 1680.22 1523.63 Q1682.56 1523.26 1684.62 1523.26 Q1689.94 1523.26 1693.04 1525.69 Q1696.14 1528.1 1696.14 1532.22 Q1696.14 1535.09 1694.5 1537.08 Q1692.86 1539.05 1689.82 1539.81 Z\" fill=\"#000000\" fill-rule=\"evenodd\" fill-opacity=\"1\" /><polyline clip-path=\"url(#clip212)\" style=\"stroke:#000000; stroke-linecap:butt; stroke-linejoin:round; stroke-width:2; stroke-opacity:0.1; fill:none\" points=\"\n",
       "  549.763,1259.29 1912.74,1259.29 \n",
       "  \"/>\n",
       "<polyline clip-path=\"url(#clip212)\" style=\"stroke:#000000; stroke-linecap:butt; stroke-linejoin:round; stroke-width:2; stroke-opacity:0.1; fill:none\" points=\"\n",
       "  549.763,804.96 1912.74,804.96 \n",
       "  \"/>\n",
       "<polyline clip-path=\"url(#clip212)\" style=\"stroke:#000000; stroke-linecap:butt; stroke-linejoin:round; stroke-width:2; stroke-opacity:0.1; fill:none\" points=\"\n",
       "  549.763,350.635 1912.74,350.635 \n",
       "  \"/>\n",
       "<polyline clip-path=\"url(#clip210)\" style=\"stroke:#000000; stroke-linecap:butt; stroke-linejoin:round; stroke-width:4; stroke-opacity:1; fill:none\" points=\"\n",
       "  549.763,1486.45 549.763,123.472 \n",
       "  \"/>\n",
       "<polyline clip-path=\"url(#clip210)\" style=\"stroke:#000000; stroke-linecap:butt; stroke-linejoin:round; stroke-width:4; stroke-opacity:1; fill:none\" points=\"\n",
       "  1912.74,1486.45 1912.74,123.472 \n",
       "  \"/>\n",
       "<polyline clip-path=\"url(#clip210)\" style=\"stroke:#000000; stroke-linecap:butt; stroke-linejoin:round; stroke-width:4; stroke-opacity:1; fill:none\" points=\"\n",
       "  549.763,1259.29 538.28,1259.29 \n",
       "  \"/>\n",
       "<polyline clip-path=\"url(#clip210)\" style=\"stroke:#000000; stroke-linecap:butt; stroke-linejoin:round; stroke-width:4; stroke-opacity:1; fill:none\" points=\"\n",
       "  549.763,804.96 538.28,804.96 \n",
       "  \"/>\n",
       "<polyline clip-path=\"url(#clip210)\" style=\"stroke:#000000; stroke-linecap:butt; stroke-linejoin:round; stroke-width:4; stroke-opacity:1; fill:none\" points=\"\n",
       "  549.763,350.635 538.28,350.635 \n",
       "  \"/>\n",
       "<path clip-path=\"url(#clip210)\" d=\"M475.856 1272.63 L483.495 1272.63 L483.495 1246.26 L475.185 1247.93 L475.185 1243.67 L483.449 1242.01 L488.125 1242.01 L488.125 1272.63 L495.763 1272.63 L495.763 1276.57 L475.856 1276.57 L475.856 1272.63 Z\" fill=\"#000000\" fill-rule=\"evenodd\" fill-opacity=\"1\" /><path clip-path=\"url(#clip210)\" d=\"M479.444 818.305 L495.763 818.305 L495.763 822.24 L473.819 822.24 L473.819 818.305 Q476.481 815.55 481.064 810.921 Q485.671 806.268 486.851 804.925 Q489.097 802.402 489.976 800.666 Q490.879 798.907 490.879 797.217 Q490.879 794.462 488.935 792.726 Q487.013 790.99 483.912 790.99 Q481.713 790.99 479.259 791.754 Q476.828 792.518 474.051 794.069 L474.051 789.347 Q476.875 788.212 479.328 787.634 Q481.782 787.055 483.819 787.055 Q489.189 787.055 492.384 789.74 Q495.578 792.425 495.578 796.916 Q495.578 799.046 494.768 800.967 Q493.981 802.865 491.875 805.458 Q491.296 806.129 488.194 809.347 Q485.092 812.541 479.444 818.305 Z\" fill=\"#000000\" fill-rule=\"evenodd\" fill-opacity=\"1\" /><path clip-path=\"url(#clip210)\" d=\"M488.634 349.281 Q491.99 349.998 493.865 352.267 Q495.763 354.535 495.763 357.869 Q495.763 362.984 492.245 365.785 Q488.726 368.586 482.245 368.586 Q480.069 368.586 477.754 368.146 Q475.463 367.73 473.009 366.873 L473.009 362.359 Q474.953 363.493 477.268 364.072 Q479.583 364.651 482.106 364.651 Q486.504 364.651 488.796 362.915 Q491.111 361.179 491.111 357.869 Q491.111 354.813 488.958 353.1 Q486.828 351.364 483.009 351.364 L478.981 351.364 L478.981 347.521 L483.194 347.521 Q486.643 347.521 488.472 346.156 Q490.3 344.767 490.3 342.174 Q490.3 339.512 488.402 338.1 Q486.527 336.665 483.009 336.665 Q481.088 336.665 478.888 337.082 Q476.689 337.498 474.051 338.378 L474.051 334.211 Q476.713 333.47 479.027 333.1 Q481.365 332.73 483.425 332.73 Q488.75 332.73 491.851 335.16 Q494.953 337.568 494.953 341.688 Q494.953 344.558 493.31 346.549 Q491.666 348.517 488.634 349.281 Z\" fill=\"#000000\" fill-rule=\"evenodd\" fill-opacity=\"1\" /><path clip-path=\"url(#clip210)\" d=\"M836.308 63.9476 L836.308 47.7034 L822.94 47.7034 L822.94 40.9789 L844.41 40.9789 L844.41 66.9452 Q839.671 70.3075 833.959 72.0494 Q828.247 73.7508 821.766 73.7508 Q807.587 73.7508 799.567 65.4869 Q791.586 57.1826 791.586 42.3968 Q791.586 27.5705 799.567 19.3066 Q807.587 11.0023 821.766 11.0023 Q827.68 11.0023 832.987 12.4606 Q838.334 13.9189 842.83 16.7545 L842.83 25.464 Q838.293 21.6156 833.189 19.6712 Q828.085 17.7268 822.454 17.7268 Q811.355 17.7268 805.765 23.9246 Q800.215 30.1225 800.215 42.3968 Q800.215 54.6305 805.765 60.8284 Q811.355 67.0263 822.454 67.0263 Q826.789 67.0263 830.191 66.2971 Q833.594 65.5274 836.308 63.9476 Z\" fill=\"#000000\" fill-rule=\"evenodd\" fill-opacity=\"1\" /><path clip-path=\"url(#clip210)\" d=\"M885.324 34.1734 Q884.069 33.4443 882.57 33.1202 Q881.111 32.7556 879.329 32.7556 Q873.01 32.7556 869.607 36.8875 Q866.245 40.9789 866.245 48.6757 L866.245 72.576 L858.75 72.576 L858.75 27.2059 L866.245 27.2059 L866.245 34.2544 Q868.594 30.1225 872.361 28.1376 Q876.129 26.1121 881.516 26.1121 Q882.286 26.1121 883.218 26.2337 Q884.15 26.3147 885.284 26.5172 L885.324 34.1734 Z\" fill=\"#000000\" fill-rule=\"evenodd\" fill-opacity=\"1\" /><path clip-path=\"url(#clip210)\" d=\"M893.143 27.2059 L900.596 27.2059 L900.596 72.576 L893.143 72.576 L893.143 27.2059 M893.143 9.54393 L900.596 9.54393 L900.596 18.9825 L893.143 18.9825 L893.143 9.54393 Z\" fill=\"#000000\" fill-rule=\"evenodd\" fill-opacity=\"1\" /><path clip-path=\"url(#clip210)\" d=\"M946.047 34.0924 L946.047 9.54393 L953.501 9.54393 L953.501 72.576 L946.047 72.576 L946.047 65.7705 Q943.698 69.8214 940.093 71.8063 Q936.528 73.7508 931.505 73.7508 Q923.281 73.7508 918.096 67.1883 Q912.951 60.6258 912.951 49.9314 Q912.951 39.2371 918.096 32.6746 Q923.281 26.1121 931.505 26.1121 Q936.528 26.1121 940.093 28.0971 Q943.698 30.0415 946.047 34.0924 M920.648 49.9314 Q920.648 58.1548 924.01 62.8538 Q927.413 67.5124 933.328 67.5124 Q939.242 67.5124 942.645 62.8538 Q946.047 58.1548 946.047 49.9314 Q946.047 41.7081 942.645 37.0496 Q939.242 32.3505 933.328 32.3505 Q927.413 32.3505 924.01 37.0496 Q920.648 41.7081 920.648 49.9314 Z\" fill=\"#000000\" fill-rule=\"evenodd\" fill-opacity=\"1\" /><path clip-path=\"url(#clip210)\" d=\"M990.162 12.096 L998.426 12.096 L1011.15 63.2184 L1023.82 12.096 L1033.02 12.096 L1045.74 63.2184 L1058.42 12.096 L1066.72 12.096 L1051.53 72.576 L1041.24 72.576 L1028.48 20.0763 L1015.6 72.576 L1005.31 72.576 L990.162 12.096 Z\" fill=\"#000000\" fill-rule=\"evenodd\" fill-opacity=\"1\" /><path clip-path=\"url(#clip210)\" d=\"M1089.98 32.4315 Q1083.98 32.4315 1080.5 37.1306 Q1077.01 41.7891 1077.01 49.9314 Q1077.01 58.0738 1080.46 62.7728 Q1083.94 67.4314 1089.98 67.4314 Q1095.93 67.4314 1099.41 62.7323 Q1102.9 58.0333 1102.9 49.9314 Q1102.9 41.8701 1099.41 37.1711 Q1095.93 32.4315 1089.98 32.4315 M1089.98 26.1121 Q1099.7 26.1121 1105.25 32.4315 Q1110.8 38.7509 1110.8 49.9314 Q1110.8 61.0714 1105.25 67.4314 Q1099.7 73.7508 1089.98 73.7508 Q1080.21 73.7508 1074.66 67.4314 Q1069.15 61.0714 1069.15 49.9314 Q1069.15 38.7509 1074.66 32.4315 Q1080.21 26.1121 1089.98 26.1121 Z\" fill=\"#000000\" fill-rule=\"evenodd\" fill-opacity=\"1\" /><path clip-path=\"url(#clip210)\" d=\"M1149.44 34.1734 Q1148.19 33.4443 1146.69 33.1202 Q1145.23 32.7556 1143.45 32.7556 Q1137.13 32.7556 1133.73 36.8875 Q1130.36 40.9789 1130.36 48.6757 L1130.36 72.576 L1122.87 72.576 L1122.87 27.2059 L1130.36 27.2059 L1130.36 34.2544 Q1132.71 30.1225 1136.48 28.1376 Q1140.25 26.1121 1145.64 26.1121 Q1146.41 26.1121 1147.34 26.2337 Q1148.27 26.3147 1149.4 26.5172 L1149.44 34.1734 Z\" fill=\"#000000\" fill-rule=\"evenodd\" fill-opacity=\"1\" /><path clip-path=\"url(#clip210)\" d=\"M1157.26 9.54393 L1164.72 9.54393 L1164.72 72.576 L1157.26 72.576 L1157.26 9.54393 Z\" fill=\"#000000\" fill-rule=\"evenodd\" fill-opacity=\"1\" /><path clip-path=\"url(#clip210)\" d=\"M1210.17 34.0924 L1210.17 9.54393 L1217.62 9.54393 L1217.62 72.576 L1210.17 72.576 L1210.17 65.7705 Q1207.82 69.8214 1204.21 71.8063 Q1200.65 73.7508 1195.62 73.7508 Q1187.4 73.7508 1182.22 67.1883 Q1177.07 60.6258 1177.07 49.9314 Q1177.07 39.2371 1182.22 32.6746 Q1187.4 26.1121 1195.62 26.1121 Q1200.65 26.1121 1204.21 28.0971 Q1207.82 30.0415 1210.17 34.0924 M1184.77 49.9314 Q1184.77 58.1548 1188.13 62.8538 Q1191.53 67.5124 1197.45 67.5124 Q1203.36 67.5124 1206.76 62.8538 Q1210.17 58.1548 1210.17 49.9314 Q1210.17 41.7081 1206.76 37.0496 Q1203.36 32.3505 1197.45 32.3505 Q1191.53 32.3505 1188.13 37.0496 Q1184.77 41.7081 1184.77 49.9314 Z\" fill=\"#000000\" fill-rule=\"evenodd\" fill-opacity=\"1\" /><path clip-path=\"url(#clip210)\" d=\"M1267.85 18.8205 L1267.85 41.5461 L1278.14 41.5461 Q1283.85 41.5461 1286.97 38.5889 Q1290.09 35.6318 1290.09 30.163 Q1290.09 24.7348 1286.97 21.7777 Q1283.85 18.8205 1278.14 18.8205 L1267.85 18.8205 M1259.67 12.096 L1278.14 12.096 Q1288.31 12.096 1293.49 16.714 Q1298.72 21.2916 1298.72 30.163 Q1298.72 39.1155 1293.49 43.6931 Q1288.31 48.2706 1278.14 48.2706 L1267.85 48.2706 L1267.85 72.576 L1259.67 72.576 L1259.67 12.096 Z\" fill=\"#000000\" fill-rule=\"evenodd\" fill-opacity=\"1\" /><path clip-path=\"url(#clip210)\" d=\"M1324 32.4315 Q1318 32.4315 1314.52 37.1306 Q1311.03 41.7891 1311.03 49.9314 Q1311.03 58.0738 1314.48 62.7728 Q1317.96 67.4314 1324 67.4314 Q1329.95 67.4314 1333.44 62.7323 Q1336.92 58.0333 1336.92 49.9314 Q1336.92 41.8701 1333.44 37.1711 Q1329.95 32.4315 1324 32.4315 M1324 26.1121 Q1333.72 26.1121 1339.27 32.4315 Q1344.82 38.7509 1344.82 49.9314 Q1344.82 61.0714 1339.27 67.4314 Q1333.72 73.7508 1324 73.7508 Q1314.23 73.7508 1308.68 67.4314 Q1303.18 61.0714 1303.18 49.9314 Q1303.18 38.7509 1308.68 32.4315 Q1314.23 26.1121 1324 26.1121 Z\" fill=\"#000000\" fill-rule=\"evenodd\" fill-opacity=\"1\" /><path clip-path=\"url(#clip210)\" d=\"M1357.17 9.54393 L1364.63 9.54393 L1364.63 72.576 L1357.17 72.576 L1357.17 9.54393 Z\" fill=\"#000000\" fill-rule=\"evenodd\" fill-opacity=\"1\" /><path clip-path=\"url(#clip210)\" d=\"M1380.22 27.2059 L1387.68 27.2059 L1387.68 72.576 L1380.22 72.576 L1380.22 27.2059 M1380.22 9.54393 L1387.68 9.54393 L1387.68 18.9825 L1380.22 18.9825 L1380.22 9.54393 Z\" fill=\"#000000\" fill-rule=\"evenodd\" fill-opacity=\"1\" /><path clip-path=\"url(#clip210)\" d=\"M1435.92 28.9478 L1435.92 35.9153 Q1432.76 34.1734 1429.56 33.3227 Q1426.4 32.4315 1423.16 32.4315 Q1415.91 32.4315 1411.9 37.0496 Q1407.89 41.6271 1407.89 49.9314 Q1407.89 58.2358 1411.9 62.8538 Q1415.91 67.4314 1423.16 67.4314 Q1426.4 67.4314 1429.56 66.5807 Q1432.76 65.6895 1435.92 63.9476 L1435.92 70.8341 Q1432.8 72.2924 1429.44 73.0216 Q1426.12 73.7508 1422.35 73.7508 Q1412.1 73.7508 1406.07 67.3098 Q1400.03 60.8689 1400.03 49.9314 Q1400.03 38.832 1406.11 32.472 Q1412.23 26.1121 1422.84 26.1121 Q1426.28 26.1121 1429.56 26.8413 Q1432.84 27.5299 1435.92 28.9478 Z\" fill=\"#000000\" fill-rule=\"evenodd\" fill-opacity=\"1\" /><path clip-path=\"url(#clip210)\" d=\"M1467.76 76.7889 Q1464.6 84.8907 1461.61 87.3618 Q1458.61 89.8329 1453.59 89.8329 L1447.63 89.8329 L1447.63 83.5945 L1452.01 83.5945 Q1455.08 83.5945 1456.79 82.1361 Q1458.49 80.6778 1460.55 75.2496 L1461.89 71.8468 L1443.54 27.2059 L1451.44 27.2059 L1465.62 62.6918 L1479.79 27.2059 L1487.69 27.2059 L1467.76 76.7889 Z\" fill=\"#000000\" fill-rule=\"evenodd\" fill-opacity=\"1\" /><path clip-path=\"url(#clip210)\" d=\"M1532.86 18.8205 L1532.86 41.5461 L1543.15 41.5461 Q1548.86 41.5461 1551.98 38.5889 Q1555.1 35.6318 1555.1 30.163 Q1555.1 24.7348 1551.98 21.7777 Q1548.86 18.8205 1543.15 18.8205 L1532.86 18.8205 M1524.68 12.096 L1543.15 12.096 Q1553.32 12.096 1558.5 16.714 Q1563.73 21.2916 1563.73 30.163 Q1563.73 39.1155 1558.5 43.6931 Q1553.32 48.2706 1543.15 48.2706 L1532.86 48.2706 L1532.86 72.576 L1524.68 72.576 L1524.68 12.096 Z\" fill=\"#000000\" fill-rule=\"evenodd\" fill-opacity=\"1\" /><path clip-path=\"url(#clip210)\" d=\"M1574.38 9.54393 L1581.84 9.54393 L1581.84 72.576 L1574.38 72.576 L1574.38 9.54393 Z\" fill=\"#000000\" fill-rule=\"evenodd\" fill-opacity=\"1\" /><path clip-path=\"url(#clip210)\" d=\"M1615.01 32.4315 Q1609.02 32.4315 1605.53 37.1306 Q1602.05 41.7891 1602.05 49.9314 Q1602.05 58.0738 1605.49 62.7728 Q1608.98 67.4314 1615.01 67.4314 Q1620.97 67.4314 1624.45 62.7323 Q1627.94 58.0333 1627.94 49.9314 Q1627.94 41.8701 1624.45 37.1711 Q1620.97 32.4315 1615.01 32.4315 M1615.01 26.1121 Q1624.74 26.1121 1630.29 32.4315 Q1635.84 38.7509 1635.84 49.9314 Q1635.84 61.0714 1630.29 67.4314 Q1624.74 73.7508 1615.01 73.7508 Q1605.25 73.7508 1599.7 67.4314 Q1594.19 61.0714 1594.19 49.9314 Q1594.19 38.7509 1599.7 32.4315 Q1605.25 26.1121 1615.01 26.1121 Z\" fill=\"#000000\" fill-rule=\"evenodd\" fill-opacity=\"1\" /><path clip-path=\"url(#clip210)\" d=\"M1655.56 14.324 L1655.56 27.2059 L1670.92 27.2059 L1670.92 32.9987 L1655.56 32.9987 L1655.56 57.6282 Q1655.56 63.1779 1657.06 64.7578 Q1658.6 66.3376 1663.26 66.3376 L1670.92 66.3376 L1670.92 72.576 L1663.26 72.576 Q1654.63 72.576 1651.35 69.3758 Q1648.07 66.1351 1648.07 57.6282 L1648.07 32.9987 L1642.6 32.9987 L1642.6 27.2059 L1648.07 27.2059 L1648.07 14.324 L1655.56 14.324 Z\" fill=\"#000000\" fill-rule=\"evenodd\" fill-opacity=\"1\" /><g clip-path=\"url(#clip212)\">\n",
       "<image width=\"1363\" height=\"1363\" xlink:href=\"data:image/png;base64,\n",
       "iVBORw0KGgoAAAANSUhEUgAABVMAAAVTCAYAAADA3bjlAAAgAElEQVR4nOzaQQ3DMAAEwbYqigAz\n",
       "SEMIiMIIjZRAH/uzK80guPfqntec9wMAAAB++IyxegIAbOO1egAAAAAAwD8QUwEAAAAAAjEVAAAA\n",
       "ACAQUwEAAAAAAjEVAAAAACAQUwEAAAAAAjEVAAAAACAQUwEAAAAAAjEVAAAAACAQUwEAAAAAAjEV\n",
       "AAAAACAQUwEAAAAAAjEVAAAAACAQUwEAAAAAAjEVAAAAACAQUwEAAAAAAjEVAAAAACAQUwEAAAAA\n",
       "AjEVAAAAACAQUwEAAAAAAjEVAAAAACAQUwEAAAAAAjEVAAAAACAQUwEAAAAAAjEVAAAAACAQUwEA\n",
       "AAAAAjEVAAAAACAQUwEAAAAAAjEVAAAAACAQUwEAAAAAAjEVAAAAACAQUwEAAAAAAjEVAAAAACAQ\n",
       "UwEAAAAAAjEVAAAAACAQUwEAAAAAAjEVAAAAACAQUwEAAAAAAjEVAAAAACAQUwEAAAAAAjEVAAAA\n",
       "ACAQUwEAAAAAAjEVAAAAACAQUwEAAAAAAjEVAAAAACAQUwEAAAAAAjEVAAAAACAQUwEAAAAAAjEV\n",
       "AAAAACAQUwEAAAAAAjEVAAAAACAQUwEAAAAAAjEVAAAAACAQUwEAAAAAAjEVAAAAACAQUwEAAAAA\n",
       "AjEVAAAAACAQUwEAAAAAAjEVAAAAACAQUwEAAAAAAjEVAAAAACAQUwEAAAAAAjEVAAAAACAQUwEA\n",
       "AAAAAjEVAAAAACAQUwEAAAAAAjEVAAAAACAQUwEAAAAAAjEVAAAAACAQUwEAAAAAAjEVAAAAACAQ\n",
       "UwEAAAAAAjEVAAAAACAQUwEAAAAAAjEVAAAAACAQUwEAAAAAAjEVAAAAACAQUwEAAAAAAjEVAAAA\n",
       "ACAQUwEAAAAAAjEVAAAAACAQUwEAAAAAAjEVAAAAACAQUwEAAAAAAjEVAAAAACAQUwEAAAAAAjEV\n",
       "AAAAACAQUwEAAAAAAjEVAAAAACAQUwEAAAAAAjEVAAAAACAQUwEAAAAAAjEVAAAAACAQUwEAAAAA\n",
       "AjEVAAAAACAQUwEAAAAAAjEVAAAAACAQUwEAAAAAAjEVAAAAACAQUwEAAAAAAjEVAAAAACAQUwEA\n",
       "AAAAAjEVAAAAACAQUwEAAAAAAjEVAAAAACAQUwEAAAAAAjEVAAAAACAQUwEAAAAAAjEVAAAAACAQ\n",
       "UwEAAAAAAjEVAAAAACAQUwEAAAAAAjEVAAAAACAQUwEAAAAAAjEVAAAAACAQUwEAAAAAAjEVAAAA\n",
       "ACAQUwEAAAAAAjEVAAAAACAQUwEAAAAAAjEVAAAAACAQUwEAAAAAAjEVAAAAACAQUwEAAAAAAjEV\n",
       "AAAAACAQUwEAAAAAAjEVAAAAACAQUwEAAAAAAjEVAAAAACAQUwEAAAAAAjEVAAAAACAQUwEAAAAA\n",
       "AjEVAAAAACAQUwEAAAAAAjEVAAAAACAQUwEAAAAAAjEVAAAAACAQUwEAAAAAAjEVAAAAACAQUwEA\n",
       "AAAAAjEVAAAAACAQUwEAAAAAAjEVAAAAACAQUwEAAAAAAjEVAAAAACAQUwEAAAAAAjEVAAAAACAQ\n",
       "UwEAAAAAAjEVAAAAACAQUwEAAAAAAjEVAAAAACAQUwEAAAAAAjEVAAAAACAQUwEAAAAAAjEVAAAA\n",
       "ACAQUwEAAAAAAjEVAAAAACAQUwEAAAAAAjEVAAAAACAQUwEAAAAAAjEVAAAAACAQUwEAAAAAAjEV\n",
       "AAAAACAQUwEAAAAAAjEVAAAAACAQUwEAAAAAAjEVAAAAACAQUwEAAAAAAjEVAAAAACAQUwEAAAAA\n",
       "AjEVAAAAACAQUwEAAAAAAjEVAAAAACAQUwEAAAAAAjEVAAAAACAQUwEAAAAAAjEVAAAAACAQUwEA\n",
       "AAAAAjEVAAAAACAQUwEAAAAAAjEVAAAAACAQUwEAAAAAAjEVAAAAACAQUwEAAAAAAjEVAAAAACAQ\n",
       "UwEAAAAAAjEVAAAAACAQUwEAAAAAAjEVAAAAACAQUwEAAAAAAjEVAAAAACAQUwEAAAAAAjEVAAAA\n",
       "ACAQUwEAAAAAAjEVAAAAACAQUwEAAAAAAjEVAAAAACAQUwEAAAAAAjEVAAAAACAQUwEAAAAAAjEV\n",
       "AAAAACAQUwEAAAAAAjEVAAAAACAQUwEAAAAAAjEVAAAAACAQUwEAAAAAAjEVAAAAACAQUwEAAAAA\n",
       "AjEVAAAAACAQUwEAAAAAAjEVAAAAACAQUwEAAAAAAjEVAAAAACAQUwEAAAAAAjEVAAAAACAQUwEA\n",
       "AAAAAjEVAAAAACAQUwEAAAAAAjEVAAAAACAQUwEAAAAAAjEVAAAAACAQUwEAAAAAAjEVAAAAACAQ\n",
       "UwEAAAAAAjEVAAAAACAQUwEAAAAAAjEVAAAAACAQUwEAAAAAAjEVAAAAACAQUwEAAAAAAjEVAAAA\n",
       "ACAQUwEAAAAAAjEVAAAAACAQUwEAAAAAAjEVAAAAACAQUwEAAAAAAjEVAAAAACAQUwEAAAAAAjEV\n",
       "AAAAACAQUwEAAAAAAjEVAAAAACAQUwEAAAAAAjEVAAAAACAQUwEAAAAAAjEVAAAAACAQUwEAAAAA\n",
       "AjEVAAAAACAQUwEAAAAAAjEVAAAAACAQUwEAAAAAAjEVAAAAACAQUwEAAAAAAjEVAAAAACAQUwEA\n",
       "AAAAAjEVAAAAACAQUwEAAAAAAjEVAAAAACAQUwEAAAAAAjEVAAAAACAQUwEAAAAAAjEVAAAAACAQ\n",
       "UwEAAAAAAjEVAAAAACAQUwEAAAAAAjEVAAAAACAQUwEAAAAAAjEVAAAAACAQUwEAAAAAAjEVAAAA\n",
       "ACAQUwEAAAAAAjEVAAAAACAQUwEAAAAAAjEVAAAAACAQUwEAAAAAAjEVAAAAACAQUwEAAAAAAjEV\n",
       "AAAAACAQUwEAAAAAAjEVAAAAACAQUwEAAAAAAjEVAAAAACAQUwEAAAAAAjEVAAAAACAQUwEAAAAA\n",
       "AjEVAAAAACAQUwEAAAAAAjEVAAAAACAQUwEAAAAAAjEVAAAAACAQUwEAAAAAAjEVAAAAACAQUwEA\n",
       "AAAAAjEVAAAAACAQUwEAAAAAAjEVAAAAACAQUwEAAAAAAjEVAAAAACAQUwEAAAAAAjEVAAAAACAQ\n",
       "UwEAAAAAAjEVAAAAACAQUwEAAAAAAjEVAAAAACAQUwEAAAAAAjEVAAAAACAQUwEAAAAAAjEVAAAA\n",
       "ACAQUwEAAAAAAjEVAAAAACAQUwEAAAAAAjEVAAAAACAQUwEAAAAAAjEVAAAAACAQUwEAAAAAAjEV\n",
       "AAAAACAQUwEAAAAAAjEVAAAAACAQUwEAAAAAAjEVAAAAACAQUwEAAAAAAjEVAAAAACAQUwEAAAAA\n",
       "AjEVAAAAACAQUwEAAAAAAjEVAAAAACAQUwEAAAAAAjEVAAAAACAQUwEAAAAAAjEVAAAAACAQUwEA\n",
       "AAAAAjEVAAAAACAQUwEAAAAAAjEVAAAAACAQUwEAAAAAAjEVAAAAACAQUwEAAAAAAjEVAAAAACAQ\n",
       "UwEAAAAAAjEVAAAAACAQUwEAAAAAAjEVAAAAACAQUwEAAAAAAjEVAAAAACAQUwEAAAAAAjEVAAAA\n",
       "ACAQUwEAAAAAAjEVAAAAACAQUwEAAAAAAjEVAAAAACAQUwEAAAAAAjEVAAAAACAQUwEAAAAAAjEV\n",
       "AAAAACAQUwEAAAAAAjEVAAAAACAQUwEAAAAAAjEVAAAAACAQUwEAAAAAAjEVAAAAACAQUwEAAAAA\n",
       "AjEVAAAAACAQUwEAAAAAAjEVAAAAACAQUwEAAAAAAjEVAAAAACAQUwEAAAAAAjEVAAAAACAQUwEA\n",
       "AAAAAjEVAAAAACAQUwEAAAAAAjEVAAAAACAQUwEAAAAAAjEVAAAAACAQUwEAAAAAAjEVAAAAACAQ\n",
       "UwEAAAAAAjEVAAAAACAQUwEAAAAAAjEVAAAAACAQUwEAAAAAAjEVAAAAACAQUwEAAAAAAjEVAAAA\n",
       "ACAQUwEAAAAAAjEVAAAAACAQUwEAAAAAAjEVAAAAACAQUwEAAAAAAjEVAAAAACAQUwEAAAAAAjEV\n",
       "AAAAACAQUwEAAAAAAjEVAAAAACAQUwEAAAAAAjEVAAAAACAQUwEAAAAAAjEVAAAAACAQUwEAAAAA\n",
       "AjEVAAAAACAQUwEAAAAAAjEVAAAAACAQUwEAAAAAAjEVAAAAACAQUwEAAAAAAjEVAAAAACAQUwEA\n",
       "AAAAAjEVAAAAACAQUwEAAAAAAjEVAAAAACAQUwEAAAAAAjEVAAAAACAQUwEAAAAAAjEVAAAAACAQ\n",
       "UwEAAAAAAjEVAAAAACAQUwEAAAAAAjEVAAAAACAQUwEAAAAAAjEVAAAAACAQUwEAAAAAAjEVAAAA\n",
       "ACAQUwEAAAAAAjEVAAAAACAQUwEAAAAAAjEVAAAAACAQUwEAAAAAAjEVAAAAACAQUwEAAAAAAjEV\n",
       "AAAAACAQUwEAAAAAAjEVAAAAACAQUwEAAAAAAjEVAAAAACAQUwEAAAAAAjEVAAAAACAQUwEAAAAA\n",
       "AjEVAAAAACAQUwEAAAAAAjEVAAAAACAQUwEAAAAAAjEVAAAAACAQUwEAAAAAAjEVAAAAACAQUwEA\n",
       "AAAAAjEVAAAAACAQUwEAAAAAAjEVAAAAACAQUwEAAAAAAjEVAAAAACAQUwEAAAAAAjEVAAAAACAQ\n",
       "UwEAAAAAAjEVAAAAACAQUwEAAAAAgvfqAQCwm+McqycAwDauOVdPAIBteKYCAAAAAARiKgAAAABA\n",
       "IKYCAAAAAARiKgAAAABAIKYCAAAAAARiKgAAAABAIKYCAAAAAARiKgAAAABAIKYCAAAAAARiKgAA\n",
       "AABAIKYCAAAAAARiKgAAAABAIKYCAAAAAARiKgAAAABAIKYCAAAAAARiKgAAAABAIKYCAAAAAARi\n",
       "KgAAAABAIKYCAAAAAARiKgAAAABAIKYCAAAAAARiKgAAAABAIKYCAAAAAARiKgAAAABAIKYCAAAA\n",
       "AARiKgAAAABAIKYCAAAAAARiKgAAAABAIKYCAAAAAARiKgAAAABAIKYCAAAAAARiKgAAAABAIKYC\n",
       "AAAAAARiKgAAAABAIKYCAAAAAARiKgAAAABAIKYCAAAAAARiKgAAAABAIKYCAAAAAARiKgAAAABA\n",
       "IKYCAAAAAARiKgAAAABAIKYCAAAAAARiKgAAAABAIKYCAAAAAARiKgAAAABAIKYCAAAAAARiKgAA\n",
       "AABAIKYCAAAAAARiKgAAAABAIKYCAAAAAARiKgAAAABAIKYCAAAAAARiKgAAAABAIKYCAAAAAARi\n",
       "KgAAAABAIKYCAAAAAARiKgAAAABAIKYCAAAAAARiKgAAAABAIKYCAAAAAARiKgAAAABAIKYCAAAA\n",
       "AARiKgAAAABAIKYCAAAAAARiKgAAAABAIKYCAAAAAARiKgAAAABAIKYCAAAAAARiKgAAAABAIKYC\n",
       "AAAAAARiKgAAAABAIKYCAAAAAARiKgAAAABAIKYCAAAAAARiKgAAAABAIKYCAAAAAARiKgAAAABA\n",
       "IKYCAAAAAARiKgAAAABAIKYCAAAAAARiKgAAAABAIKYCAAAAAARiKgAAAABAIKYCAAAAAARiKgAA\n",
       "AABAIKYCAAAAAARiKgAAAABAIKYCAAAAAARiKgAAAABAIKYCAAAAAARiKgAAAABAIKYCAAAAAARi\n",
       "KgAAAABAIKYCAAAAAARiKgAAAABAIKYCAAAAAARiKgAAAABAIKYCAAAAAARiKgAAAABAIKYCAAAA\n",
       "AARiKgAAAABAIKYCAAAAAARiKgAAAABAIKYCAAAAAARiKgAAAABAIKYCAAAAAARiKgAAAABAIKYC\n",
       "AAAAAARiKgAAAABAIKYCAAAAAARiKgAAAABAIKYCAAAAAARiKgAAAABAIKYCAAAAAARiKgAAAABA\n",
       "IKYCAAAAAARiKgAAAABAIKYCAAAAAARiKgAAAABAIKYCAAAAAARiKgAAAABAIKYCAAAAAARiKgAA\n",
       "AABAIKYCAAAAAARiKgAAAABAIKYCAAAAAARiKgAAAABAIKYCAAAAAARiKgAAAABAIKYCAAAAAARi\n",
       "KgAAAABAIKYCAAAAAARiKgAAAABAIKYCAAAAAARiKgAAAABAIKYCAAAAAARiKgAAAABAIKYCAAAA\n",
       "AARiKgAAAABAIKYCAAAAAARiKgAAAABAIKYCAAAAAARiKgAAAABAIKYCAAAAAARiKgAAAABAIKYC\n",
       "AAAAAARiKgAAAABAIKYCAAAAAARiKgAAAABAIKYCAAAAAARiKgAAAABAIKYCAAAAAARiKgAAAABA\n",
       "IKYCAAAAAARiKgAAAABAIKYCAAAAAARiKgAAAABAIKYCAAAAAARiKgAAAABAIKYCAAAAAARiKgAA\n",
       "AABAIKYCAAAAAARiKgAAAABAIKYCAAAAAARiKgAAAABAIKYCAAAAAARiKgAAAABAIKYCAAAAAARi\n",
       "KgAAAABAIKYCAAAAAARiKgAAAABAIKYCAAAAAARiKgAAAABAIKYCAAAAAARiKgAAAABAIKYCAAAA\n",
       "AARiKgAAAABAIKYCAAAAAARiKgAAAABAIKYCAAAAAARiKgAAAABAIKYCAAAAAARiKgAAAABAIKYC\n",
       "AAAAAARiKgAAAABAIKYCAAAAAARiKgAAAABAIKYCAAAAAARiKgAAAABAIKYCAAAAAARiKgAAAABA\n",
       "IKYCAAAAAARiKgAAAABAIKYCAAAAAARiKgAAAABAIKYCAAAAAARiKgAAAABAIKYCAAAAAARiKgAA\n",
       "AABAIKYCAAAAAARiKgAAAABAIKYCAAAAAARiKgAAAABAIKYCAAAAAARiKgAAAABAIKYCAAAAAARi\n",
       "KgAAAABAIKYCAAAAAARiKgAAAABAIKYCAAAAAARiKgAAAABAIKYCAAAAAARiKgAAAABAIKYCAAAA\n",
       "AARiKgAAAABAIKYCAAAAAARiKgAAAABAIKYCAAAAAARiKgAAAABAIKYCAAAAAARiKgAAAABAIKYC\n",
       "AAAAAARiKgAAAABAIKYCAAAAAARiKgAAAABAIKYCAAAAAARiKgAAAABAIKYCAAAAAARiKgAAAABA\n",
       "IKYCAAAAAARiKgAAAABAIKYCAAAAAARiKgAAAABAIKYCAAAAAARiKgAAAABAIKYCAAAAAARiKgAA\n",
       "AABAIKYCAAAAAARiKgAAAABAIKYCAAAAAARiKgAAAABAIKYCAAAAAARiKgAAAABAIKYCAAAAAARi\n",
       "KgAAAABAIKYCAAAAAARiKgAAAABAIKYCAAAAAARiKgAAAABAIKYCAAAAAARiKgAAAABAIKYCAAAA\n",
       "AARiKgAAAABAIKYCAAAAAARiKgAAAABAIKYCAAAAAARiKgAAAABAIKYCAAAAAARiKgAAAABAIKYC\n",
       "AAAAAARiKgAAAABAIKYCAAAAAARiKgAAAABAIKYCAAAAAARiKgAAAABAIKYCAAAAAARiKgAAAABA\n",
       "IKYCAAAAAARiKgAAAABAIKYCAAAAAARiKgAAAABAIKYCAAAAAARiKgAAAABAIKYCAAAAAARiKgAA\n",
       "AABAIKYCAAAAAARiKgAAAABAIKYCAAAAAARiKgAAAABAIKYCAAAAAARiKgAAAABAIKYCAAAAAARi\n",
       "KgAAAABAIKYCAAAAAARiKgAAAABAIKYCAAAAAARiKgAAAMC3XTsmAgAEYiDYoA2xCEMHFq7ji10F\n",
       "qW8CEIipAAAAAACBmAoAAAAAEIipAAAAAACBmAoAAAAAEIipAAAAAACBmAoAAAAAEIipAAAAAACB\n",
       "mAoAAAAAEIipAAAAAACBmAoAAAAAEIipAAAAAACBmAoAAAAAEIipAAAAAACBmAoAAAAAEIipAAAA\n",
       "AACBmAoAAAAAEIipAAAAAACBmAoAAAAAEIipAAAAAACBmAoAAAAAEIipAAAAAACBmAoAAAAAEIip\n",
       "AAAAAACBmAoAAAAAEIipAAAAAACBmAoAAAAAEIipAAAAAACBmAoAAAAAEIipAAAAAACBmAoAAAAA\n",
       "EIipAAAAAACBmAoAAAAAEIipAAAAAACBmAoAAAAAEIipAAAAAACBmAoAAAAAEIipAAAAAACBmAoA\n",
       "AAAAEIipAAAAAACBmAoAAAAAEIipAAAAAACBmAoAAAAAEIipAAAAAACBmAoAAAAAEIipAAAAAACB\n",
       "mAoAAAAAEIipAAAAAACBmAoAAAAAEIipAAAAAACBmAoAAAAAEIipAAAAAACBmAoAAAAAEIipAAAA\n",
       "AACBmAoAAAAAEIipAAAAAACBmAoAAAAAEIipAAAAAACBmAoAAAAAEIipAAAAAACBmAoAAAAAEIip\n",
       "AAAAAACBmAoAAAAAEIipAAAAAACBmAoAAAAAEIipAAAAAACBmAoAAAAAEIipAAAAAACBmAoAAAAA\n",
       "EIipAAAAAACBmAoAAAAAEIipAAAAAACBmAoAAAAAEIipAAAAAACBmAoAAAAAEIipAAAAAACBmAoA\n",
       "AAAAEIipAAAAAACBmAoAAAAAEIipAAAAAACBmAoAAAAAEIipAAAAAACBmAoAAAAAEIipAAAAAACB\n",
       "mAoAAAAAEIipAAAAAACBmAoAAAAAEIipAAAAAACBmAoAAAAAEIipAAAAAACBmAoAAAAAEIipAAAA\n",
       "AACBmAoAAAAAEIipAAAAAACBmAoAAAAAEIipAAAAAACBmAoAAAAAEIipAAAAAACBmAoAAAAAEIip\n",
       "AAAAAACBmAoAAAAAEIipAAAAAACBmAoAAAAAEIipAAAAAACBmAoAAAAAEIipAAAAAACBmAoAAAAA\n",
       "EIipAAAAAACBmAoAAAAAEIipAAAAAACBmAoAAAAAEIipAAAAAACBmAoAAAAAEIipAAAAAACBmAoA\n",
       "AAAAEIipAAAAAACBmAoAAAAAEIipAAAAAACBmAoAAAAAEIipAAAAAACBmAoAAAAAEIipAAAAAACB\n",
       "mAoAAAAAEIipAAAAAACBmAoAAAAAEIipAAAAAACBmAoAAAAAEIipAAAAAACBmAoAAAAAEIipAAAA\n",
       "AACBmAoAAAAAEIipAAAAAACBmAoAAAAAEIipAAAAAACBmAoAAAAAEIipAAAAAACBmAoAAAAAEIip\n",
       "AAAAAACBmAoAAAAAEIipAAAAAACBmAoAAAAAEIipAAAAAACBmAoAAAAAEIipAAAAAACBmAoAAAAA\n",
       "EIipAAAAAACBmAoAAAAAEIipAAAAAACBmAoAAAAAEIipAAAAAACBmAoAAAAAEIipAAAAAACBmAoA\n",
       "AAAAEIipAAAAAACBmAoAAAAAEIipAAAAAACBmAoAAAAAEIipAAAAAACBmAoAAAAAEIipAAAAAACB\n",
       "mAoAAAAAEIipAAAAAACBmAoAAAAAEIipAAAAAACBmAoAAAAAEIipAAAAAADB+j0AAKa5+/yeAAAA\n",
       "wECeqQAAAAAAgZgKAAAAABCIqQAAAAAAgZgKAAAAABCIqQAAAAAAgZgKAAAAABCIqQAAAAAAgZgK\n",
       "AAAAABCIqQAAAAAAgZgKAAAAABCIqQAAAAAAgZgKAAAAABCIqQAAAAAAgZgKAAAAABCIqQAAAAAA\n",
       "gZgKAAAAABCIqQAAAAAAgZgKAAAAABCIqQAAAAAAgZgKAAAAABCIqQAAAAAAgZgKAAAAABCIqQAA\n",
       "AAAAgZgKAAAAABCIqQAAAAAAgZgKAAAAABCIqQAAAAAAgZgKAAAAABCIqQAAAAAAgZgKAAAAABCI\n",
       "qQAAAAAAgZgKAAAAABCIqQAAAAAAgZgKAAAAABCIqQAAAAAAgZgKAAAAABCIqQAAAAAAgZgKAAAA\n",
       "ABCIqQAAAAAAgZgKAAAAABCIqQAAAAAAgZgKAAAAABCIqQAAAAAAgZgKAAAAABCIqQAAAAAAgZgK\n",
       "AAAAABCIqQAAAAAAgZgKAAAAABCIqQAAAAAAgZgKAAAAABCIqQAAAAAAgZgKAAAAABCIqQAAAAAA\n",
       "gZgKAAAAABCIqQAAAAAAgZgKAAAAABCIqQAAAAAAgZgKAAAAABCIqQAAAAAAgZgKAAAAABCIqQAA\n",
       "AAAAgZgKAAAAABCIqQAAAAAAgZgKAAAAABCIqQAAAAAAgZgKAAAAABCIqQAAAAAAgZgKAAAAABCI\n",
       "qQAAAAAAgZgKAAAAABCIqQAAAAAAgZgKAAAAABCIqQAAAAAAgZgKAAAAABCIqQAAAAAAgZgKAAAA\n",
       "ABCIqQAAAAAAgZgKAAAAABCIqQAAAAAAgZgKAAAAABCIqQAAAAAAgZgKAAAAABCIqQAAAAAAgZgK\n",
       "AAAAABCIqQAAAAAAgZgKAAAAABCIqQAAAAAAgZgKAAAAABCIqQAAAAAAgZgKAAAAABCIqQAAAAAA\n",
       "gZgKAAAAABCIqQAAAAAAgZgKAAAAABCIqQAAAAAAgZgKAAAAABCIqQAAAAAAgZgKAAAAABCIqQAA\n",
       "AAAAgZgKAAAAABCIqQAAAAAAgZgKAAAAABCIqQAAAAAAgZgKAAAAABCIqQAAAAAAgZgKAAAAABCI\n",
       "qQAAAAAAgZgKAAAAABCIqQAAAAAAgZgKAAAAABCIqQAAAAAAgZgKAAAAABCIqQAAAAAAgZgKAAAA\n",
       "ABCIqQAAAAAAgZgKAAAAABCIqQAAAAAAgZgKAAAAABCIqQAAAAAAgZgKAAAAABCIqQAAAAAAgZgK\n",
       "AAAAABCIqQAAAAAAgZgKAAAAABCIqQAAAAAAgZgKAAAAABCIqQAAAAAAgZgKAAAAABCIqQAAAAAA\n",
       "gZgKAAAAABCIqQAAAAAAgZgKAAAAABCIqQAAAAAAgZgKAAAAABCIqQAAAAAAgZgKAAAAABCIqQAA\n",
       "AAAAgZgKAAAAABCIqQAAAAAAgZgKAAAAABCIqQAAAAAAgZgKAAAAABCIqQAAAAAAgZgKAAAAABCI\n",
       "qQAAAAAAgZgKAAAAABCIqQAAAAAAgZgKAAAAABCIqQAAAAAAgZgKAAAAABCIqQAAAAAAgZgKAAAA\n",
       "ABCIqQAAAAAAgZgKAAAAABCIqQAAAAAAgZgKAAAAABCIqQAAAAAAgZgKAAAAABCIqQAAAAAAgZgK\n",
       "AAAAABCIqQAAAAAAgZgKAAAAABCIqQAAAAAAgZgKAAAAABCIqQAAAAAAgZgKAAAAABCIqQAAAAAA\n",
       "gZgKAAAAABCIqQAAAAAAgZgKAAAAABCIqXjTCAUAAAhOSURBVAAAAAAAgZgKAAAAABCIqQAAAAAA\n",
       "gZgKAAAAABCIqQAAAAAAgZgKAAAAABCIqQAAAAAAgZgKAAAAABCIqQAAAAAAgZgKAAAAABCIqQAA\n",
       "AAAAgZgKAAAAABCIqQAAAAAAgZgKAAAAABCIqQAAAAAAgZgKAAAAABCIqQAAAAAAgZgKAAAAABCI\n",
       "qQAAAAAAgZgKAAAAABCIqQAAAAAAgZgKAAAAABCIqQAAAAAAgZgKAAAAABCIqQAAAAAAgZgKAAAA\n",
       "ABCIqQAAAAAAgZgKAAAAABCIqQAAAAAAgZgKAAAAABCIqQAAAAAAgZgKAAAAABCIqQAAAAAAgZgK\n",
       "AAAAABCIqQAAAAAAgZgKAAAAABCIqQAAAAAAgZgKAAAAABCIqQAAAAAAgZgKAAAAABCIqQAAAAAA\n",
       "gZgKAAAAABCIqQAAAAAAgZgKAAAAABCIqQAAAAAAgZgKAAAAABCIqQAAAAAAgZgKAAAAABCIqQAA\n",
       "AAAAgZgKAAAAABCIqQAAAAAAgZgKAAAAABCIqQAAAAAAgZgKAAAAABCIqQAAAAAAgZgKAAAAABCI\n",
       "qQAAAAAAgZgKAAAAABCIqQAAAAAAgZgKAAAAABCIqQAAAAAAgZgKAAAAABCIqQAAAAAAgZgKAAAA\n",
       "ABCIqQAAAAAAgZgKAAAAABCIqQAAAAAAgZgKAAAAABCIqQAAAAAAgZgKAAAAABCIqQAAAAAAgZgK\n",
       "AAAAABCIqQAAAAAAgZgKAAAAABCIqQAAAAAAgZgKAAAAABCIqQAAAAAAgZgKAAAAABCIqQAAAAAA\n",
       "gZgKAAAAABCIqQAAAAAAgZgKAAAAABCIqQAAAAAAgZgKAAAAABCIqQAAAAAAgZgKAAAAABCIqQAA\n",
       "AAAAgZgKAAAAABCIqQAAAAAAgZgKAAAAABCIqQAAAAAAgZgKAAAAABCIqQAAAAAAgZgKAAAAABCI\n",
       "qQAAAAAAgZgKAAAAABCIqQAAAAAAgZgKAAAAABCIqQAAAAAAgZgKAAAAABCIqQAAAAAAgZgKAAAA\n",
       "ABCIqQAAAAAAgZgKAAAAABCIqQAAAAAAgZgKAAAAABCIqQAAAAAAgZgKAAAAABCIqQAAAAAAgZgK\n",
       "AAAAABCIqQAAAAAAgZgKAAAAABCIqQAAAAAAgZgKAAAAABCIqQAAAAAAgZgKAAAAABCIqQAAAAAA\n",
       "gZgKAAAAABCIqQAAAAAAgZgKAAAAABCIqQAAAAAAgZgKAAAAABCIqQAAAAAAgZgKAAAAABCIqQAA\n",
       "AAAAgZgKAAAAABCIqQAAAAAAgZgKAAAAABCIqQAAAAAAgZgKAAAAABCIqQAAAAAAgZgKAAAAABCI\n",
       "qQAAAAAAgZgKAAAAABCIqQAAAAAAgZgKAAAAABCIqQAAAAAAgZgKAAAAABCIqQAAAAAAgZgKAAAA\n",
       "ABCIqQAAAAAAgZgKAAAAABCIqQAAAAAAgZgKAAAAABCIqQAAAAAAgZgKAAAAABCIqQAAAAAAgZgK\n",
       "AAAAABCIqQAAAAAAgZgKAAAAABCIqQAAAAAAgZgKAAAAABCIqQAAAAAAgZgKAAAAABCIqQAAAAAA\n",
       "gZgKAAAAABCIqQAAAAAAgZgKAAAAABCIqQAAAAAAgZgKAAAAABCIqQAAAAAAgZgKAAAAABCIqQAA\n",
       "AAAAgZgKAAAAABCIqQAAAAAAgZgKAAAAABCIqQAAAAAAgZgKAAAAABCIqQAAAAAAgZgKAAAAABCI\n",
       "qQAAAAAAgZgKAAAAABCIqQAAAAAAgZgKAAAAABCIqQAAAAAAgZgKAAAAABCIqQAAAAAAgZgKAAAA\n",
       "ABCIqQAAAAAAgZgKAAAAABCIqQAAAAAAgZgKAAAAABCIqQAAAAAAgZgKAAAAABCIqQAAAAAAgZgK\n",
       "AAAAABCIqQAAAAAAgZgKAAAAABCIqQAAAAAAgZgKAAAAABCIqQAAAAAAgZgKAAAAABCIqQAAAAAA\n",
       "gZgKAAAAABCIqQAAAAAAgZgKAAAAABCIqQAAAAAAgZgKAAAAABCIqQAAAAAAgZgKAAAAABCIqQAA\n",
       "AAAAgZgKAAAAABCIqQAAAAAAgZgKAAAAABCIqQAAAAAAgZgKAAAAABCIqQAAAAAAgZgKAAAAABCI\n",
       "qQAAAAAAgZgKAAAAABCIqQAAAAAAgZgKAAAAABCIqQAAAAAAgZgKAAAAABCIqQAAAAAAgZgKAAAA\n",
       "ABCIqQAAAAAAgZgKAAAAABCIqQAAAAAAgZgKAAAAABCIqQAAAAAAgZgKAAAAABCIqQAAAAAAgZgK\n",
       "AAAAABCIqQAAAAAAgZgKAAAAABCIqQAAAAAAgZgKAAAAABCIqQAAAAAAgZgKAAAAABCIqQAAAAAA\n",
       "gZgKAAAAABCIqQAAAAAAgZgKAAAAABCIqQAAAAAAgZgKAAAAABCIqQAAAAAAgZgKAAAAABCIqQAA\n",
       "AAAAgZgKAAAAABCIqQAAAAAAgZgKAAAAABCIqQAAAAAAgZgKAAAAABCIqQAAAAAAgZgKAAAAABCI\n",
       "qQAAAAAAgZgKAAAAABCIqQAAAAAAgZgKAAAAABCIqQAAAAAAgZgKAAAAABCIqQAAAAAAgZgKAAAA\n",
       "ABCIqQAAAAAAgZgKAAAAABCIqQAAAAAAgZgKAAAAABCIqQAAAAAAgZgKAAAAABCIqQAAAAAAgZgK\n",
       "AAAAABCIqQAAAAAAgZgKAAAAABCIqQAAAAAAgZgKAAAAABCIqQAAAAAAgZgKAAAAABCIqQAAAAAA\n",
       "gZgKAAAAABCIqQAAAAAAgZgKAAAAABCIqQAAAAAAgZgKAAAAABCIqQAAAAAAgZgKAAAAABCIqQAA\n",
       "AAAAgZgKAAAAABCIqQAAAAAAgZgKAAAAABCIqQAAAAAAgZgKAAAAABCIqQAAAAAAwQPo+xSXzZb0\n",
       "tQAAAABJRU5ErkJggg==\n",
       "\" transform=\"translate(550, 123)\"/>\n",
       "</g>\n",
       "<path clip-path=\"url(#clip212)\" d=\"\n",
       "M549.763 1486.45 L1004.09 1486.45 L1004.09 1032.12 L549.763 1032.12 L549.763 1486.45  Z\n",
       "  \" fill=\"#e26f46\" fill-rule=\"evenodd\" fill-opacity=\"0\"/>\n",
       "<polyline clip-path=\"url(#clip212)\" style=\"stroke:#808080; stroke-linecap:butt; stroke-linejoin:round; stroke-width:4; stroke-opacity:1; fill:none\" points=\"\n",
       "  549.763,1486.45 1004.09,1486.45 1004.09,1032.12 549.763,1032.12 549.763,1486.45 \n",
       "  \"/>\n",
       "<path clip-path=\"url(#clip212)\" d=\"\n",
       "M549.763 1032.12 L1004.09 1032.12 L1004.09 577.797 L549.763 577.797 L549.763 1032.12  Z\n",
       "  \" fill=\"#3da44d\" fill-rule=\"evenodd\" fill-opacity=\"0\"/>\n",
       "<polyline clip-path=\"url(#clip212)\" style=\"stroke:#808080; stroke-linecap:butt; stroke-linejoin:round; stroke-width:4; stroke-opacity:1; fill:none\" points=\"\n",
       "  549.763,1032.12 1004.09,1032.12 1004.09,577.797 549.763,577.797 549.763,1032.12 \n",
       "  \"/>\n",
       "<path clip-path=\"url(#clip212)\" d=\"\n",
       "M549.763 577.797 L1004.09 577.797 L1004.09 123.472 L549.763 123.472 L549.763 577.797  Z\n",
       "  \" fill=\"#c271d2\" fill-rule=\"evenodd\" fill-opacity=\"0\"/>\n",
       "<polyline clip-path=\"url(#clip212)\" style=\"stroke:#808080; stroke-linecap:butt; stroke-linejoin:round; stroke-width:4; stroke-opacity:1; fill:none\" points=\"\n",
       "  549.763,577.797 1004.09,577.797 1004.09,123.472 549.763,123.472 549.763,577.797 \n",
       "  \"/>\n",
       "<path clip-path=\"url(#clip212)\" d=\"\n",
       "M1004.09 1486.45 L1458.41 1486.45 L1458.41 1032.12 L1004.09 1032.12 L1004.09 1486.45  Z\n",
       "  \" fill=\"#ac8d18\" fill-rule=\"evenodd\" fill-opacity=\"0\"/>\n",
       "<polyline clip-path=\"url(#clip212)\" style=\"stroke:#808080; stroke-linecap:butt; stroke-linejoin:round; stroke-width:4; stroke-opacity:1; fill:none\" points=\"\n",
       "  1004.09,1486.45 1458.41,1486.45 1458.41,1032.12 1004.09,1032.12 1004.09,1486.45 \n",
       "  \"/>\n",
       "<path clip-path=\"url(#clip212)\" d=\"\n",
       "M1004.09 1032.12 L1458.41 1032.12 L1458.41 577.797 L1004.09 577.797 L1004.09 1032.12  Z\n",
       "  \" fill=\"#00a9ad\" fill-rule=\"evenodd\" fill-opacity=\"0\"/>\n",
       "<polyline clip-path=\"url(#clip212)\" style=\"stroke:#808080; stroke-linecap:butt; stroke-linejoin:round; stroke-width:4; stroke-opacity:1; fill:none\" points=\"\n",
       "  1004.09,1032.12 1458.41,1032.12 1458.41,577.797 1004.09,577.797 1004.09,1032.12 \n",
       "  \"/>\n",
       "<path clip-path=\"url(#clip212)\" d=\"\n",
       "M1004.09 577.797 L1458.41 577.797 L1458.41 123.472 L1004.09 123.472 L1004.09 577.797  Z\n",
       "  \" fill=\"#ed5d92\" fill-rule=\"evenodd\" fill-opacity=\"0\"/>\n",
       "<polyline clip-path=\"url(#clip212)\" style=\"stroke:#808080; stroke-linecap:butt; stroke-linejoin:round; stroke-width:4; stroke-opacity:1; fill:none\" points=\"\n",
       "  1004.09,577.797 1458.41,577.797 1458.41,123.472 1004.09,123.472 1004.09,577.797 \n",
       "  \"/>\n",
       "<path clip-path=\"url(#clip212)\" d=\"\n",
       "M1458.41 1486.45 L1912.74 1486.45 L1912.74 1032.12 L1458.41 1032.12 L1458.41 1486.45  Z\n",
       "  \" fill=\"#c68125\" fill-rule=\"evenodd\" fill-opacity=\"0\"/>\n",
       "<polyline clip-path=\"url(#clip212)\" style=\"stroke:#808080; stroke-linecap:butt; stroke-linejoin:round; stroke-width:4; stroke-opacity:1; fill:none\" points=\"\n",
       "  1458.41,1486.45 1912.74,1486.45 1912.74,1032.12 1458.41,1032.12 1458.41,1486.45 \n",
       "  \"/>\n",
       "<path clip-path=\"url(#clip212)\" d=\"\n",
       "M1458.41 1032.12 L1912.74 1032.12 L1912.74 577.797 L1458.41 577.797 L1458.41 1032.12  Z\n",
       "  \" fill=\"#00a98d\" fill-rule=\"evenodd\" fill-opacity=\"0\"/>\n",
       "<polyline clip-path=\"url(#clip212)\" style=\"stroke:#808080; stroke-linecap:butt; stroke-linejoin:round; stroke-width:4; stroke-opacity:1; fill:none\" points=\"\n",
       "  1458.41,1032.12 1912.74,1032.12 1912.74,577.797 1458.41,577.797 1458.41,1032.12 \n",
       "  \"/>\n",
       "<path clip-path=\"url(#clip212)\" d=\"\n",
       "M1458.41 577.797 L1912.74 577.797 L1912.74 123.472 L1458.41 123.472 L1458.41 577.797  Z\n",
       "  \" fill=\"#8e971d\" fill-rule=\"evenodd\" fill-opacity=\"0\"/>\n",
       "<polyline clip-path=\"url(#clip212)\" style=\"stroke:#808080; stroke-linecap:butt; stroke-linejoin:round; stroke-width:4; stroke-opacity:1; fill:none\" points=\"\n",
       "  1458.41,577.797 1912.74,577.797 1912.74,123.472 1458.41,123.472 1458.41,577.797 \n",
       "  \"/>\n",
       "</svg>\n"
      ]
     },
     "execution_count": 13,
     "metadata": {},
     "output_type": "execute_result"
    }
   ],
   "source": [
    "plot_grid_world(mdp)"
   ]
  },
  {
   "cell_type": "code",
   "execution_count": 14,
   "metadata": {},
   "outputs": [
    {
     "ename": "LoadError",
     "evalue": "UndefVarError: policy not defined",
     "output_type": "error",
     "traceback": [
      "UndefVarError: policy not defined",
      "",
      "Stacktrace:",
      " [1] top-level scope",
      "   @ In[14]:1",
      " [2] eval",
      "   @ ./boot.jl:360 [inlined]",
      " [3] include_string(mapexpr::typeof(REPL.softscope), mod::Module, code::String, filename::String)",
      "   @ Base ./loading.jl:1116"
     ]
    }
   ],
   "source": [
    "plot_grid_world(mdp, policy)"
   ]
  },
  {
   "cell_type": "code",
   "execution_count": 15,
   "metadata": {},
   "outputs": [
    {
     "ename": "LoadError",
     "evalue": "UndefVarError: policy not defined",
     "output_type": "error",
     "traceback": [
      "UndefVarError: policy not defined",
      "",
      "Stacktrace:",
      " [1] top-level scope",
      "   @ In[15]:1",
      " [2] eval",
      "   @ ./boot.jl:360 [inlined]",
      " [3] include_string(mapexpr::typeof(REPL.softscope), mod::Module, code::String, filename::String)",
      "   @ Base ./loading.jl:1116"
     ]
    }
   ],
   "source": [
    "plot_grid_world(mdp, policy, show_rewards=true)"
   ]
  },
  {
   "cell_type": "code",
   "execution_count": 16,
   "metadata": {},
   "outputs": [
    {
     "ename": "LoadError",
     "evalue": "UndefVarError: policy not defined",
     "output_type": "error",
     "traceback": [
      "UndefVarError: policy not defined",
      "",
      "Stacktrace:",
      " [1] top-level scope",
      "   @ In[16]:1",
      " [2] eval",
      "   @ ./boot.jl:360 [inlined]",
      " [3] include_string(mapexpr::typeof(REPL.softscope), mod::Module, code::String, filename::String)",
      "   @ Base ./loading.jl:1116"
     ]
    }
   ],
   "source": [
    "plot_grid_world(mdp, policy, 30)"
   ]
  },
  {
   "cell_type": "code",
   "execution_count": 17,
   "metadata": {},
   "outputs": [
    {
     "data": {
      "image/svg+xml": [
       "<?xml version=\"1.0\" encoding=\"utf-8\"?>\n",
       "<svg xmlns=\"http://www.w3.org/2000/svg\" xmlns:xlink=\"http://www.w3.org/1999/xlink\" width=\"600\" height=\"400\" viewBox=\"0 0 2400 1600\">\n",
       "<defs>\n",
       "  <clipPath id=\"clip250\">\n",
       "    <rect x=\"0\" y=\"0\" width=\"2400\" height=\"1600\"/>\n",
       "  </clipPath>\n",
       "</defs>\n",
       "<path clip-path=\"url(#clip250)\" d=\"\n",
       "M0 1600 L2400 1600 L2400 0 L0 0  Z\n",
       "  \" fill=\"#ffffff\" fill-rule=\"evenodd\" fill-opacity=\"1\"/>\n",
       "<defs>\n",
       "  <clipPath id=\"clip251\">\n",
       "    <rect x=\"480\" y=\"0\" width=\"1681\" height=\"1600\"/>\n",
       "  </clipPath>\n",
       "</defs>\n",
       "<path clip-path=\"url(#clip250)\" d=\"\n",
       "M549.763 1486.45 L1912.74 1486.45 L1912.74 123.472 L549.763 123.472  Z\n",
       "  \" fill=\"#ffffff\" fill-rule=\"evenodd\" fill-opacity=\"1\"/>\n",
       "<defs>\n",
       "  <clipPath id=\"clip252\">\n",
       "    <rect x=\"549\" y=\"123\" width=\"1364\" height=\"1364\"/>\n",
       "  </clipPath>\n",
       "</defs>\n",
       "<polyline clip-path=\"url(#clip252)\" style=\"stroke:#000000; stroke-linecap:butt; stroke-linejoin:round; stroke-width:2; stroke-opacity:0.1; fill:none\" points=\"\n",
       "  776.926,1486.45 776.926,123.472 \n",
       "  \"/>\n",
       "<polyline clip-path=\"url(#clip252)\" style=\"stroke:#000000; stroke-linecap:butt; stroke-linejoin:round; stroke-width:2; stroke-opacity:0.1; fill:none\" points=\"\n",
       "  1231.25,1486.45 1231.25,123.472 \n",
       "  \"/>\n",
       "<polyline clip-path=\"url(#clip252)\" style=\"stroke:#000000; stroke-linecap:butt; stroke-linejoin:round; stroke-width:2; stroke-opacity:0.1; fill:none\" points=\"\n",
       "  1685.58,1486.45 1685.58,123.472 \n",
       "  \"/>\n",
       "<polyline clip-path=\"url(#clip250)\" style=\"stroke:#000000; stroke-linecap:butt; stroke-linejoin:round; stroke-width:4; stroke-opacity:1; fill:none\" points=\"\n",
       "  549.763,1486.45 1912.74,1486.45 \n",
       "  \"/>\n",
       "<polyline clip-path=\"url(#clip250)\" style=\"stroke:#000000; stroke-linecap:butt; stroke-linejoin:round; stroke-width:4; stroke-opacity:1; fill:none\" points=\"\n",
       "  549.763,123.472 1912.74,123.472 \n",
       "  \"/>\n",
       "<polyline clip-path=\"url(#clip250)\" style=\"stroke:#000000; stroke-linecap:butt; stroke-linejoin:round; stroke-width:4; stroke-opacity:1; fill:none\" points=\"\n",
       "  776.926,1486.45 776.926,1505.35 \n",
       "  \"/>\n",
       "<polyline clip-path=\"url(#clip250)\" style=\"stroke:#000000; stroke-linecap:butt; stroke-linejoin:round; stroke-width:4; stroke-opacity:1; fill:none\" points=\"\n",
       "  1231.25,1486.45 1231.25,1505.35 \n",
       "  \"/>\n",
       "<polyline clip-path=\"url(#clip250)\" style=\"stroke:#000000; stroke-linecap:butt; stroke-linejoin:round; stroke-width:4; stroke-opacity:1; fill:none\" points=\"\n",
       "  1685.58,1486.45 1685.58,1505.35 \n",
       "  \"/>\n",
       "<path clip-path=\"url(#clip250)\" d=\"M767.308 1554.51 L774.947 1554.51 L774.947 1528.15 L766.637 1529.81 L766.637 1525.55 L774.901 1523.89 L779.576 1523.89 L779.576 1554.51 L787.215 1554.51 L787.215 1558.45 L767.308 1558.45 L767.308 1554.51 Z\" fill=\"#000000\" fill-rule=\"evenodd\" fill-opacity=\"1\" /><path clip-path=\"url(#clip250)\" d=\"M1225.9 1554.51 L1242.22 1554.51 L1242.22 1558.45 L1220.28 1558.45 L1220.28 1554.51 Q1222.94 1551.76 1227.52 1547.13 Q1232.13 1542.48 1233.31 1541.13 Q1235.56 1538.61 1236.44 1536.87 Q1237.34 1535.11 1237.34 1533.42 Q1237.34 1530.67 1235.39 1528.93 Q1233.47 1527.2 1230.37 1527.2 Q1228.17 1527.2 1225.72 1527.96 Q1223.29 1528.73 1220.51 1530.28 L1220.51 1525.55 Q1223.33 1524.42 1225.79 1523.84 Q1228.24 1523.26 1230.28 1523.26 Q1235.65 1523.26 1238.84 1525.95 Q1242.04 1528.63 1242.04 1533.12 Q1242.04 1535.25 1241.23 1537.17 Q1240.44 1539.07 1238.33 1541.67 Q1237.76 1542.34 1234.65 1545.55 Q1231.55 1548.75 1225.9 1554.51 Z\" fill=\"#000000\" fill-rule=\"evenodd\" fill-opacity=\"1\" /><path clip-path=\"url(#clip250)\" d=\"M1689.82 1539.81 Q1693.18 1540.53 1695.06 1542.8 Q1696.95 1545.07 1696.95 1548.4 Q1696.95 1553.52 1693.44 1556.32 Q1689.92 1559.12 1683.44 1559.12 Q1681.26 1559.12 1678.94 1558.68 Q1676.65 1558.26 1674.2 1557.41 L1674.2 1552.89 Q1676.14 1554.03 1678.46 1554.61 Q1680.77 1555.18 1683.3 1555.18 Q1687.69 1555.18 1689.99 1553.45 Q1692.3 1551.71 1692.3 1548.4 Q1692.3 1545.35 1690.15 1543.63 Q1688.02 1541.9 1684.2 1541.9 L1680.17 1541.9 L1680.17 1538.05 L1684.38 1538.05 Q1687.83 1538.05 1689.66 1536.69 Q1691.49 1535.3 1691.49 1532.71 Q1691.49 1530.05 1689.59 1528.63 Q1687.72 1527.2 1684.2 1527.2 Q1682.28 1527.2 1680.08 1527.61 Q1677.88 1528.03 1675.24 1528.91 L1675.24 1524.74 Q1677.9 1524 1680.22 1523.63 Q1682.56 1523.26 1684.62 1523.26 Q1689.94 1523.26 1693.04 1525.69 Q1696.14 1528.1 1696.14 1532.22 Q1696.14 1535.09 1694.5 1537.08 Q1692.86 1539.05 1689.82 1539.81 Z\" fill=\"#000000\" fill-rule=\"evenodd\" fill-opacity=\"1\" /><polyline clip-path=\"url(#clip252)\" style=\"stroke:#000000; stroke-linecap:butt; stroke-linejoin:round; stroke-width:2; stroke-opacity:0.1; fill:none\" points=\"\n",
       "  549.763,1259.29 1912.74,1259.29 \n",
       "  \"/>\n",
       "<polyline clip-path=\"url(#clip252)\" style=\"stroke:#000000; stroke-linecap:butt; stroke-linejoin:round; stroke-width:2; stroke-opacity:0.1; fill:none\" points=\"\n",
       "  549.763,804.96 1912.74,804.96 \n",
       "  \"/>\n",
       "<polyline clip-path=\"url(#clip252)\" style=\"stroke:#000000; stroke-linecap:butt; stroke-linejoin:round; stroke-width:2; stroke-opacity:0.1; fill:none\" points=\"\n",
       "  549.763,350.635 1912.74,350.635 \n",
       "  \"/>\n",
       "<polyline clip-path=\"url(#clip250)\" style=\"stroke:#000000; stroke-linecap:butt; stroke-linejoin:round; stroke-width:4; stroke-opacity:1; fill:none\" points=\"\n",
       "  549.763,1486.45 549.763,123.472 \n",
       "  \"/>\n",
       "<polyline clip-path=\"url(#clip250)\" style=\"stroke:#000000; stroke-linecap:butt; stroke-linejoin:round; stroke-width:4; stroke-opacity:1; fill:none\" points=\"\n",
       "  1912.74,1486.45 1912.74,123.472 \n",
       "  \"/>\n",
       "<polyline clip-path=\"url(#clip250)\" style=\"stroke:#000000; stroke-linecap:butt; stroke-linejoin:round; stroke-width:4; stroke-opacity:1; fill:none\" points=\"\n",
       "  549.763,1259.29 538.28,1259.29 \n",
       "  \"/>\n",
       "<polyline clip-path=\"url(#clip250)\" style=\"stroke:#000000; stroke-linecap:butt; stroke-linejoin:round; stroke-width:4; stroke-opacity:1; fill:none\" points=\"\n",
       "  549.763,804.96 538.28,804.96 \n",
       "  \"/>\n",
       "<polyline clip-path=\"url(#clip250)\" style=\"stroke:#000000; stroke-linecap:butt; stroke-linejoin:round; stroke-width:4; stroke-opacity:1; fill:none\" points=\"\n",
       "  549.763,350.635 538.28,350.635 \n",
       "  \"/>\n",
       "<path clip-path=\"url(#clip250)\" d=\"M475.856 1272.63 L483.495 1272.63 L483.495 1246.26 L475.185 1247.93 L475.185 1243.67 L483.449 1242.01 L488.125 1242.01 L488.125 1272.63 L495.763 1272.63 L495.763 1276.57 L475.856 1276.57 L475.856 1272.63 Z\" fill=\"#000000\" fill-rule=\"evenodd\" fill-opacity=\"1\" /><path clip-path=\"url(#clip250)\" d=\"M479.444 818.305 L495.763 818.305 L495.763 822.24 L473.819 822.24 L473.819 818.305 Q476.481 815.55 481.064 810.921 Q485.671 806.268 486.851 804.925 Q489.097 802.402 489.976 800.666 Q490.879 798.907 490.879 797.217 Q490.879 794.462 488.935 792.726 Q487.013 790.99 483.912 790.99 Q481.713 790.99 479.259 791.754 Q476.828 792.518 474.051 794.069 L474.051 789.347 Q476.875 788.212 479.328 787.634 Q481.782 787.055 483.819 787.055 Q489.189 787.055 492.384 789.74 Q495.578 792.425 495.578 796.916 Q495.578 799.046 494.768 800.967 Q493.981 802.865 491.875 805.458 Q491.296 806.129 488.194 809.347 Q485.092 812.541 479.444 818.305 Z\" fill=\"#000000\" fill-rule=\"evenodd\" fill-opacity=\"1\" /><path clip-path=\"url(#clip250)\" d=\"M488.634 349.281 Q491.99 349.998 493.865 352.267 Q495.763 354.535 495.763 357.869 Q495.763 362.984 492.245 365.785 Q488.726 368.586 482.245 368.586 Q480.069 368.586 477.754 368.146 Q475.463 367.73 473.009 366.873 L473.009 362.359 Q474.953 363.493 477.268 364.072 Q479.583 364.651 482.106 364.651 Q486.504 364.651 488.796 362.915 Q491.111 361.179 491.111 357.869 Q491.111 354.813 488.958 353.1 Q486.828 351.364 483.009 351.364 L478.981 351.364 L478.981 347.521 L483.194 347.521 Q486.643 347.521 488.472 346.156 Q490.3 344.767 490.3 342.174 Q490.3 339.512 488.402 338.1 Q486.527 336.665 483.009 336.665 Q481.088 336.665 478.888 337.082 Q476.689 337.498 474.051 338.378 L474.051 334.211 Q476.713 333.47 479.027 333.1 Q481.365 332.73 483.425 332.73 Q488.75 332.73 491.851 335.16 Q494.953 337.568 494.953 341.688 Q494.953 344.558 493.31 346.549 Q491.666 348.517 488.634 349.281 Z\" fill=\"#000000\" fill-rule=\"evenodd\" fill-opacity=\"1\" /><path clip-path=\"url(#clip250)\" d=\"M836.308 63.9476 L836.308 47.7034 L822.94 47.7034 L822.94 40.9789 L844.41 40.9789 L844.41 66.9452 Q839.671 70.3075 833.959 72.0494 Q828.247 73.7508 821.766 73.7508 Q807.587 73.7508 799.567 65.4869 Q791.586 57.1826 791.586 42.3968 Q791.586 27.5705 799.567 19.3066 Q807.587 11.0023 821.766 11.0023 Q827.68 11.0023 832.987 12.4606 Q838.334 13.9189 842.83 16.7545 L842.83 25.464 Q838.293 21.6156 833.189 19.6712 Q828.085 17.7268 822.454 17.7268 Q811.355 17.7268 805.765 23.9246 Q800.215 30.1225 800.215 42.3968 Q800.215 54.6305 805.765 60.8284 Q811.355 67.0263 822.454 67.0263 Q826.789 67.0263 830.191 66.2971 Q833.594 65.5274 836.308 63.9476 Z\" fill=\"#000000\" fill-rule=\"evenodd\" fill-opacity=\"1\" /><path clip-path=\"url(#clip250)\" d=\"M885.324 34.1734 Q884.069 33.4443 882.57 33.1202 Q881.111 32.7556 879.329 32.7556 Q873.01 32.7556 869.607 36.8875 Q866.245 40.9789 866.245 48.6757 L866.245 72.576 L858.75 72.576 L858.75 27.2059 L866.245 27.2059 L866.245 34.2544 Q868.594 30.1225 872.361 28.1376 Q876.129 26.1121 881.516 26.1121 Q882.286 26.1121 883.218 26.2337 Q884.15 26.3147 885.284 26.5172 L885.324 34.1734 Z\" fill=\"#000000\" fill-rule=\"evenodd\" fill-opacity=\"1\" /><path clip-path=\"url(#clip250)\" d=\"M893.143 27.2059 L900.596 27.2059 L900.596 72.576 L893.143 72.576 L893.143 27.2059 M893.143 9.54393 L900.596 9.54393 L900.596 18.9825 L893.143 18.9825 L893.143 9.54393 Z\" fill=\"#000000\" fill-rule=\"evenodd\" fill-opacity=\"1\" /><path clip-path=\"url(#clip250)\" d=\"M946.047 34.0924 L946.047 9.54393 L953.501 9.54393 L953.501 72.576 L946.047 72.576 L946.047 65.7705 Q943.698 69.8214 940.093 71.8063 Q936.528 73.7508 931.505 73.7508 Q923.281 73.7508 918.096 67.1883 Q912.951 60.6258 912.951 49.9314 Q912.951 39.2371 918.096 32.6746 Q923.281 26.1121 931.505 26.1121 Q936.528 26.1121 940.093 28.0971 Q943.698 30.0415 946.047 34.0924 M920.648 49.9314 Q920.648 58.1548 924.01 62.8538 Q927.413 67.5124 933.328 67.5124 Q939.242 67.5124 942.645 62.8538 Q946.047 58.1548 946.047 49.9314 Q946.047 41.7081 942.645 37.0496 Q939.242 32.3505 933.328 32.3505 Q927.413 32.3505 924.01 37.0496 Q920.648 41.7081 920.648 49.9314 Z\" fill=\"#000000\" fill-rule=\"evenodd\" fill-opacity=\"1\" /><path clip-path=\"url(#clip250)\" d=\"M990.162 12.096 L998.426 12.096 L1011.15 63.2184 L1023.82 12.096 L1033.02 12.096 L1045.74 63.2184 L1058.42 12.096 L1066.72 12.096 L1051.53 72.576 L1041.24 72.576 L1028.48 20.0763 L1015.6 72.576 L1005.31 72.576 L990.162 12.096 Z\" fill=\"#000000\" fill-rule=\"evenodd\" fill-opacity=\"1\" /><path clip-path=\"url(#clip250)\" d=\"M1089.98 32.4315 Q1083.98 32.4315 1080.5 37.1306 Q1077.01 41.7891 1077.01 49.9314 Q1077.01 58.0738 1080.46 62.7728 Q1083.94 67.4314 1089.98 67.4314 Q1095.93 67.4314 1099.41 62.7323 Q1102.9 58.0333 1102.9 49.9314 Q1102.9 41.8701 1099.41 37.1711 Q1095.93 32.4315 1089.98 32.4315 M1089.98 26.1121 Q1099.7 26.1121 1105.25 32.4315 Q1110.8 38.7509 1110.8 49.9314 Q1110.8 61.0714 1105.25 67.4314 Q1099.7 73.7508 1089.98 73.7508 Q1080.21 73.7508 1074.66 67.4314 Q1069.15 61.0714 1069.15 49.9314 Q1069.15 38.7509 1074.66 32.4315 Q1080.21 26.1121 1089.98 26.1121 Z\" fill=\"#000000\" fill-rule=\"evenodd\" fill-opacity=\"1\" /><path clip-path=\"url(#clip250)\" d=\"M1149.44 34.1734 Q1148.19 33.4443 1146.69 33.1202 Q1145.23 32.7556 1143.45 32.7556 Q1137.13 32.7556 1133.73 36.8875 Q1130.36 40.9789 1130.36 48.6757 L1130.36 72.576 L1122.87 72.576 L1122.87 27.2059 L1130.36 27.2059 L1130.36 34.2544 Q1132.71 30.1225 1136.48 28.1376 Q1140.25 26.1121 1145.64 26.1121 Q1146.41 26.1121 1147.34 26.2337 Q1148.27 26.3147 1149.4 26.5172 L1149.44 34.1734 Z\" fill=\"#000000\" fill-rule=\"evenodd\" fill-opacity=\"1\" /><path clip-path=\"url(#clip250)\" d=\"M1157.26 9.54393 L1164.72 9.54393 L1164.72 72.576 L1157.26 72.576 L1157.26 9.54393 Z\" fill=\"#000000\" fill-rule=\"evenodd\" fill-opacity=\"1\" /><path clip-path=\"url(#clip250)\" d=\"M1210.17 34.0924 L1210.17 9.54393 L1217.62 9.54393 L1217.62 72.576 L1210.17 72.576 L1210.17 65.7705 Q1207.82 69.8214 1204.21 71.8063 Q1200.65 73.7508 1195.62 73.7508 Q1187.4 73.7508 1182.22 67.1883 Q1177.07 60.6258 1177.07 49.9314 Q1177.07 39.2371 1182.22 32.6746 Q1187.4 26.1121 1195.62 26.1121 Q1200.65 26.1121 1204.21 28.0971 Q1207.82 30.0415 1210.17 34.0924 M1184.77 49.9314 Q1184.77 58.1548 1188.13 62.8538 Q1191.53 67.5124 1197.45 67.5124 Q1203.36 67.5124 1206.76 62.8538 Q1210.17 58.1548 1210.17 49.9314 Q1210.17 41.7081 1206.76 37.0496 Q1203.36 32.3505 1197.45 32.3505 Q1191.53 32.3505 1188.13 37.0496 Q1184.77 41.7081 1184.77 49.9314 Z\" fill=\"#000000\" fill-rule=\"evenodd\" fill-opacity=\"1\" /><path clip-path=\"url(#clip250)\" d=\"M1267.85 18.8205 L1267.85 41.5461 L1278.14 41.5461 Q1283.85 41.5461 1286.97 38.5889 Q1290.09 35.6318 1290.09 30.163 Q1290.09 24.7348 1286.97 21.7777 Q1283.85 18.8205 1278.14 18.8205 L1267.85 18.8205 M1259.67 12.096 L1278.14 12.096 Q1288.31 12.096 1293.49 16.714 Q1298.72 21.2916 1298.72 30.163 Q1298.72 39.1155 1293.49 43.6931 Q1288.31 48.2706 1278.14 48.2706 L1267.85 48.2706 L1267.85 72.576 L1259.67 72.576 L1259.67 12.096 Z\" fill=\"#000000\" fill-rule=\"evenodd\" fill-opacity=\"1\" /><path clip-path=\"url(#clip250)\" d=\"M1324 32.4315 Q1318 32.4315 1314.52 37.1306 Q1311.03 41.7891 1311.03 49.9314 Q1311.03 58.0738 1314.48 62.7728 Q1317.96 67.4314 1324 67.4314 Q1329.95 67.4314 1333.44 62.7323 Q1336.92 58.0333 1336.92 49.9314 Q1336.92 41.8701 1333.44 37.1711 Q1329.95 32.4315 1324 32.4315 M1324 26.1121 Q1333.72 26.1121 1339.27 32.4315 Q1344.82 38.7509 1344.82 49.9314 Q1344.82 61.0714 1339.27 67.4314 Q1333.72 73.7508 1324 73.7508 Q1314.23 73.7508 1308.68 67.4314 Q1303.18 61.0714 1303.18 49.9314 Q1303.18 38.7509 1308.68 32.4315 Q1314.23 26.1121 1324 26.1121 Z\" fill=\"#000000\" fill-rule=\"evenodd\" fill-opacity=\"1\" /><path clip-path=\"url(#clip250)\" d=\"M1357.17 9.54393 L1364.63 9.54393 L1364.63 72.576 L1357.17 72.576 L1357.17 9.54393 Z\" fill=\"#000000\" fill-rule=\"evenodd\" fill-opacity=\"1\" /><path clip-path=\"url(#clip250)\" d=\"M1380.22 27.2059 L1387.68 27.2059 L1387.68 72.576 L1380.22 72.576 L1380.22 27.2059 M1380.22 9.54393 L1387.68 9.54393 L1387.68 18.9825 L1380.22 18.9825 L1380.22 9.54393 Z\" fill=\"#000000\" fill-rule=\"evenodd\" fill-opacity=\"1\" /><path clip-path=\"url(#clip250)\" d=\"M1435.92 28.9478 L1435.92 35.9153 Q1432.76 34.1734 1429.56 33.3227 Q1426.4 32.4315 1423.16 32.4315 Q1415.91 32.4315 1411.9 37.0496 Q1407.89 41.6271 1407.89 49.9314 Q1407.89 58.2358 1411.9 62.8538 Q1415.91 67.4314 1423.16 67.4314 Q1426.4 67.4314 1429.56 66.5807 Q1432.76 65.6895 1435.92 63.9476 L1435.92 70.8341 Q1432.8 72.2924 1429.44 73.0216 Q1426.12 73.7508 1422.35 73.7508 Q1412.1 73.7508 1406.07 67.3098 Q1400.03 60.8689 1400.03 49.9314 Q1400.03 38.832 1406.11 32.472 Q1412.23 26.1121 1422.84 26.1121 Q1426.28 26.1121 1429.56 26.8413 Q1432.84 27.5299 1435.92 28.9478 Z\" fill=\"#000000\" fill-rule=\"evenodd\" fill-opacity=\"1\" /><path clip-path=\"url(#clip250)\" d=\"M1467.76 76.7889 Q1464.6 84.8907 1461.61 87.3618 Q1458.61 89.8329 1453.59 89.8329 L1447.63 89.8329 L1447.63 83.5945 L1452.01 83.5945 Q1455.08 83.5945 1456.79 82.1361 Q1458.49 80.6778 1460.55 75.2496 L1461.89 71.8468 L1443.54 27.2059 L1451.44 27.2059 L1465.62 62.6918 L1479.79 27.2059 L1487.69 27.2059 L1467.76 76.7889 Z\" fill=\"#000000\" fill-rule=\"evenodd\" fill-opacity=\"1\" /><path clip-path=\"url(#clip250)\" d=\"M1532.86 18.8205 L1532.86 41.5461 L1543.15 41.5461 Q1548.86 41.5461 1551.98 38.5889 Q1555.1 35.6318 1555.1 30.163 Q1555.1 24.7348 1551.98 21.7777 Q1548.86 18.8205 1543.15 18.8205 L1532.86 18.8205 M1524.68 12.096 L1543.15 12.096 Q1553.32 12.096 1558.5 16.714 Q1563.73 21.2916 1563.73 30.163 Q1563.73 39.1155 1558.5 43.6931 Q1553.32 48.2706 1543.15 48.2706 L1532.86 48.2706 L1532.86 72.576 L1524.68 72.576 L1524.68 12.096 Z\" fill=\"#000000\" fill-rule=\"evenodd\" fill-opacity=\"1\" /><path clip-path=\"url(#clip250)\" d=\"M1574.38 9.54393 L1581.84 9.54393 L1581.84 72.576 L1574.38 72.576 L1574.38 9.54393 Z\" fill=\"#000000\" fill-rule=\"evenodd\" fill-opacity=\"1\" /><path clip-path=\"url(#clip250)\" d=\"M1615.01 32.4315 Q1609.02 32.4315 1605.53 37.1306 Q1602.05 41.7891 1602.05 49.9314 Q1602.05 58.0738 1605.49 62.7728 Q1608.98 67.4314 1615.01 67.4314 Q1620.97 67.4314 1624.45 62.7323 Q1627.94 58.0333 1627.94 49.9314 Q1627.94 41.8701 1624.45 37.1711 Q1620.97 32.4315 1615.01 32.4315 M1615.01 26.1121 Q1624.74 26.1121 1630.29 32.4315 Q1635.84 38.7509 1635.84 49.9314 Q1635.84 61.0714 1630.29 67.4314 Q1624.74 73.7508 1615.01 73.7508 Q1605.25 73.7508 1599.7 67.4314 Q1594.19 61.0714 1594.19 49.9314 Q1594.19 38.7509 1599.7 32.4315 Q1605.25 26.1121 1615.01 26.1121 Z\" fill=\"#000000\" fill-rule=\"evenodd\" fill-opacity=\"1\" /><path clip-path=\"url(#clip250)\" d=\"M1655.56 14.324 L1655.56 27.2059 L1670.92 27.2059 L1670.92 32.9987 L1655.56 32.9987 L1655.56 57.6282 Q1655.56 63.1779 1657.06 64.7578 Q1658.6 66.3376 1663.26 66.3376 L1670.92 66.3376 L1670.92 72.576 L1663.26 72.576 Q1654.63 72.576 1651.35 69.3758 Q1648.07 66.1351 1648.07 57.6282 L1648.07 32.9987 L1642.6 32.9987 L1642.6 27.2059 L1648.07 27.2059 L1648.07 14.324 L1655.56 14.324 Z\" fill=\"#000000\" fill-rule=\"evenodd\" fill-opacity=\"1\" /><g clip-path=\"url(#clip252)\">\n",
       "<image width=\"1363\" height=\"1363\" xlink:href=\"data:image/png;base64,\n",
       "iVBORw0KGgoAAAANSUhEUgAABVMAAAVTCAYAAADA3bjlAAAgAElEQVR4nOzaQQ3DMAAEwbYqigAz\n",
       "SEMIiMIIjZRAH/uzK80guPfqntec9wMAAAB++IyxegIAbOO1egAAAAAAwD8QUwEAAAAAAjEVAAAA\n",
       "ACAQUwEAAAAAAjEVAAAAACAQUwEAAAAAAjEVAAAAACAQUwEAAAAAAjEVAAAAACAQUwEAAAAAAjEV\n",
       "AAAAACAQUwEAAAAAAjEVAAAAACAQUwEAAAAAAjEVAAAAACAQUwEAAAAAAjEVAAAAACAQUwEAAAAA\n",
       "AjEVAAAAACAQUwEAAAAAAjEVAAAAACAQUwEAAAAAAjEVAAAAACAQUwEAAAAAAjEVAAAAACAQUwEA\n",
       "AAAAAjEVAAAAACAQUwEAAAAAAjEVAAAAACAQUwEAAAAAAjEVAAAAACAQUwEAAAAAAjEVAAAAACAQ\n",
       "UwEAAAAAAjEVAAAAACAQUwEAAAAAAjEVAAAAACAQUwEAAAAAAjEVAAAAACAQUwEAAAAAAjEVAAAA\n",
       "ACAQUwEAAAAAAjEVAAAAACAQUwEAAAAAAjEVAAAAACAQUwEAAAAAAjEVAAAAACAQUwEAAAAAAjEV\n",
       "AAAAACAQUwEAAAAAAjEVAAAAACAQUwEAAAAAAjEVAAAAACAQUwEAAAAAAjEVAAAAACAQUwEAAAAA\n",
       "AjEVAAAAACAQUwEAAAAAAjEVAAAAACAQUwEAAAAAAjEVAAAAACAQUwEAAAAAAjEVAAAAACAQUwEA\n",
       "AAAAAjEVAAAAACAQUwEAAAAAAjEVAAAAACAQUwEAAAAAAjEVAAAAACAQUwEAAAAAAjEVAAAAACAQ\n",
       "UwEAAAAAAjEVAAAAACAQUwEAAAAAAjEVAAAAACAQUwEAAAAAAjEVAAAAACAQUwEAAAAAAjEVAAAA\n",
       "ACAQUwEAAAAAAjEVAAAAACAQUwEAAAAAAjEVAAAAACAQUwEAAAAAAjEVAAAAACAQUwEAAAAAAjEV\n",
       "AAAAACAQUwEAAAAAAjEVAAAAACAQUwEAAAAAAjEVAAAAACAQUwEAAAAAAjEVAAAAACAQUwEAAAAA\n",
       "AjEVAAAAACAQUwEAAAAAAjEVAAAAACAQUwEAAAAAAjEVAAAAACAQUwEAAAAAAjEVAAAAACAQUwEA\n",
       "AAAAAjEVAAAAACAQUwEAAAAAAjEVAAAAACAQUwEAAAAAAjEVAAAAACAQUwEAAAAAAjEVAAAAACAQ\n",
       "UwEAAAAAAjEVAAAAACAQUwEAAAAAAjEVAAAAACAQUwEAAAAAAjEVAAAAACAQUwEAAAAAAjEVAAAA\n",
       "ACAQUwEAAAAAAjEVAAAAACAQUwEAAAAAAjEVAAAAACAQUwEAAAAAAjEVAAAAACAQUwEAAAAAAjEV\n",
       "AAAAACAQUwEAAAAAAjEVAAAAACAQUwEAAAAAAjEVAAAAACAQUwEAAAAAAjEVAAAAACAQUwEAAAAA\n",
       "AjEVAAAAACAQUwEAAAAAAjEVAAAAACAQUwEAAAAAAjEVAAAAACAQUwEAAAAAAjEVAAAAACAQUwEA\n",
       "AAAAAjEVAAAAACAQUwEAAAAAAjEVAAAAACAQUwEAAAAAAjEVAAAAACAQUwEAAAAAAjEVAAAAACAQ\n",
       "UwEAAAAAAjEVAAAAACAQUwEAAAAAAjEVAAAAACAQUwEAAAAAAjEVAAAAACAQUwEAAAAAAjEVAAAA\n",
       "ACAQUwEAAAAAAjEVAAAAACAQUwEAAAAAAjEVAAAAACAQUwEAAAAAAjEVAAAAACAQUwEAAAAAAjEV\n",
       "AAAAACAQUwEAAAAAAjEVAAAAACAQUwEAAAAAAjEVAAAAACAQUwEAAAAAAjEVAAAAACAQUwEAAAAA\n",
       "AjEVAAAAACAQUwEAAAAAAjEVAAAAACAQUwEAAAAAAjEVAAAAACAQUwEAAAAAAjEVAAAAACAQUwEA\n",
       "AAAAAjEVAAAAACAQUwEAAAAAAjEVAAAAACAQUwEAAAAAAjEVAAAAACAQUwEAAAAAAjEVAAAAACAQ\n",
       "UwEAAAAAAjEVAAAAACAQUwEAAAAAAjEVAAAAACAQUwEAAAAAAjEVAAAAACAQUwEAAAAAAjEVAAAA\n",
       "ACAQUwEAAAAAAjEVAAAAACAQUwEAAAAAAjEVAAAAACAQUwEAAAAAAjEVAAAAACAQUwEAAAAAAjEV\n",
       "AAAAACAQUwEAAAAAAjEVAAAAACAQUwEAAAAAAjEVAAAAACAQUwEAAAAAAjEVAAAAACAQUwEAAAAA\n",
       "AjEVAAAAACAQUwEAAAAAAjEVAAAAACAQUwEAAAAAAjEVAAAAACAQUwEAAAAAAjEVAAAAACAQUwEA\n",
       "AAAAAjEVAAAAACAQUwEAAAAAAjEVAAAAACAQUwEAAAAAAjEVAAAAACAQUwEAAAAAAjEVAAAAACAQ\n",
       "UwEAAAAAAjEVAAAAACAQUwEAAAAAAjEVAAAAACAQUwEAAAAAAjEVAAAAACAQUwEAAAAAAjEVAAAA\n",
       "ACAQUwEAAAAAAjEVAAAAACAQUwEAAAAAAjEVAAAAACAQUwEAAAAAAjEVAAAAACAQUwEAAAAAAjEV\n",
       "AAAAACAQUwEAAAAAAjEVAAAAACAQUwEAAAAAAjEVAAAAACAQUwEAAAAAAjEVAAAAACAQUwEAAAAA\n",
       "AjEVAAAAACAQUwEAAAAAAjEVAAAAACAQUwEAAAAAAjEVAAAAACAQUwEAAAAAAjEVAAAAACAQUwEA\n",
       "AAAAAjEVAAAAACAQUwEAAAAAAjEVAAAAACAQUwEAAAAAAjEVAAAAACAQUwEAAAAAAjEVAAAAACAQ\n",
       "UwEAAAAAAjEVAAAAACAQUwEAAAAAAjEVAAAAACAQUwEAAAAAAjEVAAAAACAQUwEAAAAAAjEVAAAA\n",
       "ACAQUwEAAAAAAjEVAAAAACAQUwEAAAAAAjEVAAAAACAQUwEAAAAAAjEVAAAAACAQUwEAAAAAAjEV\n",
       "AAAAACAQUwEAAAAAAjEVAAAAACAQUwEAAAAAAjEVAAAAACAQUwEAAAAAAjEVAAAAACAQUwEAAAAA\n",
       "AjEVAAAAACAQUwEAAAAAAjEVAAAAACAQUwEAAAAAAjEVAAAAACAQUwEAAAAAAjEVAAAAACAQUwEA\n",
       "AAAAAjEVAAAAACAQUwEAAAAAAjEVAAAAACAQUwEAAAAAAjEVAAAAACAQUwEAAAAAAjEVAAAAACAQ\n",
       "UwEAAAAAAjEVAAAAACAQUwEAAAAAAjEVAAAAACAQUwEAAAAAAjEVAAAAACAQUwEAAAAAAjEVAAAA\n",
       "ACAQUwEAAAAAAjEVAAAAACAQUwEAAAAAAjEVAAAAACAQUwEAAAAAAjEVAAAAACAQUwEAAAAAAjEV\n",
       "AAAAACAQUwEAAAAAAjEVAAAAACAQUwEAAAAAAjEVAAAAACAQUwEAAAAAAjEVAAAAACAQUwEAAAAA\n",
       "AjEVAAAAACAQUwEAAAAAAjEVAAAAACAQUwEAAAAAAjEVAAAAACAQUwEAAAAAAjEVAAAAACAQUwEA\n",
       "AAAAAjEVAAAAACAQUwEAAAAAAjEVAAAAACAQUwEAAAAAAjEVAAAAACAQUwEAAAAAAjEVAAAAACAQ\n",
       "UwEAAAAAAjEVAAAAACAQUwEAAAAAAjEVAAAAACAQUwEAAAAAAjEVAAAAACAQUwEAAAAAAjEVAAAA\n",
       "ACAQUwEAAAAAAjEVAAAAACAQUwEAAAAAAjEVAAAAACAQUwEAAAAAAjEVAAAAACAQUwEAAAAAAjEV\n",
       "AAAAACAQUwEAAAAAAjEVAAAAACAQUwEAAAAAAjEVAAAAACAQUwEAAAAAAjEVAAAAACAQUwEAAAAA\n",
       "AjEVAAAAACAQUwEAAAAAAjEVAAAAACAQUwEAAAAAAjEVAAAAACAQUwEAAAAAAjEVAAAAACAQUwEA\n",
       "AAAAAjEVAAAAACAQUwEAAAAAAjEVAAAAACAQUwEAAAAAAjEVAAAAACAQUwEAAAAAAjEVAAAAACAQ\n",
       "UwEAAAAAAjEVAAAAACAQUwEAAAAAAjEVAAAAACAQUwEAAAAAAjEVAAAAACAQUwEAAAAAAjEVAAAA\n",
       "ACAQUwEAAAAAAjEVAAAAACAQUwEAAAAAAjEVAAAAACAQUwEAAAAAAjEVAAAAACAQUwEAAAAAAjEV\n",
       "AAAAACAQUwEAAAAAAjEVAAAAACAQUwEAAAAAAjEVAAAAACAQUwEAAAAAAjEVAAAAACAQUwEAAAAA\n",
       "AjEVAAAAACAQUwEAAAAAAjEVAAAAACAQUwEAAAAAAjEVAAAAACAQUwEAAAAAAjEVAAAAACAQUwEA\n",
       "AAAAAjEVAAAAACAQUwEAAAAAAjEVAAAAACAQUwEAAAAAAjEVAAAAACAQUwEAAAAAAjEVAAAAACAQ\n",
       "UwEAAAAAAjEVAAAAACAQUwEAAAAAAjEVAAAAACAQUwEAAAAAAjEVAAAAACAQUwEAAAAAAjEVAAAA\n",
       "ACAQUwEAAAAAAjEVAAAAACAQUwEAAAAAAjEVAAAAACAQUwEAAAAAAjEVAAAAACAQUwEAAAAAAjEV\n",
       "AAAAACAQUwEAAAAAAjEVAAAAACAQUwEAAAAAAjEVAAAAACAQUwEAAAAAAjEVAAAAACAQUwEAAAAA\n",
       "AjEVAAAAACAQUwEAAAAAAjEVAAAAACAQUwEAAAAAAjEVAAAAACAQUwEAAAAAAjEVAAAAACAQUwEA\n",
       "AAAAAjEVAAAAACAQUwEAAAAAAjEVAAAAACAQUwEAAAAAAjEVAAAAACAQUwEAAAAAAjEVAAAAACAQ\n",
       "UwEAAAAAAjEVAAAAACAQUwEAAAAAgvfqAQCwm+McqycAwDauOVdPAIBteKYCAAAAAARiKgAAAABA\n",
       "IKYCAAAAAARiKgAAAABAIKYCAAAAAARiKgAAAABAIKYCAAAAAARiKgAAAABAIKYCAAAAAARiKgAA\n",
       "AABAIKYCAAAAAARiKgAAAABAIKYCAAAAAARiKgAAAABAIKYCAAAAAARiKgAAAABAIKYCAAAAAARi\n",
       "KgAAAABAIKYCAAAAAARiKgAAAABAIKYCAAAAAARiKgAAAABAIKYCAAAAAARiKgAAAABAIKYCAAAA\n",
       "AARiKgAAAABAIKYCAAAAAARiKgAAAABAIKYCAAAAAARiKgAAAABAIKYCAAAAAARiKgAAAABAIKYC\n",
       "AAAAAARiKgAAAABAIKYCAAAAAARiKgAAAABAIKYCAAAAAARiKgAAAABAIKYCAAAAAARiKgAAAABA\n",
       "IKYCAAAAAARiKgAAAABAIKYCAAAAAARiKgAAAABAIKYCAAAAAARiKgAAAABAIKYCAAAAAARiKgAA\n",
       "AABAIKYCAAAAAARiKgAAAABAIKYCAAAAAARiKgAAAABAIKYCAAAAAARiKgAAAABAIKYCAAAAAARi\n",
       "KgAAAABAIKYCAAAAAARiKgAAAABAIKYCAAAAAARiKgAAAABAIKYCAAAAAARiKgAAAABAIKYCAAAA\n",
       "AARiKgAAAABAIKYCAAAAAARiKgAAAABAIKYCAAAAAARiKgAAAABAIKYCAAAAAARiKgAAAABAIKYC\n",
       "AAAAAARiKgAAAABAIKYCAAAAAARiKgAAAABAIKYCAAAAAARiKgAAAABAIKYCAAAAAARiKgAAAABA\n",
       "IKYCAAAAAARiKgAAAABAIKYCAAAAAARiKgAAAABAIKYCAAAAAARiKgAAAABAIKYCAAAAAARiKgAA\n",
       "AABAIKYCAAAAAARiKgAAAABAIKYCAAAAAARiKgAAAABAIKYCAAAAAARiKgAAAABAIKYCAAAAAARi\n",
       "KgAAAABAIKYCAAAAAARiKgAAAABAIKYCAAAAAARiKgAAAABAIKYCAAAAAARiKgAAAABAIKYCAAAA\n",
       "AARiKgAAAABAIKYCAAAAAARiKgAAAABAIKYCAAAAAARiKgAAAABAIKYCAAAAAARiKgAAAABAIKYC\n",
       "AAAAAARiKgAAAABAIKYCAAAAAARiKgAAAABAIKYCAAAAAARiKgAAAABAIKYCAAAAAARiKgAAAABA\n",
       "IKYCAAAAAARiKgAAAABAIKYCAAAAAARiKgAAAABAIKYCAAAAAARiKgAAAABAIKYCAAAAAARiKgAA\n",
       "AABAIKYCAAAAAARiKgAAAABAIKYCAAAAAARiKgAAAABAIKYCAAAAAARiKgAAAABAIKYCAAAAAARi\n",
       "KgAAAABAIKYCAAAAAARiKgAAAABAIKYCAAAAAARiKgAAAABAIKYCAAAAAARiKgAAAABAIKYCAAAA\n",
       "AARiKgAAAABAIKYCAAAAAARiKgAAAABAIKYCAAAAAARiKgAAAABAIKYCAAAAAARiKgAAAABAIKYC\n",
       "AAAAAARiKgAAAABAIKYCAAAAAARiKgAAAABAIKYCAAAAAARiKgAAAABAIKYCAAAAAARiKgAAAABA\n",
       "IKYCAAAAAARiKgAAAABAIKYCAAAAAARiKgAAAABAIKYCAAAAAARiKgAAAABAIKYCAAAAAARiKgAA\n",
       "AABAIKYCAAAAAARiKgAAAABAIKYCAAAAAARiKgAAAABAIKYCAAAAAARiKgAAAABAIKYCAAAAAARi\n",
       "KgAAAABAIKYCAAAAAARiKgAAAABAIKYCAAAAAARiKgAAAABAIKYCAAAAAARiKgAAAABAIKYCAAAA\n",
       "AARiKgAAAABAIKYCAAAAAARiKgAAAABAIKYCAAAAAARiKgAAAABAIKYCAAAAAARiKgAAAABAIKYC\n",
       "AAAAAARiKgAAAABAIKYCAAAAAARiKgAAAABAIKYCAAAAAARiKgAAAABAIKYCAAAAAARiKgAAAABA\n",
       "IKYCAAAAAARiKgAAAABAIKYCAAAAAARiKgAAAABAIKYCAAAAAARiKgAAAABAIKYCAAAAAARiKgAA\n",
       "AABAIKYCAAAAAARiKgAAAABAIKYCAAAAAARiKgAAAABAIKYCAAAAAARiKgAAAABAIKYCAAAAAARi\n",
       "KgAAAABAIKYCAAAAAARiKgAAAABAIKYCAAAAAARiKgAAAABAIKYCAAAAAARiKgAAAABAIKYCAAAA\n",
       "AARiKgAAAABAIKYCAAAAAARiKgAAAABAIKYCAAAAAARiKgAAAABAIKYCAAAAAARiKgAAAABAIKYC\n",
       "AAAAAARiKgAAAABAIKYCAAAAAARiKgAAAABAIKYCAAAAAARiKgAAAABAIKYCAAAAAARiKgAAAABA\n",
       "IKYCAAAAAARiKgAAAABAIKYCAAAAAARiKgAAAABAIKYCAAAAAARiKgAAAABAIKYCAAAAAARiKgAA\n",
       "AABAIKYCAAAAAARiKgAAAABAIKYCAAAAAARiKgAAAABAIKYCAAAAAARiKgAAAABAIKYCAAAAAARi\n",
       "KgAAAABAIKYCAAAAAARiKgAAAABAIKYCAAAAAARiKgAAAABAIKYCAAAAAARiKgAAAABAIKYCAAAA\n",
       "AARiKgAAAABAIKYCAAAAAARiKgAAAABAIKYCAAAAAARiKgAAAABAIKYCAAAAAARiKgAAAABAIKYC\n",
       "AAAAAARiKgAAAABAIKYCAAAAAARiKgAAAABAIKYCAAAAAARiKgAAAABAIKYCAAAAAARiKgAAAABA\n",
       "IKYCAAAAAARiKgAAAABAIKYCAAAAAARiKgAAAABAIKYCAAAAAARiKgAAAABAIKYCAAAAAARiKgAA\n",
       "AABAIKYCAAAAAARiKgAAAABAIKYCAAAAAARiKgAAAABAIKYCAAAAAARiKgAAAABAIKYCAAAAAARi\n",
       "KgAAAABAIKYCAAAAAARiKgAAAABAIKYCAAAAAARiKgAAAMC3XTsmAgAEYiDYoA2xCEMHFq7ji10F\n",
       "qW8CEIipAAAAAACBmAoAAAAAEIipAAAAAACBmAoAAAAAEIipAAAAAACBmAoAAAAAEIipAAAAAACB\n",
       "mAoAAAAAEIipAAAAAACBmAoAAAAAEIipAAAAAACBmAoAAAAAEIipAAAAAACBmAoAAAAAEIipAAAA\n",
       "AACBmAoAAAAAEIipAAAAAACBmAoAAAAAEIipAAAAAACBmAoAAAAAEIipAAAAAACBmAoAAAAAEIip\n",
       "AAAAAACBmAoAAAAAEIipAAAAAACBmAoAAAAAEIipAAAAAACBmAoAAAAAEIipAAAAAACBmAoAAAAA\n",
       "EIipAAAAAACBmAoAAAAAEIipAAAAAACBmAoAAAAAEIipAAAAAACBmAoAAAAAEIipAAAAAACBmAoA\n",
       "AAAAEIipAAAAAACBmAoAAAAAEIipAAAAAACBmAoAAAAAEIipAAAAAACBmAoAAAAAEIipAAAAAACB\n",
       "mAoAAAAAEIipAAAAAACBmAoAAAAAEIipAAAAAACBmAoAAAAAEIipAAAAAACBmAoAAAAAEIipAAAA\n",
       "AACBmAoAAAAAEIipAAAAAACBmAoAAAAAEIipAAAAAACBmAoAAAAAEIipAAAAAACBmAoAAAAAEIip\n",
       "AAAAAACBmAoAAAAAEIipAAAAAACBmAoAAAAAEIipAAAAAACBmAoAAAAAEIipAAAAAACBmAoAAAAA\n",
       "EIipAAAAAACBmAoAAAAAEIipAAAAAACBmAoAAAAAEIipAAAAAACBmAoAAAAAEIipAAAAAACBmAoA\n",
       "AAAAEIipAAAAAACBmAoAAAAAEIipAAAAAACBmAoAAAAAEIipAAAAAACBmAoAAAAAEIipAAAAAACB\n",
       "mAoAAAAAEIipAAAAAACBmAoAAAAAEIipAAAAAACBmAoAAAAAEIipAAAAAACBmAoAAAAAEIipAAAA\n",
       "AACBmAoAAAAAEIipAAAAAACBmAoAAAAAEIipAAAAAACBmAoAAAAAEIipAAAAAACBmAoAAAAAEIip\n",
       "AAAAAACBmAoAAAAAEIipAAAAAACBmAoAAAAAEIipAAAAAACBmAoAAAAAEIipAAAAAACBmAoAAAAA\n",
       "EIipAAAAAACBmAoAAAAAEIipAAAAAACBmAoAAAAAEIipAAAAAACBmAoAAAAAEIipAAAAAACBmAoA\n",
       "AAAAEIipAAAAAACBmAoAAAAAEIipAAAAAACBmAoAAAAAEIipAAAAAACBmAoAAAAAEIipAAAAAACB\n",
       "mAoAAAAAEIipAAAAAACBmAoAAAAAEIipAAAAAACBmAoAAAAAEIipAAAAAACBmAoAAAAAEIipAAAA\n",
       "AACBmAoAAAAAEIipAAAAAACBmAoAAAAAEIipAAAAAACBmAoAAAAAEIipAAAAAACBmAoAAAAAEIip\n",
       "AAAAAACBmAoAAAAAEIipAAAAAACBmAoAAAAAEIipAAAAAACBmAoAAAAAEIipAAAAAACBmAoAAAAA\n",
       "EIipAAAAAACBmAoAAAAAEIipAAAAAACBmAoAAAAAEIipAAAAAACBmAoAAAAAEIipAAAAAACBmAoA\n",
       "AAAAEIipAAAAAACBmAoAAAAAEIipAAAAAACBmAoAAAAAEIipAAAAAACBmAoAAAAAEIipAAAAAACB\n",
       "mAoAAAAAEIipAAAAAACBmAoAAAAAEIipAAAAAACBmAoAAAAAEIipAAAAAADB+j0AAKa5+/yeAAAA\n",
       "wECeqQAAAAAAgZgKAAAAABCIqQAAAAAAgZgKAAAAABCIqQAAAAAAgZgKAAAAABCIqQAAAAAAgZgK\n",
       "AAAAABCIqQAAAAAAgZgKAAAAABCIqQAAAAAAgZgKAAAAABCIqQAAAAAAgZgKAAAAABCIqQAAAAAA\n",
       "gZgKAAAAABCIqQAAAAAAgZgKAAAAABCIqQAAAAAAgZgKAAAAABCIqQAAAAAAgZgKAAAAABCIqQAA\n",
       "AAAAgZgKAAAAABCIqQAAAAAAgZgKAAAAABCIqQAAAAAAgZgKAAAAABCIqQAAAAAAgZgKAAAAABCI\n",
       "qQAAAAAAgZgKAAAAABCIqQAAAAAAgZgKAAAAABCIqQAAAAAAgZgKAAAAABCIqQAAAAAAgZgKAAAA\n",
       "ABCIqQAAAAAAgZgKAAAAABCIqQAAAAAAgZgKAAAAABCIqQAAAAAAgZgKAAAAABCIqQAAAAAAgZgK\n",
       "AAAAABCIqQAAAAAAgZgKAAAAABCIqQAAAAAAgZgKAAAAABCIqQAAAAAAgZgKAAAAABCIqQAAAAAA\n",
       "gZgKAAAAABCIqQAAAAAAgZgKAAAAABCIqQAAAAAAgZgKAAAAABCIqQAAAAAAgZgKAAAAABCIqQAA\n",
       "AAAAgZgKAAAAABCIqQAAAAAAgZgKAAAAABCIqQAAAAAAgZgKAAAAABCIqQAAAAAAgZgKAAAAABCI\n",
       "qQAAAAAAgZgKAAAAABCIqQAAAAAAgZgKAAAAABCIqQAAAAAAgZgKAAAAABCIqQAAAAAAgZgKAAAA\n",
       "ABCIqQAAAAAAgZgKAAAAABCIqQAAAAAAgZgKAAAAABCIqQAAAAAAgZgKAAAAABCIqQAAAAAAgZgK\n",
       "AAAAABCIqQAAAAAAgZgKAAAAABCIqQAAAAAAgZgKAAAAABCIqQAAAAAAgZgKAAAAABCIqQAAAAAA\n",
       "gZgKAAAAABCIqQAAAAAAgZgKAAAAABCIqQAAAAAAgZgKAAAAABCIqQAAAAAAgZgKAAAAABCIqQAA\n",
       "AAAAgZgKAAAAABCIqQAAAAAAgZgKAAAAABCIqQAAAAAAgZgKAAAAABCIqQAAAAAAgZgKAAAAABCI\n",
       "qQAAAAAAgZgKAAAAABCIqQAAAAAAgZgKAAAAABCIqQAAAAAAgZgKAAAAABCIqQAAAAAAgZgKAAAA\n",
       "ABCIqQAAAAAAgZgKAAAAABCIqQAAAAAAgZgKAAAAABCIqQAAAAAAgZgKAAAAABCIqQAAAAAAgZgK\n",
       "AAAAABCIqQAAAAAAgZgKAAAAABCIqQAAAAAAgZgKAAAAABCIqQAAAAAAgZgKAAAAABCIqQAAAAAA\n",
       "gZgKAAAAABCIqQAAAAAAgZgKAAAAABCIqQAAAAAAgZgKAAAAABCIqQAAAAAAgZgKAAAAABCIqQAA\n",
       "AAAAgZgKAAAAABCIqQAAAAAAgZgKAAAAABCIqQAAAAAAgZgKAAAAABCIqQAAAAAAgZgKAAAAABCI\n",
       "qQAAAAAAgZgKAAAAABCIqQAAAAAAgZgKAAAAABCIqQAAAAAAgZgKAAAAABCIqQAAAAAAgZgKAAAA\n",
       "ABCIqQAAAAAAgZgKAAAAABCIqQAAAAAAgZgKAAAAABCIqQAAAAAAgZgKAAAAABCIqQAAAAAAgZgK\n",
       "AAAAABCIqQAAAAAAgZgKAAAAABCIqQAAAAAAgZgKAAAAABCIqQAAAAAAgZgKAAAAABCIqQAAAAAA\n",
       "gZgKAAAAABCIqQAAAAAAgZgKAAAAABCIqXjTCAUAAAhOSURBVAAAAAAAgZgKAAAAABCIqQAAAAAA\n",
       "gZgKAAAAABCIqQAAAAAAgZgKAAAAABCIqQAAAAAAgZgKAAAAABCIqQAAAAAAgZgKAAAAABCIqQAA\n",
       "AAAAgZgKAAAAABCIqQAAAAAAgZgKAAAAABCIqQAAAAAAgZgKAAAAABCIqQAAAAAAgZgKAAAAABCI\n",
       "qQAAAAAAgZgKAAAAABCIqQAAAAAAgZgKAAAAABCIqQAAAAAAgZgKAAAAABCIqQAAAAAAgZgKAAAA\n",
       "ABCIqQAAAAAAgZgKAAAAABCIqQAAAAAAgZgKAAAAABCIqQAAAAAAgZgKAAAAABCIqQAAAAAAgZgK\n",
       "AAAAABCIqQAAAAAAgZgKAAAAABCIqQAAAAAAgZgKAAAAABCIqQAAAAAAgZgKAAAAABCIqQAAAAAA\n",
       "gZgKAAAAABCIqQAAAAAAgZgKAAAAABCIqQAAAAAAgZgKAAAAABCIqQAAAAAAgZgKAAAAABCIqQAA\n",
       "AAAAgZgKAAAAABCIqQAAAAAAgZgKAAAAABCIqQAAAAAAgZgKAAAAABCIqQAAAAAAgZgKAAAAABCI\n",
       "qQAAAAAAgZgKAAAAABCIqQAAAAAAgZgKAAAAABCIqQAAAAAAgZgKAAAAABCIqQAAAAAAgZgKAAAA\n",
       "ABCIqQAAAAAAgZgKAAAAABCIqQAAAAAAgZgKAAAAABCIqQAAAAAAgZgKAAAAABCIqQAAAAAAgZgK\n",
       "AAAAABCIqQAAAAAAgZgKAAAAABCIqQAAAAAAgZgKAAAAABCIqQAAAAAAgZgKAAAAABCIqQAAAAAA\n",
       "gZgKAAAAABCIqQAAAAAAgZgKAAAAABCIqQAAAAAAgZgKAAAAABCIqQAAAAAAgZgKAAAAABCIqQAA\n",
       "AAAAgZgKAAAAABCIqQAAAAAAgZgKAAAAABCIqQAAAAAAgZgKAAAAABCIqQAAAAAAgZgKAAAAABCI\n",
       "qQAAAAAAgZgKAAAAABCIqQAAAAAAgZgKAAAAABCIqQAAAAAAgZgKAAAAABCIqQAAAAAAgZgKAAAA\n",
       "ABCIqQAAAAAAgZgKAAAAABCIqQAAAAAAgZgKAAAAABCIqQAAAAAAgZgKAAAAABCIqQAAAAAAgZgK\n",
       "AAAAABCIqQAAAAAAgZgKAAAAABCIqQAAAAAAgZgKAAAAABCIqQAAAAAAgZgKAAAAABCIqQAAAAAA\n",
       "gZgKAAAAABCIqQAAAAAAgZgKAAAAABCIqQAAAAAAgZgKAAAAABCIqQAAAAAAgZgKAAAAABCIqQAA\n",
       "AAAAgZgKAAAAABCIqQAAAAAAgZgKAAAAABCIqQAAAAAAgZgKAAAAABCIqQAAAAAAgZgKAAAAABCI\n",
       "qQAAAAAAgZgKAAAAABCIqQAAAAAAgZgKAAAAABCIqQAAAAAAgZgKAAAAABCIqQAAAAAAgZgKAAAA\n",
       "ABCIqQAAAAAAgZgKAAAAABCIqQAAAAAAgZgKAAAAABCIqQAAAAAAgZgKAAAAABCIqQAAAAAAgZgK\n",
       "AAAAABCIqQAAAAAAgZgKAAAAABCIqQAAAAAAgZgKAAAAABCIqQAAAAAAgZgKAAAAABCIqQAAAAAA\n",
       "gZgKAAAAABCIqQAAAAAAgZgKAAAAABCIqQAAAAAAgZgKAAAAABCIqQAAAAAAgZgKAAAAABCIqQAA\n",
       "AAAAgZgKAAAAABCIqQAAAAAAgZgKAAAAABCIqQAAAAAAgZgKAAAAABCIqQAAAAAAgZgKAAAAABCI\n",
       "qQAAAAAAgZgKAAAAABCIqQAAAAAAgZgKAAAAABCIqQAAAAAAgZgKAAAAABCIqQAAAAAAgZgKAAAA\n",
       "ABCIqQAAAAAAgZgKAAAAABCIqQAAAAAAgZgKAAAAABCIqQAAAAAAgZgKAAAAABCIqQAAAAAAgZgK\n",
       "AAAAABCIqQAAAAAAgZgKAAAAABCIqQAAAAAAgZgKAAAAABCIqQAAAAAAgZgKAAAAABCIqQAAAAAA\n",
       "gZgKAAAAABCIqQAAAAAAgZgKAAAAABCIqQAAAAAAgZgKAAAAABCIqQAAAAAAgZgKAAAAABCIqQAA\n",
       "AAAAgZgKAAAAABCIqQAAAAAAgZgKAAAAABCIqQAAAAAAgZgKAAAAABCIqQAAAAAAgZgKAAAAABCI\n",
       "qQAAAAAAgZgKAAAAABCIqQAAAAAAgZgKAAAAABCIqQAAAAAAgZgKAAAAABCIqQAAAAAAgZgKAAAA\n",
       "ABCIqQAAAAAAgZgKAAAAABCIqQAAAAAAgZgKAAAAABCIqQAAAAAAgZgKAAAAABCIqQAAAAAAgZgK\n",
       "AAAAABCIqQAAAAAAgZgKAAAAABCIqQAAAAAAgZgKAAAAABCIqQAAAAAAgZgKAAAAABCIqQAAAAAA\n",
       "gZgKAAAAABCIqQAAAAAAgZgKAAAAABCIqQAAAAAAgZgKAAAAABCIqQAAAAAAgZgKAAAAABCIqQAA\n",
       "AAAAgZgKAAAAABCIqQAAAAAAgZgKAAAAABCIqQAAAAAAgZgKAAAAABCIqQAAAAAAgZgKAAAAABCI\n",
       "qQAAAAAAgZgKAAAAABCIqQAAAAAAgZgKAAAAABCIqQAAAAAAgZgKAAAAABCIqQAAAAAAgZgKAAAA\n",
       "ABCIqQAAAAAAgZgKAAAAABCIqQAAAAAAgZgKAAAAABCIqQAAAAAAgZgKAAAAABCIqQAAAAAAgZgK\n",
       "AAAAABCIqQAAAAAAgZgKAAAAABCIqQAAAAAAgZgKAAAAABCIqQAAAAAAgZgKAAAAABCIqQAAAAAA\n",
       "gZgKAAAAABCIqQAAAAAAgZgKAAAAABCIqQAAAAAAgZgKAAAAABCIqQAAAAAAgZgKAAAAABCIqQAA\n",
       "AAAAgZgKAAAAABCIqQAAAAAAgZgKAAAAABCIqQAAAAAAgZgKAAAAABCIqQAAAAAAwQPo+xSXzZb0\n",
       "tQAAAABJRU5ErkJggg==\n",
       "\" transform=\"translate(550, 123)\"/>\n",
       "</g>\n",
       "<path clip-path=\"url(#clip252)\" d=\"\n",
       "M549.763 1486.45 L1004.09 1486.45 L1004.09 1032.12 L549.763 1032.12 L549.763 1486.45  Z\n",
       "  \" fill=\"#e26f46\" fill-rule=\"evenodd\" fill-opacity=\"0\"/>\n",
       "<polyline clip-path=\"url(#clip252)\" style=\"stroke:#808080; stroke-linecap:butt; stroke-linejoin:round; stroke-width:4; stroke-opacity:1; fill:none\" points=\"\n",
       "  549.763,1486.45 1004.09,1486.45 1004.09,1032.12 549.763,1032.12 549.763,1486.45 \n",
       "  \"/>\n",
       "<path clip-path=\"url(#clip252)\" d=\"\n",
       "M549.763 1032.12 L1004.09 1032.12 L1004.09 577.797 L549.763 577.797 L549.763 1032.12  Z\n",
       "  \" fill=\"#3da44d\" fill-rule=\"evenodd\" fill-opacity=\"0\"/>\n",
       "<polyline clip-path=\"url(#clip252)\" style=\"stroke:#808080; stroke-linecap:butt; stroke-linejoin:round; stroke-width:4; stroke-opacity:1; fill:none\" points=\"\n",
       "  549.763,1032.12 1004.09,1032.12 1004.09,577.797 549.763,577.797 549.763,1032.12 \n",
       "  \"/>\n",
       "<path clip-path=\"url(#clip252)\" d=\"\n",
       "M549.763 577.797 L1004.09 577.797 L1004.09 123.472 L549.763 123.472 L549.763 577.797  Z\n",
       "  \" fill=\"#c271d2\" fill-rule=\"evenodd\" fill-opacity=\"0\"/>\n",
       "<polyline clip-path=\"url(#clip252)\" style=\"stroke:#808080; stroke-linecap:butt; stroke-linejoin:round; stroke-width:4; stroke-opacity:1; fill:none\" points=\"\n",
       "  549.763,577.797 1004.09,577.797 1004.09,123.472 549.763,123.472 549.763,577.797 \n",
       "  \"/>\n",
       "<path clip-path=\"url(#clip252)\" d=\"\n",
       "M1004.09 1486.45 L1458.41 1486.45 L1458.41 1032.12 L1004.09 1032.12 L1004.09 1486.45  Z\n",
       "  \" fill=\"#ac8d18\" fill-rule=\"evenodd\" fill-opacity=\"0\"/>\n",
       "<polyline clip-path=\"url(#clip252)\" style=\"stroke:#808080; stroke-linecap:butt; stroke-linejoin:round; stroke-width:4; stroke-opacity:1; fill:none\" points=\"\n",
       "  1004.09,1486.45 1458.41,1486.45 1458.41,1032.12 1004.09,1032.12 1004.09,1486.45 \n",
       "  \"/>\n",
       "<path clip-path=\"url(#clip252)\" d=\"\n",
       "M1004.09 1032.12 L1458.41 1032.12 L1458.41 577.797 L1004.09 577.797 L1004.09 1032.12  Z\n",
       "  \" fill=\"#00a9ad\" fill-rule=\"evenodd\" fill-opacity=\"0\"/>\n",
       "<polyline clip-path=\"url(#clip252)\" style=\"stroke:#808080; stroke-linecap:butt; stroke-linejoin:round; stroke-width:4; stroke-opacity:1; fill:none\" points=\"\n",
       "  1004.09,1032.12 1458.41,1032.12 1458.41,577.797 1004.09,577.797 1004.09,1032.12 \n",
       "  \"/>\n",
       "<path clip-path=\"url(#clip252)\" d=\"\n",
       "M1004.09 577.797 L1458.41 577.797 L1458.41 123.472 L1004.09 123.472 L1004.09 577.797  Z\n",
       "  \" fill=\"#ed5d92\" fill-rule=\"evenodd\" fill-opacity=\"0\"/>\n",
       "<polyline clip-path=\"url(#clip252)\" style=\"stroke:#808080; stroke-linecap:butt; stroke-linejoin:round; stroke-width:4; stroke-opacity:1; fill:none\" points=\"\n",
       "  1004.09,577.797 1458.41,577.797 1458.41,123.472 1004.09,123.472 1004.09,577.797 \n",
       "  \"/>\n",
       "<path clip-path=\"url(#clip252)\" d=\"\n",
       "M1458.41 1486.45 L1912.74 1486.45 L1912.74 1032.12 L1458.41 1032.12 L1458.41 1486.45  Z\n",
       "  \" fill=\"#c68125\" fill-rule=\"evenodd\" fill-opacity=\"0\"/>\n",
       "<polyline clip-path=\"url(#clip252)\" style=\"stroke:#808080; stroke-linecap:butt; stroke-linejoin:round; stroke-width:4; stroke-opacity:1; fill:none\" points=\"\n",
       "  1458.41,1486.45 1912.74,1486.45 1912.74,1032.12 1458.41,1032.12 1458.41,1486.45 \n",
       "  \"/>\n",
       "<path clip-path=\"url(#clip252)\" d=\"\n",
       "M1458.41 1032.12 L1912.74 1032.12 L1912.74 577.797 L1458.41 577.797 L1458.41 1032.12  Z\n",
       "  \" fill=\"#00a98d\" fill-rule=\"evenodd\" fill-opacity=\"0\"/>\n",
       "<polyline clip-path=\"url(#clip252)\" style=\"stroke:#808080; stroke-linecap:butt; stroke-linejoin:round; stroke-width:4; stroke-opacity:1; fill:none\" points=\"\n",
       "  1458.41,1032.12 1912.74,1032.12 1912.74,577.797 1458.41,577.797 1458.41,1032.12 \n",
       "  \"/>\n",
       "<path clip-path=\"url(#clip252)\" d=\"\n",
       "M1458.41 577.797 L1912.74 577.797 L1912.74 123.472 L1458.41 123.472 L1458.41 577.797  Z\n",
       "  \" fill=\"#8e971d\" fill-rule=\"evenodd\" fill-opacity=\"0\"/>\n",
       "<polyline clip-path=\"url(#clip252)\" style=\"stroke:#808080; stroke-linecap:butt; stroke-linejoin:round; stroke-width:4; stroke-opacity:1; fill:none\" points=\"\n",
       "  1458.41,577.797 1912.74,577.797 1912.74,123.472 1458.41,123.472 1458.41,577.797 \n",
       "  \"/>\n",
       "<path clip-path=\"url(#clip250)\" d=\"M810.053 1265.16 Q810.498 1265.6 810.498 1266.23 Q810.498 1266.86 810.053 1267.31 Q809.609 1267.75 808.979 1267.75 L750.839 1267.75 Q754.322 1270.09 756.768 1273.2 Q760.659 1278.13 761.771 1284.13 Q761.771 1284.17 761.808 1284.32 Q761.845 1284.43 761.845 1284.46 Q761.845 1285.09 761.4 1285.5 Q760.955 1285.95 760.325 1285.95 Q759.77 1285.95 759.362 1285.61 Q758.954 1285.28 758.843 1284.76 Q757.88 1279.61 754.434 1275.13 Q749.579 1269.09 744.021 1267.23 Q743.354 1266.97 743.354 1266.23 Q743.354 1265.49 744.021 1265.23 Q749.579 1263.38 754.434 1257.34 Q757.88 1252.86 758.843 1247.71 Q758.954 1247.19 759.362 1246.85 Q759.77 1246.52 760.325 1246.52 Q760.955 1246.52 761.4 1246.96 Q761.845 1247.37 761.845 1248 Q761.845 1248.04 761.808 1248.19 Q761.771 1248.3 761.771 1248.34 Q760.659 1254.34 756.768 1259.27 Q754.322 1262.38 750.839 1264.71 L808.979 1264.71 Q809.609 1264.71 810.053 1265.16 Z\" fill=\"#000000\" fill-rule=\"evenodd\" fill-opacity=\"1\" /><path clip-path=\"url(#clip250)\" d=\"M794.379 826.396 Q794.379 827.434 793.304 827.841 Q788.376 829.324 784.522 832.992 Q779.223 838.143 777.927 843.701 Q777.889 844.035 777.556 844.257 Q777.26 844.479 776.926 844.479 Q776.593 844.479 776.259 844.257 Q775.963 844.035 775.926 843.701 Q774.629 838.143 769.33 832.992 Q765.476 829.324 760.548 827.841 Q759.473 827.434 759.473 826.396 Q759.473 825.766 759.918 825.322 Q760.362 824.877 760.992 824.877 Q761.289 824.877 761.437 824.951 Q767.106 826.693 771.479 830.806 Q773.48 832.807 775.407 835.734 L775.407 779.04 Q775.407 778.41 775.851 777.965 Q776.296 777.521 776.926 777.521 Q777.556 777.521 778.001 777.965 Q778.445 778.41 778.445 779.04 L778.445 835.734 Q780.372 832.807 782.373 830.806 Q786.746 826.693 792.415 824.951 Q792.563 824.877 792.86 824.877 Q793.49 824.877 793.934 825.322 Q794.379 825.766 794.379 826.396 Z\" fill=\"#000000\" fill-rule=\"evenodd\" fill-opacity=\"1\" /><path clip-path=\"url(#clip250)\" d=\"M810.053 356.508 Q810.498 356.953 810.498 357.583 Q810.498 358.213 810.053 358.657 Q809.609 359.102 808.979 359.102 L750.839 359.102 Q754.322 361.436 756.768 364.549 Q760.659 369.477 761.771 375.48 Q761.771 375.517 761.808 375.665 Q761.845 375.777 761.845 375.814 Q761.845 376.444 761.4 376.851 Q760.955 377.296 760.325 377.296 Q759.77 377.296 759.362 376.962 Q758.954 376.629 758.843 376.11 Q757.88 370.959 754.434 366.476 Q749.579 360.436 744.021 358.583 Q743.354 358.324 743.354 357.583 Q743.354 356.841 744.021 356.582 Q749.579 354.729 754.434 348.689 Q757.88 344.206 758.843 339.055 Q758.954 338.536 759.362 338.203 Q759.77 337.869 760.325 337.869 Q760.955 337.869 761.4 338.314 Q761.845 338.722 761.845 339.351 Q761.845 339.389 761.808 339.537 Q761.771 339.648 761.771 339.685 Q760.659 345.688 756.768 350.616 Q754.322 353.729 750.839 356.063 L808.979 356.063 Q809.609 356.063 810.053 356.508 Z\" fill=\"#000000\" fill-rule=\"evenodd\" fill-opacity=\"1\" /><path clip-path=\"url(#clip250)\" d=\"M1264.38 1265.16 Q1264.82 1265.6 1264.82 1266.23 Q1264.82 1266.86 1264.38 1267.31 Q1263.93 1267.75 1263.3 1267.75 L1205.16 1267.75 Q1208.65 1270.09 1211.09 1273.2 Q1214.98 1278.13 1216.1 1284.13 Q1216.1 1284.17 1216.13 1284.32 Q1216.17 1284.43 1216.17 1284.46 Q1216.17 1285.09 1215.73 1285.5 Q1215.28 1285.95 1214.65 1285.95 Q1214.09 1285.95 1213.69 1285.61 Q1213.28 1285.28 1213.17 1284.76 Q1212.2 1279.61 1208.76 1275.13 Q1203.9 1269.09 1198.35 1267.23 Q1197.68 1266.97 1197.68 1266.23 Q1197.68 1265.49 1198.35 1265.23 Q1203.9 1263.38 1208.76 1257.34 Q1212.2 1252.86 1213.17 1247.71 Q1213.28 1247.19 1213.69 1246.85 Q1214.09 1246.52 1214.65 1246.52 Q1215.28 1246.52 1215.73 1246.96 Q1216.17 1247.37 1216.17 1248 Q1216.17 1248.04 1216.13 1248.19 Q1216.1 1248.3 1216.1 1248.34 Q1214.98 1254.34 1211.09 1259.27 Q1208.65 1262.38 1205.16 1264.71 L1263.3 1264.71 Q1263.93 1264.71 1264.38 1265.16 Z\" fill=\"#000000\" fill-rule=\"evenodd\" fill-opacity=\"1\" /><path clip-path=\"url(#clip250)\" d=\"M1248.7 797.419 Q1248.7 798.049 1248.26 798.494 Q1247.81 798.939 1247.18 798.939 Q1246.89 798.939 1246.74 798.864 Q1241.07 797.123 1236.7 793.01 Q1234.7 791.009 1232.77 788.081 L1232.77 844.776 Q1232.77 845.406 1232.33 845.85 Q1231.88 846.295 1231.25 846.295 Q1230.62 846.295 1230.18 845.85 Q1229.73 845.406 1229.73 844.776 L1229.73 788.081 Q1227.81 791.009 1225.8 793.01 Q1221.43 797.123 1215.76 798.864 Q1215.61 798.939 1215.32 798.939 Q1214.69 798.939 1214.24 798.494 Q1213.8 798.049 1213.8 797.419 Q1213.8 796.382 1214.87 795.974 Q1219.8 794.492 1223.65 790.824 Q1228.95 785.673 1230.25 780.115 Q1230.29 779.781 1230.58 779.559 Q1230.92 779.336 1231.25 779.336 Q1231.58 779.336 1231.88 779.559 Q1232.21 779.781 1232.25 780.115 Q1233.55 785.673 1238.85 790.824 Q1242.7 794.492 1247.63 795.974 Q1248.7 796.382 1248.7 797.419 Z\" fill=\"#000000\" fill-rule=\"evenodd\" fill-opacity=\"1\" /><path clip-path=\"url(#clip250)\" d=\"M1264.16 356.582 Q1264.82 356.841 1264.82 357.583 Q1264.82 358.324 1264.16 358.583 Q1258.6 360.436 1253.74 366.476 Q1250.3 370.959 1249.33 376.11 Q1249.22 376.629 1248.82 376.962 Q1248.41 377.296 1247.85 377.296 Q1247.22 377.296 1246.78 376.851 Q1246.33 376.444 1246.33 375.814 Q1246.33 375.777 1246.37 375.665 Q1246.41 375.517 1246.41 375.48 Q1247.52 369.477 1251.41 364.549 Q1253.85 361.436 1257.34 359.102 L1199.2 359.102 Q1198.57 359.102 1198.12 358.657 Q1197.68 358.213 1197.68 357.583 Q1197.68 356.953 1198.12 356.508 Q1198.57 356.063 1199.2 356.063 L1257.34 356.063 Q1253.85 353.729 1251.41 350.616 Q1247.52 345.688 1246.41 339.685 Q1246.41 339.648 1246.37 339.537 Q1246.33 339.389 1246.33 339.351 Q1246.33 338.722 1246.78 338.314 Q1247.22 337.869 1247.85 337.869 Q1248.41 337.869 1248.82 338.203 Q1249.22 338.536 1249.33 339.055 Q1250.3 344.206 1253.74 348.689 Q1258.6 354.729 1264.16 356.582 Z\" fill=\"#000000\" fill-rule=\"evenodd\" fill-opacity=\"1\" /><path clip-path=\"url(#clip250)\" d=\"M1703.03 1251.74 Q1703.03 1252.37 1702.58 1252.82 Q1702.14 1253.26 1701.51 1253.26 Q1701.21 1253.26 1701.07 1253.19 Q1695.4 1251.45 1691.02 1247.33 Q1689.02 1245.33 1687.1 1242.41 L1687.1 1299.1 Q1687.1 1299.73 1686.65 1300.18 Q1686.21 1300.62 1685.58 1300.62 Q1684.95 1300.62 1684.5 1300.18 Q1684.06 1299.73 1684.06 1299.1 L1684.06 1242.41 Q1682.13 1245.33 1680.13 1247.33 Q1675.76 1251.45 1670.09 1253.19 Q1669.94 1253.26 1669.64 1253.26 Q1669.01 1253.26 1668.57 1252.82 Q1668.12 1252.37 1668.12 1251.74 Q1668.12 1250.71 1669.2 1250.3 Q1674.13 1248.82 1677.98 1245.15 Q1683.28 1240 1684.58 1234.44 Q1684.61 1234.11 1684.91 1233.88 Q1685.24 1233.66 1685.58 1233.66 Q1685.91 1233.66 1686.21 1233.88 Q1686.54 1234.11 1686.58 1234.44 Q1687.87 1240 1693.17 1245.15 Q1697.03 1248.82 1701.95 1250.3 Q1703.03 1250.71 1703.03 1251.74 Z\" fill=\"#000000\" fill-rule=\"evenodd\" fill-opacity=\"1\" /><path clip-path=\"url(#clip250)\" d=\"M1703.03 826.396 Q1703.03 827.434 1701.95 827.841 Q1697.03 829.324 1693.17 832.992 Q1687.87 838.143 1686.58 843.701 Q1686.54 844.035 1686.21 844.257 Q1685.91 844.479 1685.58 844.479 Q1685.24 844.479 1684.91 844.257 Q1684.61 844.035 1684.58 843.701 Q1683.28 838.143 1677.98 832.992 Q1674.13 829.324 1669.2 827.841 Q1668.12 827.434 1668.12 826.396 Q1668.12 825.766 1668.57 825.322 Q1669.01 824.877 1669.64 824.877 Q1669.94 824.877 1670.09 824.951 Q1675.76 826.693 1680.13 830.806 Q1682.13 832.807 1684.06 835.734 L1684.06 779.04 Q1684.06 778.41 1684.5 777.965 Q1684.95 777.521 1685.58 777.521 Q1686.21 777.521 1686.65 777.965 Q1687.1 778.41 1687.1 779.04 L1687.1 835.734 Q1689.02 832.807 1691.02 830.806 Q1695.4 826.693 1701.07 824.951 Q1701.21 824.877 1701.51 824.877 Q1702.14 824.877 1702.58 825.322 Q1703.03 825.766 1703.03 826.396 Z\" fill=\"#000000\" fill-rule=\"evenodd\" fill-opacity=\"1\" /><path clip-path=\"url(#clip250)\" d=\"M1703.03 372.071 Q1703.03 373.109 1701.95 373.516 Q1697.03 374.998 1693.17 378.667 Q1687.87 383.818 1686.58 389.376 Q1686.54 389.709 1686.21 389.932 Q1685.91 390.154 1685.58 390.154 Q1685.24 390.154 1684.91 389.932 Q1684.61 389.709 1684.58 389.376 Q1683.28 383.818 1677.98 378.667 Q1674.13 374.998 1669.2 373.516 Q1668.12 373.109 1668.12 372.071 Q1668.12 371.441 1668.57 370.996 Q1669.01 370.552 1669.64 370.552 Q1669.94 370.552 1670.09 370.626 Q1675.76 372.368 1680.13 376.481 Q1682.13 378.482 1684.06 381.409 L1684.06 324.715 Q1684.06 324.085 1684.5 323.64 Q1684.95 323.195 1685.58 323.195 Q1686.21 323.195 1686.65 323.64 Q1687.1 324.085 1687.1 324.715 L1687.1 381.409 Q1689.02 378.482 1691.02 376.481 Q1695.4 372.368 1701.07 370.626 Q1701.21 370.552 1701.51 370.552 Q1702.14 370.552 1702.58 370.996 Q1703.03 371.441 1703.03 372.071 Z\" fill=\"#000000\" fill-rule=\"evenodd\" fill-opacity=\"1\" /></svg>\n"
      ]
     },
     "execution_count": 17,
     "metadata": {},
     "output_type": "execute_result"
    }
   ],
   "source": [
    "plot_grid_world(mdp, RandomPolicy(mdp))"
   ]
  },
  {
   "cell_type": "markdown",
   "metadata": {},
   "source": [
    "## Distributions"
   ]
  },
  {
   "cell_type": "markdown",
   "metadata": {},
   "source": [
    "Since MDPs are probabilistic models, we have to deal with probability distributions. In this section, we outline how to define probability distriubtions, and what tools are availiable to help you with the task."
   ]
  },
  {
   "cell_type": "markdown",
   "metadata": {},
   "source": [
    "### Transition Distribution "
   ]
  },
  {
   "cell_type": "markdown",
   "metadata": {},
   "source": [
    "If you are familiar with MDPs, you know that the transition function $T(s' \\mid s, a)$ captures the dynamics of the system. Specifically, $T(s' \\mid s, a)$ is a real value that defines the probabiltiy of transitioning to state $s'$ given that you took action $a$ in state $s$. The transition distirubtion $T(\\cdot \\mid s, a)$ is a slightly different construct. This is the actual distribution over the states that our agent can reach given that its in state $s$ and took action $a$. In other words this is the distribution over $s'$. \n",
    "\n",
    "For this grid world example there are only a few states that the agent can transition to, so there are only a few states that have nonzero probability in $T(\\cdot \\mid s, a)$. Thus, we will use the sparse [categorical distribution](https://en.wikipedia.org/wiki/Categorical_distribution) (`SparseCat`) from POMDPToolbox. [Distributions.jl](https://github.com/JuliaStats/Distributions.jl) also contains some distributions, but in many cases, a custom distribution type will need to be defined - see [the source code for `SparseCat`](https://github.com/JuliaPOMDP/POMDPModelTools.jl/blob/master/src/distributions/sparse_cat.jl) for an example.\n",
    "\n",
    "A `SparseCat` object contains a vector of states and an associated vector of their probabilities. The probabilities of all other states are implied to be zero."
   ]
  },
  {
   "cell_type": "markdown",
   "metadata": {},
   "source": [
    "## Transition Model"
   ]
  },
  {
   "cell_type": "markdown",
   "metadata": {},
   "source": [
    "In this section we will define the system dynamics of the gird world MDP. In POMDPs.jl, we work with transition distirbution functions $T(s' \\mid s, a)$, so we want to write a function that can generate the transition distributions over $s'$ for us given an $(s, a)$ pair. "
   ]
  },
  {
   "cell_type": "markdown",
   "metadata": {},
   "source": [
    "In grid world, the dynamics of the system are fairly simple. We move in the specified direction with some pre-defined probability. This is the `tprob` parameter in our GridWorld MDP (it is set to 0.7 in the DMU book example). If we get to state with a positive reward, we've reached a terminal state and can no longer accumulate reward."
   ]
  },
  {
   "cell_type": "markdown",
   "metadata": {},
   "source": [
    "In the transition function we want to fill the neighbors in our distribution d with the reachable states from the state, action pair. We want to fill the probs in our distirbution d with the probabilities of reaching that neighbor. "
   ]
  },
  {
   "cell_type": "code",
   "execution_count": 18,
   "metadata": {},
   "outputs": [],
   "source": [
    "# transition helpers\n",
    "function inbounds(mdp::GridWorld,x::Int64,y::Int64)\n",
    "    if 1 <= x <= mdp.size_x && 1 <= y <= mdp.size_y\n",
    "        return true\n",
    "    else\n",
    "        return false\n",
    "    end\n",
    "end\n",
    "\n",
    "inbounds(mdp::GridWorld, state::GridWorldState) = inbounds(mdp, state.x, state.y);"
   ]
  },
  {
   "cell_type": "code",
   "execution_count": 19,
   "metadata": {},
   "outputs": [],
   "source": [
    "function POMDPs.transition(mdp::GridWorld, state::GridWorldState, action::Symbol)\n",
    "    a = action\n",
    "    x = state.x\n",
    "    y = state.y\n",
    "    \n",
    "    if state.done\n",
    "        return SparseCat([GridWorldState(x, y, true)], [1.0])\n",
    "    elseif state in mdp.reward_states\n",
    "        return SparseCat([GridWorldState(x, y, true)], [1.0])\n",
    "    end\n",
    "\n",
    "    neighbors = [\n",
    "        GridWorldState(x+1, y, false), # right\n",
    "        GridWorldState(x-1, y, false), # left\n",
    "        GridWorldState(x, y-1, false), # down\n",
    "        GridWorldState(x, y+1, false), # up\n",
    "        ] # See Performance Note below\n",
    "    \n",
    "    targets = Dict(:right=>1, :left=>2, :down=>3, :up=>4) # See Performance Note below\n",
    "    target = targets[a]\n",
    "    \n",
    "    probability = fill(0.0, 4)\n",
    "\n",
    "    if !inbounds(mdp, neighbors[target])\n",
    "        # If would transition out of bounds, stay in\n",
    "        # same cell with probability 1\n",
    "        return SparseCat([GridWorldState(x, y)], [1.0])\n",
    "    else\n",
    "        probability[target] = mdp.tprob\n",
    "\n",
    "        oob_count = sum(!inbounds(mdp, n) for n in neighbors) # number of out of bounds neighbors\n",
    "\n",
    "        new_probability = (1.0 - mdp.tprob)/(3-oob_count)\n",
    "\n",
    "        for i = 1:4 # do not include neighbor 5\n",
    "            if inbounds(mdp, neighbors[i]) && i != target\n",
    "                probability[i] = new_probability\n",
    "            end\n",
    "        end\n",
    "    end\n",
    "\n",
    "    return SparseCat(neighbors, probability)\n",
    "end;"
   ]
  },
  {
   "cell_type": "code",
   "execution_count": 20,
   "metadata": {},
   "outputs": [],
   "source": [
    "function POMDPs.observation(mdp::GridWorld, state::GridWorldState)\n",
    "    x = state.x\n",
    "    y = state.y\n",
    "    \n",
    "    if state.done\n",
    "        return SparseCat([GridWorldState(x, y, true)], [1.0])\n",
    "    elseif state in mdp.reward_states\n",
    "        return SparseCat([GridWorldState(x, y, true)], [1.0])\n",
    "    end\n",
    "\n",
    "    neighbors = [\n",
    "        GridWorldState(x, y, false),    # current state\n",
    "        GridWorldState(x+1, y, false), # right\n",
    "        GridWorldState(x-1, y, false), # left\n",
    "        GridWorldState(x, y-1, false), # down\n",
    "        GridWorldState(x, y+1, false), # up\n",
    "        ] # See Performance Note below\n",
    "        \n",
    "    probability = fill(0.0, 5)\n",
    "\n",
    "    if !inbounds(mdp, state)\n",
    "        # If current state is out of bounds, return an error\n",
    "        return \"ERROR - current state out of bounds\"\n",
    "    else\n",
    "        oob_count = sum(!inbounds(mdp, n) for n in neighbors) # number of out of bounds neighbors\n",
    "\n",
    "        neighbor_probability = (1.0 - mdp.oprob)/(4-oob_count)\n",
    "        \n",
    "        probability[1] = mdp.oprob\n",
    "        for i = 2:5 # do not include neighbor 5\n",
    "            if inbounds(mdp, neighbors[i])\n",
    "                probability[i] = neighbor_probability\n",
    "            end\n",
    "        end\n",
    "    end\n",
    "\n",
    "    return SparseCat(neighbors, probability)\n",
    "end;"
   ]
  },
  {
   "cell_type": "code",
   "execution_count": 21,
   "metadata": {},
   "outputs": [],
   "source": [
    "function POMDPs.observation(mdp::GridWorld, a::Symbol, state::GridWorldState)\n",
    "    x = state.x\n",
    "    y = state.y\n",
    "    \n",
    "    if state.done\n",
    "        return SparseCat([GridWorldState(x, y, true)], [1.0])\n",
    "    elseif state in mdp.reward_states\n",
    "        return SparseCat([GridWorldState(x, y, true)], [1.0])\n",
    "    end\n",
    "\n",
    "    neighbors = [\n",
    "        GridWorldState(x, y, false),    # current state\n",
    "        GridWorldState(x+1, y, false), # right\n",
    "        GridWorldState(x-1, y, false), # left\n",
    "        GridWorldState(x, y-1, false), # down\n",
    "        GridWorldState(x, y+1, false), # up\n",
    "        ] # See Performance Note below\n",
    "        \n",
    "    probability = fill(0.0, 5)\n",
    "\n",
    "    if !inbounds(mdp, state)\n",
    "        # If current state is out of bounds, return an error\n",
    "        return \"ERROR - current state out of bounds\"\n",
    "    else\n",
    "        oob_count = sum(!inbounds(mdp, n) for n in neighbors) # number of out of bounds neighbors\n",
    "\n",
    "        neighbor_probability = (1.0 - mdp.oprob)/(4-oob_count)\n",
    "        \n",
    "        probability[1] = mdp.oprob\n",
    "        for i = 2:5 # do not include neighbor 5\n",
    "            if inbounds(mdp, neighbors[i])\n",
    "                probability[i] = neighbor_probability\n",
    "            end\n",
    "        end\n",
    "    end\n",
    "\n",
    "    return SparseCat(neighbors, probability)\n",
    "end;"
   ]
  },
  {
   "cell_type": "code",
   "execution_count": 22,
   "metadata": {},
   "outputs": [],
   "source": [
    "function POMDPs.observation(mdp::GridWorld, state::GridWorldState, a::Symbol, sp::GridWorldState)\n",
    "    x = sp.x\n",
    "    y = sp.y\n",
    "    \n",
    "    if sp.done\n",
    "        return SparseCat([GridWorldState(x, y, true)], [1.0])\n",
    "    elseif sp in mdp.reward_states\n",
    "        return SparseCat([GridWorldState(x, y, true)], [1.0])\n",
    "    end\n",
    "\n",
    "    neighbors = [\n",
    "        GridWorldState(x, y, false),    # next state\n",
    "        GridWorldState(x+1, y, false), # right\n",
    "        GridWorldState(x-1, y, false), # left\n",
    "        GridWorldState(x, y-1, false), # down\n",
    "        GridWorldState(x, y+1, false), # up\n",
    "        ] # See Performance Note below\n",
    "        \n",
    "    probability = fill(0.0, 5)\n",
    "\n",
    "    if !inbounds(mdp, state)\n",
    "        # If next state is out of bounds, return an error\n",
    "        return \"ERROR - current state out of bounds\"\n",
    "    else\n",
    "        oob_count = sum(!inbounds(mdp, n) for n in neighbors) # number of out of bounds neighbors\n",
    "\n",
    "        neighbor_probability = (1.0 - mdp.oprob)/(4-oob_count)\n",
    "        \n",
    "        probability[1] = mdp.oprob\n",
    "        for i = 2:5 # do not include neighbor 5\n",
    "            if inbounds(mdp, neighbors[i])\n",
    "                probability[i] = neighbor_probability\n",
    "            end\n",
    "        end\n",
    "    end\n",
    "\n",
    "    return SparseCat(neighbors, probability)\n",
    "end;"
   ]
  },
  {
   "cell_type": "markdown",
   "metadata": {},
   "source": [
    "> Performance Note: It is inefficient to create mutable objects like dictionaries and vectors in low-level code like the `transition` function because it requires dynamic memory allocation. This code is written for clarity rather than speed. Better speed could be realized by putting the Dict in the mdp object or using if statements instead, and replacing the vector with a [`StaticArrays.Svector`](https://github.com/JuliaArrays/StaticArrays.jl). However, a much more important consideration for performance is [type stability](https://en.wikibooks.org/wiki/Introducing_Julia/Types#Type_stability), which this function maintains because it always returns a `SparseCat{Vector{GridWorldState},Vector{Float64}}` object."
   ]
  },
  {
   "cell_type": "markdown",
   "metadata": {},
   "source": [
    "## Miscallenous Functions\n",
    "We are almost done! Just a few simple functions left. First let's implement implement the discount function."
   ]
  },
  {
   "cell_type": "code",
   "execution_count": 23,
   "metadata": {},
   "outputs": [],
   "source": [
    "POMDPs.discount(pomdp::GridWorld) = pomdp.discount_factor;"
   ]
  },
  {
   "cell_type": "markdown",
   "metadata": {},
   "source": [
    "The last thing we need is indexing functions. This allows us to index between the discrete utility array and the states and actions in our problem. We will use the `CartesianIndices` and `LinearIndices` functions from Julia base to help us here."
   ]
  },
  {
   "cell_type": "code",
   "execution_count": 24,
   "metadata": {},
   "outputs": [],
   "source": [
    "function POMDPs.stateindex(mdp::GridWorld, state::GridWorldState)\n",
    "    sd = Int(state.done + 1)\n",
    "    ci = CartesianIndices((mdp.size_x, mdp.size_y, 2))\n",
    "    return LinearIndices(ci)[state.x, state.y, sd]\n",
    "end\n",
    "\n",
    "function POMDPs.actionindex(mdp::GridWorld, act::Symbol)\n",
    "    if act==:up\n",
    "        return 1\n",
    "    elseif act==:down\n",
    "        return 2\n",
    "    elseif act==:left\n",
    "        return 3\n",
    "    elseif act==:right\n",
    "        return 4\n",
    "    end\n",
    "    error(\"Invalid GridWorld action: $act\")\n",
    "end;\n",
    "\n",
    "# is this function needed?\n",
    "function POMDPs.obsindex(pomdp::GridWorld, obs::GridWorldState)\n",
    "    sd = Int(obs.done + 1)\n",
    "    ci = CartesianIndices((pomdp.size_x, pomdp.size_y, 2))\n",
    "    return LinearIndices(ci)[obs.x, obs.y, sd]\n",
    "end"
   ]
  },
  {
   "cell_type": "code",
   "execution_count": 25,
   "metadata": {},
   "outputs": [
    {
     "name": "stdout",
     "output_type": "stream",
     "text": [
      "stateindex(mdp, state) = 1\n",
      "stateindex(mdp, state) = 2\n",
      "stateindex(mdp, state) = 3\n",
      "stateindex(mdp, state) = 4\n",
      "stateindex(mdp, state) = 5\n",
      "stateindex(mdp, state) = 6\n",
      "stateindex(mdp, state) = 7\n",
      "stateindex(mdp, state) = 8\n",
      "stateindex(mdp, state) = 9\n",
      "stateindex(mdp, state) = 10\n",
      "stateindex(mdp, state) = 11\n",
      "stateindex(mdp, state) = 12\n",
      "stateindex(mdp, state) = 13\n",
      "stateindex(mdp, state) = 14\n",
      "stateindex(mdp, state) = 15\n",
      "stateindex(mdp, state) = 16\n",
      "stateindex(mdp, state) = 17\n",
      "stateindex(mdp, state) = 18\n",
      "states(mdp) = GridWorldState[GridWorldState(1, 1, false), GridWorldState(2, 1, false), GridWorldState(3, 1, false), GridWorldState(1, 2, false), GridWorldState(2, 2, false), GridWorldState(3, 2, false), GridWorldState(1, 3, false), GridWorldState(2, 3, false), GridWorldState(3, 3, false), GridWorldState(1, 1, true), GridWorldState(2, 1, true), GridWorldState(3, 1, true), GridWorldState(1, 2, true), GridWorldState(2, 2, true), GridWorldState(3, 2, true), GridWorldState(1, 3, true), GridWorldState(2, 3, true), GridWorldState(3, 3, true)]\n",
      "obsindex(mdp, obs) = 1\n",
      "obsindex(mdp, obs) = 2\n",
      "obsindex(mdp, obs) = 3\n",
      "obsindex(mdp, obs) = 4\n",
      "obsindex(mdp, obs) = 5\n",
      "obsindex(mdp, obs) = 6\n",
      "obsindex(mdp, obs) = 7\n",
      "obsindex(mdp, obs) = 8\n",
      "obsindex(mdp, obs) = 9\n",
      "obsindex(mdp, obs) = 10\n",
      "obsindex(mdp, obs) = 11\n",
      "obsindex(mdp, obs) = 12\n",
      "obsindex(mdp, obs) = 13\n",
      "obsindex(mdp, obs) = 14\n",
      "obsindex(mdp, obs) = 15\n",
      "obsindex(mdp, obs) = 16\n",
      "obsindex(mdp, obs) = 17\n",
      "obsindex(mdp, obs) = 18\n"
     ]
    }
   ],
   "source": [
    "for state in states(mdp)\n",
    "    @show stateindex(mdp, state)\n",
    "end\n",
    "\n",
    "@show states(mdp)\n",
    "\n",
    "for obs in observations(mdp)\n",
    "    @show obsindex(mdp, obs)\n",
    "end"
   ]
  },
  {
   "cell_type": "markdown",
   "metadata": {},
   "source": [
    "## Implementing Discrete Belief Updater"
   ]
  },
  {
   "cell_type": "code",
   "execution_count": 76,
   "metadata": {},
   "outputs": [],
   "source": [
    "using BeliefUpdaters\n",
    "\n",
    "POMDPs.Updater(mdp::GridWorld) = DiscreteUpdater(mdp)\n",
    "# POMDPs.updater(mdp::GridWorld) = DiscreteUpdater(mdp)"
   ]
  },
  {
   "cell_type": "code",
   "execution_count": 27,
   "metadata": {},
   "outputs": [],
   "source": [
    "# function POMDPs.initialize_belief(::Updater, state_dist::)"
   ]
  },
  {
   "cell_type": "markdown",
   "metadata": {},
   "source": [
    "Finally let's define a function that checks if a state is terminal."
   ]
  },
  {
   "cell_type": "code",
   "execution_count": 28,
   "metadata": {},
   "outputs": [],
   "source": [
    "POMDPs.isterminal(mdp::GridWorld, s::GridWorldState) = s.done"
   ]
  },
  {
   "cell_type": "code",
   "execution_count": 29,
   "metadata": {},
   "outputs": [],
   "source": [
    "POMDPs.initialstate(pomdp::GridWorld) = Deterministic(GridWorldState(1,1)) # TODO: define initialistate for states, not distributions?"
   ]
  },
  {
   "cell_type": "code",
   "execution_count": null,
   "metadata": {},
   "outputs": [],
   "source": []
  },
  {
   "cell_type": "code",
   "execution_count": 30,
   "metadata": {},
   "outputs": [
    {
     "data": {
      "text/plain": [
       "4-element Vector{Symbol}:\n",
       " :up\n",
       " :down\n",
       " :left\n",
       " :right"
      ]
     },
     "execution_count": 30,
     "metadata": {},
     "output_type": "execute_result"
    }
   ],
   "source": [
    "actions(mdp)"
   ]
  },
  {
   "cell_type": "code",
   "execution_count": 31,
   "metadata": {},
   "outputs": [],
   "source": [
    "POMDPs.initialobs(pomdp::GridWorld, s) = POMDPs.initialstate(mdp)"
   ]
  },
  {
   "cell_type": "markdown",
   "metadata": {},
   "source": [
    "# Simulations\n",
    "\n",
    "Now that we have defined the problem, we should simulate it to see it working. The funcion `stepthrough` from `POMDPSimulators` provides a convenient `for` loop syntax for exploring the behavior of the mdp. The `POMDPPolicies` provides a way for defining simple policies, such as `RandomPolicy` or `FunctionPolicy` that takes a lambda function to determine the next action based on the state `s`."
   ]
  },
  {
   "cell_type": "code",
   "execution_count": 56,
   "metadata": {
    "jupyter": {
     "outputs_hidden": false
    }
   },
   "outputs": [
    {
     "name": "stdout",
     "output_type": "stream",
     "text": [
      "(s.x, s.y) = (1, 1)\n",
      "a = :right\n",
      "r = 0.0\n",
      "(o.x, o.y) = (1, 1)\n",
      "(sp.x, sp.y) = (2, 1)\n",
      "b = Deterministic{GridWorldState}(GridWorldState(1, 1, false))\n",
      "\n",
      "(s.x, s.y) = (2, 1)\n",
      "a = :right\n",
      "r = 0.0\n",
      "(o.x, o.y) = (3, 1)\n",
      "(sp.x, sp.y) = (3, 1)\n",
      "b = GridWorldState(1, 1, false)\n",
      "\n",
      "(s.x, s.y) = (3, 1)\n",
      "a = :right\n",
      "r = 0.0\n",
      "(o.x, o.y) = (2, 1)\n",
      "(sp.x, sp.y) = (3, 1)\n",
      "b = GridWorldState(3, 1, false)\n",
      "\n",
      "(s.x, s.y) = (3, 1)\n",
      "a = :right\n",
      "r = 0.0\n",
      "(o.x, o.y) = (3, 1)\n",
      "(sp.x, sp.y) = (3, 1)\n",
      "b = GridWorldState(2, 1, false)\n",
      "\n",
      "(s.x, s.y) = (3, 1)\n",
      "a = :right\n",
      "r = 0.0\n",
      "(o.x, o.y) = (3, 1)\n",
      "(sp.x, sp.y) = (3, 1)\n",
      "b = GridWorldState(3, 1, false)\n",
      "\n",
      "(s.x, s.y) = (3, 1)\n",
      "a = :right\n",
      "r = 0.0\n",
      "(o.x, o.y) = (3, 1)\n",
      "(sp.x, sp.y) = (3, 1)\n",
      "b = GridWorldState(3, 1, false)\n",
      "\n",
      "(s.x, s.y) = (3, 1)\n",
      "a = :right\n",
      "r = 0.0\n",
      "(o.x, o.y) = (3, 1)\n",
      "(sp.x, sp.y) = (3, 1)\n",
      "b = GridWorldState(3, 1, false)\n",
      "\n",
      "(s.x, s.y) = (3, 1)\n",
      "a = :right\n",
      "r = 0.0\n",
      "(o.x, o.y) = (2, 1)\n",
      "(sp.x, sp.y) = (3, 1)\n",
      "b = GridWorldState(3, 1, false)\n",
      "\n",
      "(s.x, s.y) = (3, 1)\n",
      "a = :right\n",
      "r = 0.0\n",
      "(o.x, o.y) = (3, 1)\n",
      "(sp.x, sp.y) = (3, 1)\n",
      "b = GridWorldState(2, 1, false)\n",
      "\n",
      "(s.x, s.y) = (3, 1)\n",
      "a = :right\n",
      "r = 0.0\n",
      "(o.x, o.y) = (3, 2)\n",
      "(sp.x, sp.y) = (3, 1)\n",
      "b = GridWorldState(3, 1, false)\n",
      "\n"
     ]
    }
   ],
   "source": [
    "POMDPs.initialstate(pomdp::GridWorld) = Deterministic(GridWorldState(1,1))\n",
    "mdp = GridWorld()\n",
    "mdp.tprob=1.0\n",
    "mdp.oprob = 0.5\n",
    "\n",
    "policy = RandomPolicy(mdp)\n",
    "left_policy = FunctionPolicy(s->:left)\n",
    "right_policy = FunctionPolicy(s->:right)\n",
    "\n",
    "for (s,a,r,o,sp, b) in stepthrough(mdp, right_policy, \"s,a,r,o, sp, b\", max_steps=10)\n",
    "    @show s.x, s.y\n",
    "    @show a\n",
    "    @show r\n",
    "    @show o.x, o.y\n",
    "    @show sp.x, sp.y\n",
    "    @show b\n",
    "#     @show POMDPs.transition(mdp, s, a)\n",
    "#     @show POMDPs.observation(mdp, s, a, )\n",
    "#     print(typeof(POMDPs.observation(mdp, s)))\n",
    "    println()\n",
    "end"
   ]
  },
  {
   "cell_type": "code",
   "execution_count": 53,
   "metadata": {},
   "outputs": [
    {
     "ename": "LoadError",
     "evalue": "syntax: incomplete: \"for\" at In[53]:1 requires end",
     "output_type": "error",
     "traceback": [
      "syntax: incomplete: \"for\" at In[53]:1 requires end",
      "",
      "Stacktrace:",
      " [1] top-level scope",
      "   @ In[53]:1",
      " [2] eval",
      "   @ ./boot.jl:360 [inlined]",
      " [3] include_string(mapexpr::typeof(REPL.softscope), mod::Module, code::String, filename::String)",
      "   @ Base ./loading.jl:1116"
     ]
    }
   ],
   "source": [
    "for (s,a,r,o,sp, b) in stepthrough(mdp, right_policy, ::Updater, initial_belief=initialstate(mdp), initial_state=rand, \"\", max_steps=10)for (s,a,r,o,sp, b) in stepthrough(mdp, right_policy, ::Updater, initial_belief=initialstate(mdp), initial_state=rand, \"s,a,r,o,sp, b\", max_steps=10)\n",
    "    @show r\n",
    "end"
   ]
  },
  {
   "cell_type": "code",
   "execution_count": null,
   "metadata": {},
   "outputs": [],
   "source": []
  },
  {
   "cell_type": "markdown",
   "metadata": {},
   "source": [
    "## Solvers - Can try this with different observation probabilities"
   ]
  },
  {
   "cell_type": "code",
   "execution_count": 79,
   "metadata": {
    "jupyter": {
     "outputs_hidden": false
    }
   },
   "outputs": [
    {
     "data": {
      "text/plain": [
       "AlphaVectorPolicy{GridWorld, Symbol}(GridWorld(3, 3, GridWorldState[GridWorldState(2, 2, false), GridWorldState(3, 3, false)], [10.0, -5.0], 0.7, 0.8, 0.9), 18, [[NaN, NaN, NaN, NaN, NaN, NaN, NaN, NaN, NaN, 0.0, 0.0, 0.0, 0.0, 0.0, 0.0, 0.0, 0.0, 0.0], [NaN, NaN, NaN, NaN, NaN, NaN, NaN, NaN, NaN, 0.0, 0.0, 0.0, 0.0, 0.0, 0.0, 0.0, 0.0, 0.0], [NaN, NaN, NaN, NaN, NaN, NaN, NaN, NaN, NaN, 0.0, 0.0, 0.0, 0.0, 0.0, 0.0, 0.0, 0.0, 0.0], [NaN, NaN, NaN, NaN, NaN, NaN, NaN, NaN, NaN, 0.0, 0.0, 0.0, 0.0, 0.0, 0.0, 0.0, 0.0, 0.0], [NaN, NaN, NaN, NaN, NaN, NaN, NaN, NaN, NaN, 0.0, 0.0, 0.0, 0.0, 0.0, 0.0, 0.0, 0.0, 0.0], [NaN, NaN, NaN, NaN, NaN, NaN, NaN, NaN, NaN, 0.0, 0.0, 0.0, 0.0, 0.0, 0.0, 0.0, 0.0, 0.0], [NaN, NaN, NaN, NaN, NaN, NaN, NaN, NaN, NaN, 0.0, 0.0, 0.0, 0.0, 0.0, 0.0, 0.0, 0.0, 0.0], [NaN, NaN, NaN, NaN, NaN, NaN, NaN, NaN, NaN, 0.0, 0.0, 0.0, 0.0, 0.0, 0.0, 0.0, 0.0, 0.0], [NaN, NaN, NaN, NaN, NaN, NaN, NaN, NaN, NaN, 0.0, 0.0, 0.0, 0.0, 0.0, 0.0, 0.0, 0.0, 0.0], [NaN, NaN, NaN, NaN, NaN, NaN, NaN, NaN, NaN, 0.0, 0.0, 0.0, 0.0, 0.0, 0.0, 0.0, 0.0, 0.0]  …  [NaN, NaN, NaN, NaN, NaN, NaN, NaN, NaN, NaN, 0.0, 0.0, 0.0, 0.0, 0.0, 0.0, 0.0, 0.0, 0.0], [NaN, NaN, NaN, NaN, NaN, NaN, NaN, NaN, NaN, 0.0, 0.0, 0.0, 0.0, 0.0, 0.0, 0.0, 0.0, 0.0], [NaN, NaN, NaN, NaN, NaN, NaN, NaN, NaN, NaN, 0.0, 0.0, 0.0, 0.0, 0.0, 0.0, 0.0, 0.0, 0.0], [NaN, NaN, NaN, NaN, NaN, NaN, NaN, NaN, NaN, 0.0, 0.0, 0.0, 0.0, 0.0, 0.0, 0.0, 0.0, 0.0], [NaN, NaN, NaN, NaN, NaN, NaN, NaN, NaN, NaN, 0.0, 0.0, 0.0, 0.0, 0.0, 0.0, 0.0, 0.0, 0.0], [NaN, NaN, NaN, NaN, NaN, NaN, NaN, NaN, NaN, 0.0, 0.0, 0.0, 0.0, 0.0, 0.0, 0.0, 0.0, 0.0], [NaN, NaN, NaN, NaN, NaN, NaN, NaN, NaN, NaN, 0.0, 0.0, 0.0, 0.0, 0.0, 0.0, 0.0, 0.0, 0.0], [NaN, NaN, NaN, NaN, NaN, NaN, NaN, NaN, NaN, 0.0, 0.0, 0.0, 0.0, 0.0, 0.0, 0.0, 0.0, 0.0], [NaN, NaN, NaN, NaN, NaN, NaN, NaN, NaN, NaN, 0.0, 0.0, 0.0, 0.0, 0.0, 0.0, 0.0, 0.0, 0.0], [NaN, NaN, NaN, NaN, NaN, NaN, NaN, NaN, NaN, 0.0, 0.0, 0.0, 0.0, 0.0, 0.0, 0.0, 0.0, 0.0]], [:up, :up, :up, :up, :up, :up, :up, :up, :up, :up  …  :up, :up, :up, :up, :up, :up, :up, :up, :up, :up])"
      ]
     },
     "execution_count": 79,
     "metadata": {},
     "output_type": "execute_result"
    }
   ],
   "source": [
    "# first let's load the value iteration module\n",
    "using QMDP\n",
    "using PointBasedValueIteration\n",
    "using FIB\n",
    "using POMDPLinter\n",
    "# using POMDPModelTools: Deterministic, Uniform, SparseCat\n",
    "\n",
    "# initialize the problem\n",
    "mdp = GridWorld()\n",
    "\n",
    "# initialize the solver\n",
    "# NOTE: observation probabilities have no effect on QMDP since QMDP assumes full observability\n",
    "# belres: the value of Bellman residual used in the solver (defualt is 1e-3)\n",
    "solver = QMDPSolver(max_iterations=100; verbose=true)\n",
    "solver = PBVISolver()\n",
    "# solver = FIBSolver()\n",
    "\n",
    "# solve for an optimal policy\n",
    "policy = solve(solver, mdp); \n",
    "policy\n",
    "\n"
   ]
  },
  {
   "cell_type": "code",
   "execution_count": 60,
   "metadata": {},
   "outputs": [
    {
     "name": "stdout",
     "output_type": "stream",
     "text": [
      "alpha = [NaN, NaN, NaN, NaN, NaN, NaN, NaN, NaN, NaN, 0.0, 0.0, 0.0, 0.0, 0.0, 0.0, 0.0, 0.0, 0.0]\n",
      "alpha = [NaN, NaN, NaN, NaN, NaN, NaN, NaN, NaN, NaN, 0.0, 0.0, 0.0, 0.0, 0.0, 0.0, 0.0, 0.0, 0.0]\n",
      "alpha = [NaN, NaN, NaN, NaN, NaN, NaN, NaN, NaN, NaN, 0.0, 0.0, 0.0, 0.0, 0.0, 0.0, 0.0, 0.0, 0.0]\n",
      "alpha = [NaN, NaN, NaN, NaN, NaN, NaN, NaN, NaN, NaN, 0.0, 0.0, 0.0, 0.0, 0.0, 0.0, 0.0, 0.0, 0.0]\n",
      "alpha = [NaN, NaN, NaN, NaN, NaN, NaN, NaN, NaN, NaN, 0.0, 0.0, 0.0, 0.0, 0.0, 0.0, 0.0, 0.0, 0.0]\n",
      "alpha = [NaN, NaN, NaN, NaN, NaN, NaN, NaN, NaN, NaN, 0.0, 0.0, 0.0, 0.0, 0.0, 0.0, 0.0, 0.0, 0.0]\n",
      "alpha = [NaN, NaN, NaN, NaN, NaN, NaN, NaN, NaN, NaN, 0.0, 0.0, 0.0, 0.0, 0.0, 0.0, 0.0, 0.0, 0.0]\n",
      "alpha = [NaN, NaN, NaN, NaN, NaN, NaN, NaN, NaN, NaN, 0.0, 0.0, 0.0, 0.0, 0.0, 0.0, 0.0, 0.0, 0.0]\n",
      "alpha = [NaN, NaN, NaN, NaN, NaN, NaN, NaN, NaN, NaN, 0.0, 0.0, 0.0, 0.0, 0.0, 0.0, 0.0, 0.0, 0.0]\n",
      "alpha = [NaN, NaN, NaN, NaN, NaN, NaN, NaN, NaN, NaN, 0.0, 0.0, 0.0, 0.0, 0.0, 0.0, 0.0, 0.0, 0.0]\n",
      "alpha = [NaN, NaN, NaN, NaN, NaN, NaN, NaN, NaN, NaN, 0.0, 0.0, 0.0, 0.0, 0.0, 0.0, 0.0, 0.0, 0.0]\n",
      "alpha = [NaN, NaN, NaN, NaN, NaN, NaN, NaN, NaN, NaN, 0.0, 0.0, 0.0, 0.0, 0.0, 0.0, 0.0, 0.0, 0.0]\n",
      "alpha = [NaN, NaN, NaN, NaN, NaN, NaN, NaN, NaN, NaN, 0.0, 0.0, 0.0, 0.0, 0.0, 0.0, 0.0, 0.0, 0.0]\n",
      "alpha = [NaN, NaN, NaN, NaN, NaN, NaN, NaN, NaN, NaN, 0.0, 0.0, 0.0, 0.0, 0.0, 0.0, 0.0, 0.0, 0.0]\n",
      "alpha = [NaN, NaN, NaN, NaN, NaN, NaN, NaN, NaN, NaN, 0.0, 0.0, 0.0, 0.0, 0.0, 0.0, 0.0, 0.0, 0.0]\n",
      "alpha = [NaN, NaN, NaN, NaN, NaN, NaN, NaN, NaN, NaN, 0.0, 0.0, 0.0, 0.0, 0.0, 0.0, 0.0, 0.0, 0.0]\n",
      "alpha = [NaN, NaN, NaN, NaN, NaN, NaN, NaN, NaN, NaN, 0.0, 0.0, 0.0, 0.0, 0.0, 0.0, 0.0, 0.0, 0.0]\n",
      "alpha = [NaN, NaN, NaN, NaN, NaN, NaN, NaN, NaN, NaN, 0.0, 0.0, 0.0, 0.0, 0.0, 0.0, 0.0, 0.0, 0.0]\n",
      "alpha = [NaN, NaN, NaN, NaN, NaN, NaN, NaN, NaN, NaN, 0.0, 0.0, 0.0, 0.0, 0.0, 0.0, 0.0, 0.0, 0.0]\n",
      "alpha = [NaN, NaN, NaN, NaN, NaN, NaN, NaN, NaN, NaN, 0.0, 0.0, 0.0, 0.0, 0.0, 0.0, 0.0, 0.0, 0.0]\n",
      "alpha = [NaN, NaN, NaN, NaN, NaN, NaN, NaN, NaN, NaN, 0.0, 0.0, 0.0, 0.0, 0.0, 0.0, 0.0, 0.0, 0.0]\n",
      "alpha = [NaN, NaN, NaN, NaN, NaN, NaN, NaN, NaN, NaN, 0.0, 0.0, 0.0, 0.0, 0.0, 0.0, 0.0, 0.0, 0.0]\n",
      "alpha = [NaN, NaN, NaN, NaN, NaN, NaN, NaN, NaN, NaN, 0.0, 0.0, 0.0, 0.0, 0.0, 0.0, 0.0, 0.0, 0.0]\n",
      "alpha = [NaN, NaN, NaN, NaN, NaN, NaN, NaN, NaN, NaN, 0.0, 0.0, 0.0, 0.0, 0.0, 0.0, 0.0, 0.0, 0.0]\n",
      "alpha = [NaN, NaN, NaN, NaN, NaN, NaN, NaN, NaN, NaN, 0.0, 0.0, 0.0, 0.0, 0.0, 0.0, 0.0, 0.0, 0.0]\n",
      "alpha = [NaN, NaN, NaN, NaN, NaN, NaN, NaN, NaN, NaN, 0.0, 0.0, 0.0, 0.0, 0.0, 0.0, 0.0, 0.0, 0.0]\n",
      "alpha = [NaN, NaN, NaN, NaN, NaN, NaN, NaN, NaN, NaN, 0.0, 0.0, 0.0, 0.0, 0.0, 0.0, 0.0, 0.0, 0.0]\n",
      "alpha = [NaN, NaN, NaN, NaN, NaN, NaN, NaN, NaN, NaN, 0.0, 0.0, 0.0, 0.0, 0.0, 0.0, 0.0, 0.0, 0.0]\n",
      "alpha = [NaN, NaN, NaN, NaN, NaN, NaN, NaN, NaN, NaN, 0.0, 0.0, 0.0, 0.0, 0.0, 0.0, 0.0, 0.0, 0.0]\n",
      "alpha = [NaN, NaN, NaN, NaN, NaN, NaN, NaN, NaN, NaN, 0.0, 0.0, 0.0, 0.0, 0.0, 0.0, 0.0, 0.0, 0.0]\n",
      "alpha = [NaN, NaN, NaN, NaN, NaN, NaN, NaN, NaN, NaN, 0.0, 0.0, 0.0, 0.0, 0.0, 0.0, 0.0, 0.0, 0.0]\n",
      "alpha = [NaN, NaN, NaN, NaN, NaN, NaN, NaN, NaN, NaN, 0.0, 0.0, 0.0, 0.0, 0.0, 0.0, 0.0, 0.0, 0.0]\n",
      "alpha = [NaN, NaN, NaN, NaN, NaN, NaN, NaN, NaN, NaN, 0.0, 0.0, 0.0, 0.0, 0.0, 0.0, 0.0, 0.0, 0.0]\n",
      "alpha = [NaN, NaN, NaN, NaN, NaN, NaN, NaN, NaN, NaN, 0.0, 0.0, 0.0, 0.0, 0.0, 0.0, 0.0, 0.0, 0.0]\n",
      "alpha = [NaN, NaN, NaN, NaN, NaN, NaN, NaN, NaN, NaN, 0.0, 0.0, 0.0, 0.0, 0.0, 0.0, 0.0, 0.0, 0.0]\n",
      "alpha = [NaN, NaN, NaN, NaN, NaN, NaN, NaN, NaN, NaN, 0.0, 0.0, 0.0, 0.0, 0.0, 0.0, 0.0, 0.0, 0.0]\n",
      "alpha = [NaN, NaN, NaN, NaN, NaN, NaN, NaN, NaN, NaN, 0.0, 0.0, 0.0, 0.0, 0.0, 0.0, 0.0, 0.0, 0.0]\n",
      "alpha = [NaN, NaN, NaN, NaN, NaN, NaN, NaN, NaN, NaN, 0.0, 0.0, 0.0, 0.0, 0.0, 0.0, 0.0, 0.0, 0.0]\n",
      "alpha = [NaN, NaN, NaN, NaN, NaN, NaN, NaN, NaN, NaN, 0.0, 0.0, 0.0, 0.0, 0.0, 0.0, 0.0, 0.0, 0.0]\n",
      "alpha = [NaN, NaN, NaN, NaN, NaN, NaN, NaN, NaN, NaN, 0.0, 0.0, 0.0, 0.0, 0.0, 0.0, 0.0, 0.0, 0.0]\n",
      "alpha = [NaN, NaN, NaN, NaN, NaN, NaN, NaN, NaN, NaN, 0.0, 0.0, 0.0, 0.0, 0.0, 0.0, 0.0, 0.0, 0.0]\n",
      "alpha = [NaN, NaN, NaN, NaN, NaN, NaN, NaN, NaN, NaN, 0.0, 0.0, 0.0, 0.0, 0.0, 0.0, 0.0, 0.0, 0.0]\n",
      "alpha = [NaN, NaN, NaN, NaN, NaN, NaN, NaN, NaN, NaN, 0.0, 0.0, 0.0, 0.0, 0.0, 0.0, 0.0, 0.0, 0.0]\n",
      "alpha = [NaN, NaN, NaN, NaN, NaN, NaN, NaN, NaN, NaN, 0.0, 0.0, 0.0, 0.0, 0.0, 0.0, 0.0, 0.0, 0.0]\n",
      "alpha = [NaN, NaN, NaN, NaN, NaN, NaN, NaN, NaN, NaN, 0.0, 0.0, 0.0, 0.0, 0.0, 0.0, 0.0, 0.0, 0.0]\n",
      "alpha = [NaN, NaN, NaN, NaN, NaN, NaN, NaN, NaN, NaN, 0.0, 0.0, 0.0, 0.0, 0.0, 0.0, 0.0, 0.0, 0.0]\n",
      "alpha = [NaN, NaN, NaN, NaN, NaN, NaN, NaN, NaN, NaN, 0.0, 0.0, 0.0, 0.0, 0.0, 0.0, 0.0, 0.0, 0.0]\n",
      "alpha = [NaN, NaN, NaN, NaN, NaN, NaN, NaN, NaN, NaN, 0.0, 0.0, 0.0, 0.0, 0.0, 0.0, 0.0, 0.0, 0.0]\n",
      "alpha = [NaN, NaN, NaN, NaN, NaN, NaN, NaN, NaN, NaN, 0.0, 0.0, 0.0, 0.0, 0.0, 0.0, 0.0, 0.0, 0.0]\n",
      "alpha = [NaN, NaN, NaN, NaN, NaN, NaN, NaN, NaN, NaN, 0.0, 0.0, 0.0, 0.0, 0.0, 0.0, 0.0, 0.0, 0.0]\n",
      "alpha = [NaN, NaN, NaN, NaN, NaN, NaN, NaN, NaN, NaN, 0.0, 0.0, 0.0, 0.0, 0.0, 0.0, 0.0, 0.0, 0.0]\n",
      "alpha = [NaN, NaN, NaN, NaN, NaN, NaN, NaN, NaN, NaN, 0.0, 0.0, 0.0, 0.0, 0.0, 0.0, 0.0, 0.0, 0.0]\n",
      "alpha = [NaN, NaN, NaN, NaN, NaN, NaN, NaN, NaN, NaN, 0.0, 0.0, 0.0, 0.0, 0.0, 0.0, 0.0, 0.0, 0.0]\n",
      "alpha = [NaN, NaN, NaN, NaN, NaN, NaN, NaN, NaN, NaN, 0.0, 0.0, 0.0, 0.0, 0.0, 0.0, 0.0, 0.0, 0.0]\n",
      "alpha = [NaN, NaN, NaN, NaN, NaN, NaN, NaN, NaN, NaN, 0.0, 0.0, 0.0, 0.0, 0.0, 0.0, 0.0, 0.0, 0.0]\n",
      "alpha = [NaN, NaN, NaN, NaN, NaN, NaN, NaN, NaN, NaN, 0.0, 0.0, 0.0, 0.0, 0.0, 0.0, 0.0, 0.0, 0.0]\n",
      "alpha = [NaN, NaN, NaN, NaN, NaN, NaN, NaN, NaN, NaN, 0.0, 0.0, 0.0, 0.0, 0.0, 0.0, 0.0, 0.0, 0.0]\n",
      "alpha = [NaN, NaN, NaN, NaN, NaN, NaN, NaN, NaN, NaN, 0.0, 0.0, 0.0, 0.0, 0.0, 0.0, 0.0, 0.0, 0.0]\n",
      "alpha = [NaN, NaN, NaN, NaN, NaN, NaN, NaN, NaN, NaN, 0.0, 0.0, 0.0, 0.0, 0.0, 0.0, 0.0, 0.0, 0.0]\n",
      "alpha = [NaN, NaN, NaN, NaN, NaN, NaN, NaN, NaN, NaN, 0.0, 0.0, 0.0, 0.0, 0.0, 0.0, 0.0, 0.0, 0.0]\n",
      "alpha = [NaN, NaN, NaN, NaN, NaN, NaN, NaN, NaN, NaN, 0.0, 0.0, 0.0, 0.0, 0.0, 0.0, 0.0, 0.0, 0.0]\n",
      "alpha = [NaN, NaN, NaN, NaN, NaN, NaN, NaN, NaN, NaN, 0.0, 0.0, 0.0, 0.0, 0.0, 0.0, 0.0, 0.0, 0.0]\n",
      "alpha = [NaN, NaN, NaN, NaN, NaN, NaN, NaN, NaN, NaN, 0.0, 0.0, 0.0, 0.0, 0.0, 0.0, 0.0, 0.0, 0.0]\n",
      "alpha = [NaN, NaN, NaN, NaN, NaN, NaN, NaN, NaN, NaN, 0.0, 0.0, 0.0, 0.0, 0.0, 0.0, 0.0, 0.0, 0.0]\n",
      "alpha = [NaN, NaN, NaN, NaN, NaN, NaN, NaN, NaN, NaN, 0.0, 0.0, 0.0, 0.0, 0.0, 0.0, 0.0, 0.0, 0.0]\n",
      "alpha = [NaN, NaN, NaN, NaN, NaN, NaN, NaN, NaN, NaN, 0.0, 0.0, 0.0, 0.0, 0.0, 0.0, 0.0, 0.0, 0.0]\n",
      "alpha = [NaN, NaN, NaN, NaN, NaN, NaN, NaN, NaN, NaN, 0.0, 0.0, 0.0, 0.0, 0.0, 0.0, 0.0, 0.0, 0.0]\n",
      "alpha = [NaN, NaN, NaN, NaN, NaN, NaN, NaN, NaN, NaN, 0.0, 0.0, 0.0, 0.0, 0.0, 0.0, 0.0, 0.0, 0.0]\n",
      "alpha = [NaN, NaN, NaN, NaN, NaN, NaN, NaN, NaN, NaN, 0.0, 0.0, 0.0, 0.0, 0.0, 0.0, 0.0, 0.0, 0.0]\n",
      "alpha = [NaN, NaN, NaN, NaN, NaN, NaN, NaN, NaN, NaN, 0.0, 0.0, 0.0, 0.0, 0.0, 0.0, 0.0, 0.0, 0.0]\n",
      "alpha = [NaN, NaN, NaN, NaN, NaN, NaN, NaN, NaN, NaN, 0.0, 0.0, 0.0, 0.0, 0.0, 0.0, 0.0, 0.0, 0.0]\n",
      "alpha = [NaN, NaN, NaN, NaN, NaN, NaN, NaN, NaN, NaN, 0.0, 0.0, 0.0, 0.0, 0.0, 0.0, 0.0, 0.0, 0.0]\n",
      "alpha = [NaN, NaN, NaN, NaN, NaN, NaN, NaN, NaN, NaN, 0.0, 0.0, 0.0, 0.0, 0.0, 0.0, 0.0, 0.0, 0.0]\n",
      "alpha = [NaN, NaN, NaN, NaN, NaN, NaN, NaN, NaN, NaN, 0.0, 0.0, 0.0, 0.0, 0.0, 0.0, 0.0, 0.0, 0.0]\n",
      "alpha = [NaN, NaN, NaN, NaN, NaN, NaN, NaN, NaN, NaN, 0.0, 0.0, 0.0, 0.0, 0.0, 0.0, 0.0, 0.0, 0.0]\n",
      "alpha = [NaN, NaN, NaN, NaN, NaN, NaN, NaN, NaN, NaN, 0.0, 0.0, 0.0, 0.0, 0.0, 0.0, 0.0, 0.0, 0.0]\n",
      "alpha = [NaN, NaN, NaN, NaN, NaN, NaN, NaN, NaN, NaN, 0.0, 0.0, 0.0, 0.0, 0.0, 0.0, 0.0, 0.0, 0.0]\n",
      "alpha = [NaN, NaN, NaN, NaN, NaN, NaN, NaN, NaN, NaN, 0.0, 0.0, 0.0, 0.0, 0.0, 0.0, 0.0, 0.0, 0.0]\n",
      "alpha = [NaN, NaN, NaN, NaN, NaN, NaN, NaN, NaN, NaN, 0.0, 0.0, 0.0, 0.0, 0.0, 0.0, 0.0, 0.0, 0.0]\n",
      "alpha = [NaN, NaN, NaN, NaN, NaN, NaN, NaN, NaN, NaN, 0.0, 0.0, 0.0, 0.0, 0.0, 0.0, 0.0, 0.0, 0.0]\n",
      "alpha = [NaN, NaN, NaN, NaN, NaN, NaN, NaN, NaN, NaN, 0.0, 0.0, 0.0, 0.0, 0.0, 0.0, 0.0, 0.0, 0.0]\n",
      "alpha = [NaN, NaN, NaN, NaN, NaN, NaN, NaN, NaN, NaN, 0.0, 0.0, 0.0, 0.0, 0.0, 0.0, 0.0, 0.0, 0.0]\n",
      "alpha = [NaN, NaN, NaN, NaN, NaN, NaN, NaN, NaN, NaN, 0.0, 0.0, 0.0, 0.0, 0.0, 0.0, 0.0, 0.0, 0.0]\n",
      "alpha = [NaN, NaN, NaN, NaN, NaN, NaN, NaN, NaN, NaN, 0.0, 0.0, 0.0, 0.0, 0.0, 0.0, 0.0, 0.0, 0.0]\n",
      "alpha = [NaN, NaN, NaN, NaN, NaN, NaN, NaN, NaN, NaN, 0.0, 0.0, 0.0, 0.0, 0.0, 0.0, 0.0, 0.0, 0.0]\n",
      "alpha = [NaN, NaN, NaN, NaN, NaN, NaN, NaN, NaN, NaN, 0.0, 0.0, 0.0, 0.0, 0.0, 0.0, 0.0, 0.0, 0.0]\n",
      "alpha = [NaN, NaN, NaN, NaN, NaN, NaN, NaN, NaN, NaN, 0.0, 0.0, 0.0, 0.0, 0.0, 0.0, 0.0, 0.0, 0.0]\n",
      "alpha = [NaN, NaN, NaN, NaN, NaN, NaN, NaN, NaN, NaN, 0.0, 0.0, 0.0, 0.0, 0.0, 0.0, 0.0, 0.0, 0.0]\n",
      "alpha = [NaN, NaN, NaN, NaN, NaN, NaN, NaN, NaN, NaN, 0.0, 0.0, 0.0, 0.0, 0.0, 0.0, 0.0, 0.0, 0.0]\n",
      "alpha = [NaN, NaN, NaN, NaN, NaN, NaN, NaN, NaN, NaN, 0.0, 0.0, 0.0, 0.0, 0.0, 0.0, 0.0, 0.0, 0.0]\n",
      "alpha = [NaN, NaN, NaN, NaN, NaN, NaN, NaN, NaN, NaN, 0.0, 0.0, 0.0, 0.0, 0.0, 0.0, 0.0, 0.0, 0.0]\n",
      "alpha = [NaN, NaN, NaN, NaN, NaN, NaN, NaN, NaN, NaN, 0.0, 0.0, 0.0, 0.0, 0.0, 0.0, 0.0, 0.0, 0.0]\n",
      "alpha = [NaN, NaN, NaN, NaN, NaN, NaN, NaN, NaN, NaN, 0.0, 0.0, 0.0, 0.0, 0.0, 0.0, 0.0, 0.0, 0.0]\n",
      "alpha = [NaN, NaN, NaN, NaN, NaN, NaN, NaN, NaN, NaN, 0.0, 0.0, 0.0, 0.0, 0.0, 0.0, 0.0, 0.0, 0.0]\n",
      "alpha = [NaN, NaN, NaN, NaN, NaN, NaN, NaN, NaN, NaN, 0.0, 0.0, 0.0, 0.0, 0.0, 0.0, 0.0, 0.0, 0.0]\n",
      "alpha = [NaN, NaN, NaN, NaN, NaN, NaN, NaN, NaN, NaN, 0.0, 0.0, 0.0, 0.0, 0.0, 0.0, 0.0, 0.0, 0.0]\n",
      "alpha = [NaN, NaN, NaN, NaN, NaN, NaN, NaN, NaN, NaN, 0.0, 0.0, 0.0, 0.0, 0.0, 0.0, 0.0, 0.0, 0.0]\n",
      "alpha = [NaN, NaN, NaN, NaN, NaN, NaN, NaN, NaN, NaN, 0.0, 0.0, 0.0, 0.0, 0.0, 0.0, 0.0, 0.0, 0.0]\n",
      "alpha = [NaN, NaN, NaN, NaN, NaN, NaN, NaN, NaN, NaN, 0.0, 0.0, 0.0, 0.0, 0.0, 0.0, 0.0, 0.0, 0.0]\n",
      "alpha = [NaN, NaN, NaN, NaN, NaN, NaN, NaN, NaN, NaN, 0.0, 0.0, 0.0, 0.0, 0.0, 0.0, 0.0, 0.0, 0.0]\n",
      "alpha = [NaN, NaN, NaN, NaN, NaN, NaN, NaN, NaN, NaN, 0.0, 0.0, 0.0, 0.0, 0.0, 0.0, 0.0, 0.0, 0.0]\n",
      "alpha = [NaN, NaN, NaN, NaN, NaN, NaN, NaN, NaN, NaN, 0.0, 0.0, 0.0, 0.0, 0.0, 0.0, 0.0, 0.0, 0.0]\n",
      "alpha = [NaN, NaN, NaN, NaN, NaN, NaN, NaN, NaN, NaN, 0.0, 0.0, 0.0, 0.0, 0.0, 0.0, 0.0, 0.0, 0.0]\n",
      "alpha = [NaN, NaN, NaN, NaN, NaN, NaN, NaN, NaN, NaN, 0.0, 0.0, 0.0, 0.0, 0.0, 0.0, 0.0, 0.0, 0.0]\n"
     ]
    },
    {
     "name": "stdout",
     "output_type": "stream",
     "text": [
      "alpha = [NaN, NaN, NaN, NaN, NaN, NaN, NaN, NaN, NaN, 0.0, 0.0, 0.0, 0.0, 0.0, 0.0, 0.0, 0.0, 0.0]\n",
      "alpha = [NaN, NaN, NaN, NaN, NaN, NaN, NaN, NaN, NaN, 0.0, 0.0, 0.0, 0.0, 0.0, 0.0, 0.0, 0.0, 0.0]\n",
      "alpha = [NaN, NaN, NaN, NaN, NaN, NaN, NaN, NaN, NaN, 0.0, 0.0, 0.0, 0.0, 0.0, 0.0, 0.0, 0.0, 0.0]\n",
      "alpha = [NaN, NaN, NaN, NaN, NaN, NaN, NaN, NaN, NaN, 0.0, 0.0, 0.0, 0.0, 0.0, 0.0, 0.0, 0.0, 0.0]\n",
      "alpha = [NaN, NaN, NaN, NaN, NaN, NaN, NaN, NaN, NaN, 0.0, 0.0, 0.0, 0.0, 0.0, 0.0, 0.0, 0.0, 0.0]\n",
      "alpha = [NaN, NaN, NaN, NaN, NaN, NaN, NaN, NaN, NaN, 0.0, 0.0, 0.0, 0.0, 0.0, 0.0, 0.0, 0.0, 0.0]\n",
      "alpha = [NaN, NaN, NaN, NaN, NaN, NaN, NaN, NaN, NaN, 0.0, 0.0, 0.0, 0.0, 0.0, 0.0, 0.0, 0.0, 0.0]\n",
      "alpha = [NaN, NaN, NaN, NaN, NaN, NaN, NaN, NaN, NaN, 0.0, 0.0, 0.0, 0.0, 0.0, 0.0, 0.0, 0.0, 0.0]\n",
      "alpha = [NaN, NaN, NaN, NaN, NaN, NaN, NaN, NaN, NaN, 0.0, 0.0, 0.0, 0.0, 0.0, 0.0, 0.0, 0.0, 0.0]\n",
      "alpha = [NaN, NaN, NaN, NaN, NaN, NaN, NaN, NaN, NaN, 0.0, 0.0, 0.0, 0.0, 0.0, 0.0, 0.0, 0.0, 0.0]\n",
      "alpha = [NaN, NaN, NaN, NaN, NaN, NaN, NaN, NaN, NaN, 0.0, 0.0, 0.0, 0.0, 0.0, 0.0, 0.0, 0.0, 0.0]\n",
      "alpha = [NaN, NaN, NaN, NaN, NaN, NaN, NaN, NaN, NaN, 0.0, 0.0, 0.0, 0.0, 0.0, 0.0, 0.0, 0.0, 0.0]\n",
      "alpha = [NaN, NaN, NaN, NaN, NaN, NaN, NaN, NaN, NaN, 0.0, 0.0, 0.0, 0.0, 0.0, 0.0, 0.0, 0.0, 0.0]\n",
      "alpha = [NaN, NaN, NaN, NaN, NaN, NaN, NaN, NaN, NaN, 0.0, 0.0, 0.0, 0.0, 0.0, 0.0, 0.0, 0.0, 0.0]\n",
      "alpha = [NaN, NaN, NaN, NaN, NaN, NaN, NaN, NaN, NaN, 0.0, 0.0, 0.0, 0.0, 0.0, 0.0, 0.0, 0.0, 0.0]\n",
      "alpha = [NaN, NaN, NaN, NaN, NaN, NaN, NaN, NaN, NaN, 0.0, 0.0, 0.0, 0.0, 0.0, 0.0, 0.0, 0.0, 0.0]\n",
      "alpha = [NaN, NaN, NaN, NaN, NaN, NaN, NaN, NaN, NaN, 0.0, 0.0, 0.0, 0.0, 0.0, 0.0, 0.0, 0.0, 0.0]\n",
      "alpha = [NaN, NaN, NaN, NaN, NaN, NaN, NaN, NaN, NaN, 0.0, 0.0, 0.0, 0.0, 0.0, 0.0, 0.0, 0.0, 0.0]\n",
      "alpha = [NaN, NaN, NaN, NaN, NaN, NaN, NaN, NaN, NaN, 0.0, 0.0, 0.0, 0.0, 0.0, 0.0, 0.0, 0.0, 0.0]\n",
      "alpha = [NaN, NaN, NaN, NaN, NaN, NaN, NaN, NaN, NaN, 0.0, 0.0, 0.0, 0.0, 0.0, 0.0, 0.0, 0.0, 0.0]\n",
      "alpha = [NaN, NaN, NaN, NaN, NaN, NaN, NaN, NaN, NaN, 0.0, 0.0, 0.0, 0.0, 0.0, 0.0, 0.0, 0.0, 0.0]\n",
      "alpha = [NaN, NaN, NaN, NaN, NaN, NaN, NaN, NaN, NaN, 0.0, 0.0, 0.0, 0.0, 0.0, 0.0, 0.0, 0.0, 0.0]\n",
      "alpha = [NaN, NaN, NaN, NaN, NaN, NaN, NaN, NaN, NaN, 0.0, 0.0, 0.0, 0.0, 0.0, 0.0, 0.0, 0.0, 0.0]\n",
      "alpha = [NaN, NaN, NaN, NaN, NaN, NaN, NaN, NaN, NaN, 0.0, 0.0, 0.0, 0.0, 0.0, 0.0, 0.0, 0.0, 0.0]\n",
      "alpha = [NaN, NaN, NaN, NaN, NaN, NaN, NaN, NaN, NaN, 0.0, 0.0, 0.0, 0.0, 0.0, 0.0, 0.0, 0.0, 0.0]\n",
      "alpha = [NaN, NaN, NaN, NaN, NaN, NaN, NaN, NaN, NaN, 0.0, 0.0, 0.0, 0.0, 0.0, 0.0, 0.0, 0.0, 0.0]\n",
      "alpha = [NaN, NaN, NaN, NaN, NaN, NaN, NaN, NaN, NaN, 0.0, 0.0, 0.0, 0.0, 0.0, 0.0, 0.0, 0.0, 0.0]\n",
      "alpha = [NaN, NaN, NaN, NaN, NaN, NaN, NaN, NaN, NaN, 0.0, 0.0, 0.0, 0.0, 0.0, 0.0, 0.0, 0.0, 0.0]\n",
      "alpha = [NaN, NaN, NaN, NaN, NaN, NaN, NaN, NaN, NaN, 0.0, 0.0, 0.0, 0.0, 0.0, 0.0, 0.0, 0.0, 0.0]\n",
      "alpha = [NaN, NaN, NaN, NaN, NaN, NaN, NaN, NaN, NaN, 0.0, 0.0, 0.0, 0.0, 0.0, 0.0, 0.0, 0.0, 0.0]\n",
      "alpha = [NaN, NaN, NaN, NaN, NaN, NaN, NaN, NaN, NaN, 0.0, 0.0, 0.0, 0.0, 0.0, 0.0, 0.0, 0.0, 0.0]\n",
      "alpha = [NaN, NaN, NaN, NaN, NaN, NaN, NaN, NaN, NaN, 0.0, 0.0, 0.0, 0.0, 0.0, 0.0, 0.0, 0.0, 0.0]\n",
      "alpha = [NaN, NaN, NaN, NaN, NaN, NaN, NaN, NaN, NaN, 0.0, 0.0, 0.0, 0.0, 0.0, 0.0, 0.0, 0.0, 0.0]\n",
      "alpha = [NaN, NaN, NaN, NaN, NaN, NaN, NaN, NaN, NaN, 0.0, 0.0, 0.0, 0.0, 0.0, 0.0, 0.0, 0.0, 0.0]\n",
      "alpha = [NaN, NaN, NaN, NaN, NaN, NaN, NaN, NaN, NaN, 0.0, 0.0, 0.0, 0.0, 0.0, 0.0, 0.0, 0.0, 0.0]\n",
      "alpha = [NaN, NaN, NaN, NaN, NaN, NaN, NaN, NaN, NaN, 0.0, 0.0, 0.0, 0.0, 0.0, 0.0, 0.0, 0.0, 0.0]\n",
      "alpha = [NaN, NaN, NaN, NaN, NaN, NaN, NaN, NaN, NaN, 0.0, 0.0, 0.0, 0.0, 0.0, 0.0, 0.0, 0.0, 0.0]\n",
      "alpha = [NaN, NaN, NaN, NaN, NaN, NaN, NaN, NaN, NaN, 0.0, 0.0, 0.0, 0.0, 0.0, 0.0, 0.0, 0.0, 0.0]\n",
      "alpha = [NaN, NaN, NaN, NaN, NaN, NaN, NaN, NaN, NaN, 0.0, 0.0, 0.0, 0.0, 0.0, 0.0, 0.0, 0.0, 0.0]\n",
      "alpha = [NaN, NaN, NaN, NaN, NaN, NaN, NaN, NaN, NaN, 0.0, 0.0, 0.0, 0.0, 0.0, 0.0, 0.0, 0.0, 0.0]\n",
      "alpha = [NaN, NaN, NaN, NaN, NaN, NaN, NaN, NaN, NaN, 0.0, 0.0, 0.0, 0.0, 0.0, 0.0, 0.0, 0.0, 0.0]\n",
      "alpha = [NaN, NaN, NaN, NaN, NaN, NaN, NaN, NaN, NaN, 0.0, 0.0, 0.0, 0.0, 0.0, 0.0, 0.0, 0.0, 0.0]\n",
      "alpha = [NaN, NaN, NaN, NaN, NaN, NaN, NaN, NaN, NaN, 0.0, 0.0, 0.0, 0.0, 0.0, 0.0, 0.0, 0.0, 0.0]\n",
      "alpha = [NaN, NaN, NaN, NaN, NaN, NaN, NaN, NaN, NaN, 0.0, 0.0, 0.0, 0.0, 0.0, 0.0, 0.0, 0.0, 0.0]\n",
      "alpha = [NaN, NaN, NaN, NaN, NaN, NaN, NaN, NaN, NaN, 0.0, 0.0, 0.0, 0.0, 0.0, 0.0, 0.0, 0.0, 0.0]\n",
      "alpha = [NaN, NaN, NaN, NaN, NaN, NaN, NaN, NaN, NaN, 0.0, 0.0, 0.0, 0.0, 0.0, 0.0, 0.0, 0.0, 0.0]\n",
      "alpha = [NaN, NaN, NaN, NaN, NaN, NaN, NaN, NaN, NaN, 0.0, 0.0, 0.0, 0.0, 0.0, 0.0, 0.0, 0.0, 0.0]\n",
      "alpha = [NaN, NaN, NaN, NaN, NaN, NaN, NaN, NaN, NaN, 0.0, 0.0, 0.0, 0.0, 0.0, 0.0, 0.0, 0.0, 0.0]\n",
      "alpha = [NaN, NaN, NaN, NaN, NaN, NaN, NaN, NaN, NaN, 0.0, 0.0, 0.0, 0.0, 0.0, 0.0, 0.0, 0.0, 0.0]\n",
      "alpha = [NaN, NaN, NaN, NaN, NaN, NaN, NaN, NaN, NaN, 0.0, 0.0, 0.0, 0.0, 0.0, 0.0, 0.0, 0.0, 0.0]\n",
      "alpha = [NaN, NaN, NaN, NaN, NaN, NaN, NaN, NaN, NaN, 0.0, 0.0, 0.0, 0.0, 0.0, 0.0, 0.0, 0.0, 0.0]\n",
      "alpha = [NaN, NaN, NaN, NaN, NaN, NaN, NaN, NaN, NaN, 0.0, 0.0, 0.0, 0.0, 0.0, 0.0, 0.0, 0.0, 0.0]\n",
      "alpha = [NaN, NaN, NaN, NaN, NaN, NaN, NaN, NaN, NaN, 0.0, 0.0, 0.0, 0.0, 0.0, 0.0, 0.0, 0.0, 0.0]\n",
      "alpha = [NaN, NaN, NaN, NaN, NaN, NaN, NaN, NaN, NaN, 0.0, 0.0, 0.0, 0.0, 0.0, 0.0, 0.0, 0.0, 0.0]\n",
      "alpha = [NaN, NaN, NaN, NaN, NaN, NaN, NaN, NaN, NaN, 0.0, 0.0, 0.0, 0.0, 0.0, 0.0, 0.0, 0.0, 0.0]\n",
      "alpha = [NaN, NaN, NaN, NaN, NaN, NaN, NaN, NaN, NaN, 0.0, 0.0, 0.0, 0.0, 0.0, 0.0, 0.0, 0.0, 0.0]\n",
      "alpha = [NaN, NaN, NaN, NaN, NaN, NaN, NaN, NaN, NaN, 0.0, 0.0, 0.0, 0.0, 0.0, 0.0, 0.0, 0.0, 0.0]\n",
      "alpha = [NaN, NaN, NaN, NaN, NaN, NaN, NaN, NaN, NaN, 0.0, 0.0, 0.0, 0.0, 0.0, 0.0, 0.0, 0.0, 0.0]\n",
      "alpha = [NaN, NaN, NaN, NaN, NaN, NaN, NaN, NaN, NaN, 0.0, 0.0, 0.0, 0.0, 0.0, 0.0, 0.0, 0.0, 0.0]\n",
      "alpha = [NaN, NaN, NaN, NaN, NaN, NaN, NaN, NaN, NaN, 0.0, 0.0, 0.0, 0.0, 0.0, 0.0, 0.0, 0.0, 0.0]\n",
      "alpha = [NaN, NaN, NaN, NaN, NaN, NaN, NaN, NaN, NaN, 0.0, 0.0, 0.0, 0.0, 0.0, 0.0, 0.0, 0.0, 0.0]\n",
      "alpha = [NaN, NaN, NaN, NaN, NaN, NaN, NaN, NaN, NaN, 0.0, 0.0, 0.0, 0.0, 0.0, 0.0, 0.0, 0.0, 0.0]\n",
      "alpha = [NaN, NaN, NaN, NaN, NaN, NaN, NaN, NaN, NaN, 0.0, 0.0, 0.0, 0.0, 0.0, 0.0, 0.0, 0.0, 0.0]\n",
      "alpha = [NaN, NaN, NaN, NaN, NaN, NaN, NaN, NaN, NaN, 0.0, 0.0, 0.0, 0.0, 0.0, 0.0, 0.0, 0.0, 0.0]\n",
      "alpha = [NaN, NaN, NaN, NaN, NaN, NaN, NaN, NaN, NaN, 0.0, 0.0, 0.0, 0.0, 0.0, 0.0, 0.0, 0.0, 0.0]\n",
      "alpha = [NaN, NaN, NaN, NaN, NaN, NaN, NaN, NaN, NaN, 0.0, 0.0, 0.0, 0.0, 0.0, 0.0, 0.0, 0.0, 0.0]\n",
      "alpha = [NaN, NaN, NaN, NaN, NaN, NaN, NaN, NaN, NaN, 0.0, 0.0, 0.0, 0.0, 0.0, 0.0, 0.0, 0.0, 0.0]\n",
      "alpha = [NaN, NaN, NaN, NaN, NaN, NaN, NaN, NaN, NaN, 0.0, 0.0, 0.0, 0.0, 0.0, 0.0, 0.0, 0.0, 0.0]\n",
      "alpha = [NaN, NaN, NaN, NaN, NaN, NaN, NaN, NaN, NaN, 0.0, 0.0, 0.0, 0.0, 0.0, 0.0, 0.0, 0.0, 0.0]\n",
      "alpha = [NaN, NaN, NaN, NaN, NaN, NaN, NaN, NaN, NaN, 0.0, 0.0, 0.0, 0.0, 0.0, 0.0, 0.0, 0.0, 0.0]\n",
      "alpha = [NaN, NaN, NaN, NaN, NaN, NaN, NaN, NaN, NaN, 0.0, 0.0, 0.0, 0.0, 0.0, 0.0, 0.0, 0.0, 0.0]\n",
      "alpha = [NaN, NaN, NaN, NaN, NaN, NaN, NaN, NaN, NaN, 0.0, 0.0, 0.0, 0.0, 0.0, 0.0, 0.0, 0.0, 0.0]\n",
      "alpha = [NaN, NaN, NaN, NaN, NaN, NaN, NaN, NaN, NaN, 0.0, 0.0, 0.0, 0.0, 0.0, 0.0, 0.0, 0.0, 0.0]\n",
      "alpha = [NaN, NaN, NaN, NaN, NaN, NaN, NaN, NaN, NaN, 0.0, 0.0, 0.0, 0.0, 0.0, 0.0, 0.0, 0.0, 0.0]\n",
      "alpha = [NaN, NaN, NaN, NaN, NaN, NaN, NaN, NaN, NaN, 0.0, 0.0, 0.0, 0.0, 0.0, 0.0, 0.0, 0.0, 0.0]\n",
      "alpha = [NaN, NaN, NaN, NaN, NaN, NaN, NaN, NaN, NaN, 0.0, 0.0, 0.0, 0.0, 0.0, 0.0, 0.0, 0.0, 0.0]\n",
      "alpha = [NaN, NaN, NaN, NaN, NaN, NaN, NaN, NaN, NaN, 0.0, 0.0, 0.0, 0.0, 0.0, 0.0, 0.0, 0.0, 0.0]\n",
      "alpha = [NaN, NaN, NaN, NaN, NaN, NaN, NaN, NaN, NaN, 0.0, 0.0, 0.0, 0.0, 0.0, 0.0, 0.0, 0.0, 0.0]\n",
      "alpha = [NaN, NaN, NaN, NaN, NaN, NaN, NaN, NaN, NaN, 0.0, 0.0, 0.0, 0.0, 0.0, 0.0, 0.0, 0.0, 0.0]\n",
      "alpha = [NaN, NaN, NaN, NaN, NaN, NaN, NaN, NaN, NaN, 0.0, 0.0, 0.0, 0.0, 0.0, 0.0, 0.0, 0.0, 0.0]\n",
      "alpha = [NaN, NaN, NaN, NaN, NaN, NaN, NaN, NaN, NaN, 0.0, 0.0, 0.0, 0.0, 0.0, 0.0, 0.0, 0.0, 0.0]\n",
      "alpha = [NaN, NaN, NaN, NaN, NaN, NaN, NaN, NaN, NaN, 0.0, 0.0, 0.0, 0.0, 0.0, 0.0, 0.0, 0.0, 0.0]\n",
      "alpha = [NaN, NaN, NaN, NaN, NaN, NaN, NaN, NaN, NaN, 0.0, 0.0, 0.0, 0.0, 0.0, 0.0, 0.0, 0.0, 0.0]\n",
      "alpha = [NaN, NaN, NaN, NaN, NaN, NaN, NaN, NaN, NaN, 0.0, 0.0, 0.0, 0.0, 0.0, 0.0, 0.0, 0.0, 0.0]\n",
      "alpha = [NaN, NaN, NaN, NaN, NaN, NaN, NaN, NaN, NaN, 0.0, 0.0, 0.0, 0.0, 0.0, 0.0, 0.0, 0.0, 0.0]\n",
      "alpha = [NaN, NaN, NaN, NaN, NaN, NaN, NaN, NaN, NaN, 0.0, 0.0, 0.0, 0.0, 0.0, 0.0, 0.0, 0.0, 0.0]\n",
      "alpha = [NaN, NaN, NaN, NaN, NaN, NaN, NaN, NaN, NaN, 0.0, 0.0, 0.0, 0.0, 0.0, 0.0, 0.0, 0.0, 0.0]\n",
      "alpha = [NaN, NaN, NaN, NaN, NaN, NaN, NaN, NaN, NaN, 0.0, 0.0, 0.0, 0.0, 0.0, 0.0, 0.0, 0.0, 0.0]\n",
      "alpha = [NaN, NaN, NaN, NaN, NaN, NaN, NaN, NaN, NaN, 0.0, 0.0, 0.0, 0.0, 0.0, 0.0, 0.0, 0.0, 0.0]\n",
      "alpha = [NaN, NaN, NaN, NaN, NaN, NaN, NaN, NaN, NaN, 0.0, 0.0, 0.0, 0.0, 0.0, 0.0, 0.0, 0.0, 0.0]\n",
      "alpha = [NaN, NaN, NaN, NaN, NaN, NaN, NaN, NaN, NaN, 0.0, 0.0, 0.0, 0.0, 0.0, 0.0, 0.0, 0.0, 0.0]\n",
      "alpha = [NaN, NaN, NaN, NaN, NaN, NaN, NaN, NaN, NaN, 0.0, 0.0, 0.0, 0.0, 0.0, 0.0, 0.0, 0.0, 0.0]\n",
      "alpha = [NaN, NaN, NaN, NaN, NaN, NaN, NaN, NaN, NaN, 0.0, 0.0, 0.0, 0.0, 0.0, 0.0, 0.0, 0.0, 0.0]\n",
      "alpha = [NaN, NaN, NaN, NaN, NaN, NaN, NaN, NaN, NaN, 0.0, 0.0, 0.0, 0.0, 0.0, 0.0, 0.0, 0.0, 0.0]\n",
      "alpha = [NaN, NaN, NaN, NaN, NaN, NaN, NaN, NaN, NaN, 0.0, 0.0, 0.0, 0.0, 0.0, 0.0, 0.0, 0.0, 0.0]\n",
      "alpha = [NaN, NaN, NaN, NaN, NaN, NaN, NaN, NaN, NaN, 0.0, 0.0, 0.0, 0.0, 0.0, 0.0, 0.0, 0.0, 0.0]\n",
      "alpha = [NaN, NaN, NaN, NaN, NaN, NaN, NaN, NaN, NaN, 0.0, 0.0, 0.0, 0.0, 0.0, 0.0, 0.0, 0.0, 0.0]\n",
      "alpha = [NaN, NaN, NaN, NaN, NaN, NaN, NaN, NaN, NaN, 0.0, 0.0, 0.0, 0.0, 0.0, 0.0, 0.0, 0.0, 0.0]\n",
      "alpha = [NaN, NaN, NaN, NaN, NaN, NaN, NaN, NaN, NaN, 0.0, 0.0, 0.0, 0.0, 0.0, 0.0, 0.0, 0.0, 0.0]\n",
      "alpha = [NaN, NaN, NaN, NaN, NaN, NaN, NaN, NaN, NaN, 0.0, 0.0, 0.0, 0.0, 0.0, 0.0, 0.0, 0.0, 0.0]\n",
      "alpha = [NaN, NaN, NaN, NaN, NaN, NaN, NaN, NaN, NaN, 0.0, 0.0, 0.0, 0.0, 0.0, 0.0, 0.0, 0.0, 0.0]\n",
      "alpha = [NaN, NaN, NaN, NaN, NaN, NaN, NaN, NaN, NaN, 0.0, 0.0, 0.0, 0.0, 0.0, 0.0, 0.0, 0.0, 0.0]\n",
      "alpha = [NaN, NaN, NaN, NaN, NaN, NaN, NaN, NaN, NaN, 0.0, 0.0, 0.0, 0.0, 0.0, 0.0, 0.0, 0.0, 0.0]\n",
      "alpha = [NaN, NaN, NaN, NaN, NaN, NaN, NaN, NaN, NaN, 0.0, 0.0, 0.0, 0.0, 0.0, 0.0, 0.0, 0.0, 0.0]\n"
     ]
    },
    {
     "name": "stdout",
     "output_type": "stream",
     "text": [
      "alpha = [NaN, NaN, NaN, NaN, NaN, NaN, NaN, NaN, NaN, 0.0, 0.0, 0.0, 0.0, 0.0, 0.0, 0.0, 0.0, 0.0]\n",
      "alpha = [NaN, NaN, NaN, NaN, NaN, NaN, NaN, NaN, NaN, 0.0, 0.0, 0.0, 0.0, 0.0, 0.0, 0.0, 0.0, 0.0]\n",
      "alpha = [NaN, NaN, NaN, NaN, NaN, NaN, NaN, NaN, NaN, 0.0, 0.0, 0.0, 0.0, 0.0, 0.0, 0.0, 0.0, 0.0]\n",
      "alpha = [NaN, NaN, NaN, NaN, NaN, NaN, NaN, NaN, NaN, 0.0, 0.0, 0.0, 0.0, 0.0, 0.0, 0.0, 0.0, 0.0]\n",
      "alpha = [NaN, NaN, NaN, NaN, NaN, NaN, NaN, NaN, NaN, 0.0, 0.0, 0.0, 0.0, 0.0, 0.0, 0.0, 0.0, 0.0]\n",
      "alpha = [NaN, NaN, NaN, NaN, NaN, NaN, NaN, NaN, NaN, 0.0, 0.0, 0.0, 0.0, 0.0, 0.0, 0.0, 0.0, 0.0]\n",
      "alpha = [NaN, NaN, NaN, NaN, NaN, NaN, NaN, NaN, NaN, 0.0, 0.0, 0.0, 0.0, 0.0, 0.0, 0.0, 0.0, 0.0]\n",
      "alpha = [NaN, NaN, NaN, NaN, NaN, NaN, NaN, NaN, NaN, 0.0, 0.0, 0.0, 0.0, 0.0, 0.0, 0.0, 0.0, 0.0]\n",
      "alpha = [NaN, NaN, NaN, NaN, NaN, NaN, NaN, NaN, NaN, 0.0, 0.0, 0.0, 0.0, 0.0, 0.0, 0.0, 0.0, 0.0]\n",
      "alpha = [NaN, NaN, NaN, NaN, NaN, NaN, NaN, NaN, NaN, 0.0, 0.0, 0.0, 0.0, 0.0, 0.0, 0.0, 0.0, 0.0]\n",
      "alpha = [NaN, NaN, NaN, NaN, NaN, NaN, NaN, NaN, NaN, 0.0, 0.0, 0.0, 0.0, 0.0, 0.0, 0.0, 0.0, 0.0]\n",
      "alpha = [NaN, NaN, NaN, NaN, NaN, NaN, NaN, NaN, NaN, 0.0, 0.0, 0.0, 0.0, 0.0, 0.0, 0.0, 0.0, 0.0]\n",
      "alpha = [NaN, NaN, NaN, NaN, NaN, NaN, NaN, NaN, NaN, 0.0, 0.0, 0.0, 0.0, 0.0, 0.0, 0.0, 0.0, 0.0]\n",
      "alpha = [NaN, NaN, NaN, NaN, NaN, NaN, NaN, NaN, NaN, 0.0, 0.0, 0.0, 0.0, 0.0, 0.0, 0.0, 0.0, 0.0]\n",
      "alpha = [NaN, NaN, NaN, NaN, NaN, NaN, NaN, NaN, NaN, 0.0, 0.0, 0.0, 0.0, 0.0, 0.0, 0.0, 0.0, 0.0]\n",
      "alpha = [NaN, NaN, NaN, NaN, NaN, NaN, NaN, NaN, NaN, 0.0, 0.0, 0.0, 0.0, 0.0, 0.0, 0.0, 0.0, 0.0]\n",
      "alpha = [NaN, NaN, NaN, NaN, NaN, NaN, NaN, NaN, NaN, 0.0, 0.0, 0.0, 0.0, 0.0, 0.0, 0.0, 0.0, 0.0]\n",
      "alpha = [NaN, NaN, NaN, NaN, NaN, NaN, NaN, NaN, NaN, 0.0, 0.0, 0.0, 0.0, 0.0, 0.0, 0.0, 0.0, 0.0]\n",
      "alpha = [NaN, NaN, NaN, NaN, NaN, NaN, NaN, NaN, NaN, 0.0, 0.0, 0.0, 0.0, 0.0, 0.0, 0.0, 0.0, 0.0]\n",
      "alpha = [NaN, NaN, NaN, NaN, NaN, NaN, NaN, NaN, NaN, 0.0, 0.0, 0.0, 0.0, 0.0, 0.0, 0.0, 0.0, 0.0]\n",
      "alpha = [NaN, NaN, NaN, NaN, NaN, NaN, NaN, NaN, NaN, 0.0, 0.0, 0.0, 0.0, 0.0, 0.0, 0.0, 0.0, 0.0]\n",
      "alpha = [NaN, NaN, NaN, NaN, NaN, NaN, NaN, NaN, NaN, 0.0, 0.0, 0.0, 0.0, 0.0, 0.0, 0.0, 0.0, 0.0]\n",
      "alpha = [NaN, NaN, NaN, NaN, NaN, NaN, NaN, NaN, NaN, 0.0, 0.0, 0.0, 0.0, 0.0, 0.0, 0.0, 0.0, 0.0]\n",
      "alpha = [NaN, NaN, NaN, NaN, NaN, NaN, NaN, NaN, NaN, 0.0, 0.0, 0.0, 0.0, 0.0, 0.0, 0.0, 0.0, 0.0]\n",
      "alpha = [NaN, NaN, NaN, NaN, NaN, NaN, NaN, NaN, NaN, 0.0, 0.0, 0.0, 0.0, 0.0, 0.0, 0.0, 0.0, 0.0]\n",
      "alpha = [NaN, NaN, NaN, NaN, NaN, NaN, NaN, NaN, NaN, 0.0, 0.0, 0.0, 0.0, 0.0, 0.0, 0.0, 0.0, 0.0]\n",
      "alpha = [NaN, NaN, NaN, NaN, NaN, NaN, NaN, NaN, NaN, 0.0, 0.0, 0.0, 0.0, 0.0, 0.0, 0.0, 0.0, 0.0]\n",
      "alpha = [NaN, NaN, NaN, NaN, NaN, NaN, NaN, NaN, NaN, 0.0, 0.0, 0.0, 0.0, 0.0, 0.0, 0.0, 0.0, 0.0]\n",
      "alpha = [NaN, NaN, NaN, NaN, NaN, NaN, NaN, NaN, NaN, 0.0, 0.0, 0.0, 0.0, 0.0, 0.0, 0.0, 0.0, 0.0]\n",
      "alpha = [NaN, NaN, NaN, NaN, NaN, NaN, NaN, NaN, NaN, 0.0, 0.0, 0.0, 0.0, 0.0, 0.0, 0.0, 0.0, 0.0]\n",
      "alpha = [NaN, NaN, NaN, NaN, NaN, NaN, NaN, NaN, NaN, 0.0, 0.0, 0.0, 0.0, 0.0, 0.0, 0.0, 0.0, 0.0]\n",
      "alpha = [NaN, NaN, NaN, NaN, NaN, NaN, NaN, NaN, NaN, 0.0, 0.0, 0.0, 0.0, 0.0, 0.0, 0.0, 0.0, 0.0]\n",
      "alpha = [NaN, NaN, NaN, NaN, NaN, NaN, NaN, NaN, NaN, 0.0, 0.0, 0.0, 0.0, 0.0, 0.0, 0.0, 0.0, 0.0]\n",
      "alpha = [NaN, NaN, NaN, NaN, NaN, NaN, NaN, NaN, NaN, 0.0, 0.0, 0.0, 0.0, 0.0, 0.0, 0.0, 0.0, 0.0]\n",
      "alpha = [NaN, NaN, NaN, NaN, NaN, NaN, NaN, NaN, NaN, 0.0, 0.0, 0.0, 0.0, 0.0, 0.0, 0.0, 0.0, 0.0]\n",
      "alpha = [NaN, NaN, NaN, NaN, NaN, NaN, NaN, NaN, NaN, 0.0, 0.0, 0.0, 0.0, 0.0, 0.0, 0.0, 0.0, 0.0]\n",
      "alpha = [NaN, NaN, NaN, NaN, NaN, NaN, NaN, NaN, NaN, 0.0, 0.0, 0.0, 0.0, 0.0, 0.0, 0.0, 0.0, 0.0]\n",
      "alpha = [NaN, NaN, NaN, NaN, NaN, NaN, NaN, NaN, NaN, 0.0, 0.0, 0.0, 0.0, 0.0, 0.0, 0.0, 0.0, 0.0]\n",
      "alpha = [NaN, NaN, NaN, NaN, NaN, NaN, NaN, NaN, NaN, 0.0, 0.0, 0.0, 0.0, 0.0, 0.0, 0.0, 0.0, 0.0]\n",
      "alpha = [NaN, NaN, NaN, NaN, NaN, NaN, NaN, NaN, NaN, 0.0, 0.0, 0.0, 0.0, 0.0, 0.0, 0.0, 0.0, 0.0]\n",
      "alpha = [NaN, NaN, NaN, NaN, NaN, NaN, NaN, NaN, NaN, 0.0, 0.0, 0.0, 0.0, 0.0, 0.0, 0.0, 0.0, 0.0]\n",
      "alpha = [NaN, NaN, NaN, NaN, NaN, NaN, NaN, NaN, NaN, 0.0, 0.0, 0.0, 0.0, 0.0, 0.0, 0.0, 0.0, 0.0]\n",
      "alpha = [NaN, NaN, NaN, NaN, NaN, NaN, NaN, NaN, NaN, 0.0, 0.0, 0.0, 0.0, 0.0, 0.0, 0.0, 0.0, 0.0]\n",
      "alpha = [NaN, NaN, NaN, NaN, NaN, NaN, NaN, NaN, NaN, 0.0, 0.0, 0.0, 0.0, 0.0, 0.0, 0.0, 0.0, 0.0]\n",
      "alpha = [NaN, NaN, NaN, NaN, NaN, NaN, NaN, NaN, NaN, 0.0, 0.0, 0.0, 0.0, 0.0, 0.0, 0.0, 0.0, 0.0]\n",
      "alpha = [NaN, NaN, NaN, NaN, NaN, NaN, NaN, NaN, NaN, 0.0, 0.0, 0.0, 0.0, 0.0, 0.0, 0.0, 0.0, 0.0]\n",
      "alpha = [NaN, NaN, NaN, NaN, NaN, NaN, NaN, NaN, NaN, 0.0, 0.0, 0.0, 0.0, 0.0, 0.0, 0.0, 0.0, 0.0]\n",
      "alpha = [NaN, NaN, NaN, NaN, NaN, NaN, NaN, NaN, NaN, 0.0, 0.0, 0.0, 0.0, 0.0, 0.0, 0.0, 0.0, 0.0]\n",
      "alpha = [NaN, NaN, NaN, NaN, NaN, NaN, NaN, NaN, NaN, 0.0, 0.0, 0.0, 0.0, 0.0, 0.0, 0.0, 0.0, 0.0]\n",
      "alpha = [NaN, NaN, NaN, NaN, NaN, NaN, NaN, NaN, NaN, 0.0, 0.0, 0.0, 0.0, 0.0, 0.0, 0.0, 0.0, 0.0]\n",
      "alpha = [NaN, NaN, NaN, NaN, NaN, NaN, NaN, NaN, NaN, 0.0, 0.0, 0.0, 0.0, 0.0, 0.0, 0.0, 0.0, 0.0]\n",
      "alpha = [NaN, NaN, NaN, NaN, NaN, NaN, NaN, NaN, NaN, 0.0, 0.0, 0.0, 0.0, 0.0, 0.0, 0.0, 0.0, 0.0]\n",
      "alpha = [NaN, NaN, NaN, NaN, NaN, NaN, NaN, NaN, NaN, 0.0, 0.0, 0.0, 0.0, 0.0, 0.0, 0.0, 0.0, 0.0]\n",
      "alpha = [NaN, NaN, NaN, NaN, NaN, NaN, NaN, NaN, NaN, 0.0, 0.0, 0.0, 0.0, 0.0, 0.0, 0.0, 0.0, 0.0]\n",
      "alpha = [NaN, NaN, NaN, NaN, NaN, NaN, NaN, NaN, NaN, 0.0, 0.0, 0.0, 0.0, 0.0, 0.0, 0.0, 0.0, 0.0]\n",
      "alpha = [NaN, NaN, NaN, NaN, NaN, NaN, NaN, NaN, NaN, 0.0, 0.0, 0.0, 0.0, 0.0, 0.0, 0.0, 0.0, 0.0]\n",
      "alpha = [NaN, NaN, NaN, NaN, NaN, NaN, NaN, NaN, NaN, 0.0, 0.0, 0.0, 0.0, 0.0, 0.0, 0.0, 0.0, 0.0]\n",
      "alpha = [NaN, NaN, NaN, NaN, NaN, NaN, NaN, NaN, NaN, 0.0, 0.0, 0.0, 0.0, 0.0, 0.0, 0.0, 0.0, 0.0]\n",
      "alpha = [NaN, NaN, NaN, NaN, NaN, NaN, NaN, NaN, NaN, 0.0, 0.0, 0.0, 0.0, 0.0, 0.0, 0.0, 0.0, 0.0]\n",
      "alpha = [NaN, NaN, NaN, NaN, NaN, NaN, NaN, NaN, NaN, 0.0, 0.0, 0.0, 0.0, 0.0, 0.0, 0.0, 0.0, 0.0]\n",
      "alpha = [NaN, NaN, NaN, NaN, NaN, NaN, NaN, NaN, NaN, 0.0, 0.0, 0.0, 0.0, 0.0, 0.0, 0.0, 0.0, 0.0]\n",
      "alpha = [NaN, NaN, NaN, NaN, NaN, NaN, NaN, NaN, NaN, 0.0, 0.0, 0.0, 0.0, 0.0, 0.0, 0.0, 0.0, 0.0]\n",
      "alpha = [NaN, NaN, NaN, NaN, NaN, NaN, NaN, NaN, NaN, 0.0, 0.0, 0.0, 0.0, 0.0, 0.0, 0.0, 0.0, 0.0]\n",
      "alpha = [NaN, NaN, NaN, NaN, NaN, NaN, NaN, NaN, NaN, 0.0, 0.0, 0.0, 0.0, 0.0, 0.0, 0.0, 0.0, 0.0]\n",
      "alpha = [NaN, NaN, NaN, NaN, NaN, NaN, NaN, NaN, NaN, 0.0, 0.0, 0.0, 0.0, 0.0, 0.0, 0.0, 0.0, 0.0]\n",
      "alpha = [NaN, NaN, NaN, NaN, NaN, NaN, NaN, NaN, NaN, 0.0, 0.0, 0.0, 0.0, 0.0, 0.0, 0.0, 0.0, 0.0]\n",
      "alpha = [NaN, NaN, NaN, NaN, NaN, NaN, NaN, NaN, NaN, 0.0, 0.0, 0.0, 0.0, 0.0, 0.0, 0.0, 0.0, 0.0]\n",
      "alpha = [NaN, NaN, NaN, NaN, NaN, NaN, NaN, NaN, NaN, 0.0, 0.0, 0.0, 0.0, 0.0, 0.0, 0.0, 0.0, 0.0]\n",
      "alpha = [NaN, NaN, NaN, NaN, NaN, NaN, NaN, NaN, NaN, 0.0, 0.0, 0.0, 0.0, 0.0, 0.0, 0.0, 0.0, 0.0]\n",
      "alpha = [NaN, NaN, NaN, NaN, NaN, NaN, NaN, NaN, NaN, 0.0, 0.0, 0.0, 0.0, 0.0, 0.0, 0.0, 0.0, 0.0]\n",
      "alpha = [NaN, NaN, NaN, NaN, NaN, NaN, NaN, NaN, NaN, 0.0, 0.0, 0.0, 0.0, 0.0, 0.0, 0.0, 0.0, 0.0]\n",
      "alpha = [NaN, NaN, NaN, NaN, NaN, NaN, NaN, NaN, NaN, 0.0, 0.0, 0.0, 0.0, 0.0, 0.0, 0.0, 0.0, 0.0]\n",
      "alpha = [NaN, NaN, NaN, NaN, NaN, NaN, NaN, NaN, NaN, 0.0, 0.0, 0.0, 0.0, 0.0, 0.0, 0.0, 0.0, 0.0]\n",
      "alpha = [NaN, NaN, NaN, NaN, NaN, NaN, NaN, NaN, NaN, 0.0, 0.0, 0.0, 0.0, 0.0, 0.0, 0.0, 0.0, 0.0]\n",
      "alpha = [NaN, NaN, NaN, NaN, NaN, NaN, NaN, NaN, NaN, 0.0, 0.0, 0.0, 0.0, 0.0, 0.0, 0.0, 0.0, 0.0]\n",
      "alpha = [NaN, NaN, NaN, NaN, NaN, NaN, NaN, NaN, NaN, 0.0, 0.0, 0.0, 0.0, 0.0, 0.0, 0.0, 0.0, 0.0]\n",
      "alpha = [NaN, NaN, NaN, NaN, NaN, NaN, NaN, NaN, NaN, 0.0, 0.0, 0.0, 0.0, 0.0, 0.0, 0.0, 0.0, 0.0]\n",
      "alpha = [NaN, NaN, NaN, NaN, NaN, NaN, NaN, NaN, NaN, 0.0, 0.0, 0.0, 0.0, 0.0, 0.0, 0.0, 0.0, 0.0]\n",
      "alpha = [NaN, NaN, NaN, NaN, NaN, NaN, NaN, NaN, NaN, 0.0, 0.0, 0.0, 0.0, 0.0, 0.0, 0.0, 0.0, 0.0]\n",
      "alpha = [NaN, NaN, NaN, NaN, NaN, NaN, NaN, NaN, NaN, 0.0, 0.0, 0.0, 0.0, 0.0, 0.0, 0.0, 0.0, 0.0]\n",
      "alpha = [NaN, NaN, NaN, NaN, NaN, NaN, NaN, NaN, NaN, 0.0, 0.0, 0.0, 0.0, 0.0, 0.0, 0.0, 0.0, 0.0]\n",
      "alpha = [NaN, NaN, NaN, NaN, NaN, NaN, NaN, NaN, NaN, 0.0, 0.0, 0.0, 0.0, 0.0, 0.0, 0.0, 0.0, 0.0]\n",
      "alpha = [NaN, NaN, NaN, NaN, NaN, NaN, NaN, NaN, NaN, 0.0, 0.0, 0.0, 0.0, 0.0, 0.0, 0.0, 0.0, 0.0]\n",
      "alpha = [NaN, NaN, NaN, NaN, NaN, NaN, NaN, NaN, NaN, 0.0, 0.0, 0.0, 0.0, 0.0, 0.0, 0.0, 0.0, 0.0]\n",
      "alpha = [NaN, NaN, NaN, NaN, NaN, NaN, NaN, NaN, NaN, 0.0, 0.0, 0.0, 0.0, 0.0, 0.0, 0.0, 0.0, 0.0]\n",
      "alpha = [NaN, NaN, NaN, NaN, NaN, NaN, NaN, NaN, NaN, 0.0, 0.0, 0.0, 0.0, 0.0, 0.0, 0.0, 0.0, 0.0]\n",
      "alpha = [NaN, NaN, NaN, NaN, NaN, NaN, NaN, NaN, NaN, 0.0, 0.0, 0.0, 0.0, 0.0, 0.0, 0.0, 0.0, 0.0]\n",
      "alpha = [NaN, NaN, NaN, NaN, NaN, NaN, NaN, NaN, NaN, 0.0, 0.0, 0.0, 0.0, 0.0, 0.0, 0.0, 0.0, 0.0]\n",
      "alpha = [NaN, NaN, NaN, NaN, NaN, NaN, NaN, NaN, NaN, 0.0, 0.0, 0.0, 0.0, 0.0, 0.0, 0.0, 0.0, 0.0]\n",
      "alpha = [NaN, NaN, NaN, NaN, NaN, NaN, NaN, NaN, NaN, 0.0, 0.0, 0.0, 0.0, 0.0, 0.0, 0.0, 0.0, 0.0]\n",
      "alpha = [NaN, NaN, NaN, NaN, NaN, NaN, NaN, NaN, NaN, 0.0, 0.0, 0.0, 0.0, 0.0, 0.0, 0.0, 0.0, 0.0]\n",
      "alpha = [NaN, NaN, NaN, NaN, NaN, NaN, NaN, NaN, NaN, 0.0, 0.0, 0.0, 0.0, 0.0, 0.0, 0.0, 0.0, 0.0]\n",
      "alpha = [NaN, NaN, NaN, NaN, NaN, NaN, NaN, NaN, NaN, 0.0, 0.0, 0.0, 0.0, 0.0, 0.0, 0.0, 0.0, 0.0]\n",
      "alpha = [NaN, NaN, NaN, NaN, NaN, NaN, NaN, NaN, NaN, 0.0, 0.0, 0.0, 0.0, 0.0, 0.0, 0.0, 0.0, 0.0]\n",
      "alpha = [NaN, NaN, NaN, NaN, NaN, NaN, NaN, NaN, NaN, 0.0, 0.0, 0.0, 0.0, 0.0, 0.0, 0.0, 0.0, 0.0]\n",
      "alpha = [NaN, NaN, NaN, NaN, NaN, NaN, NaN, NaN, NaN, 0.0, 0.0, 0.0, 0.0, 0.0, 0.0, 0.0, 0.0, 0.0]\n",
      "alpha = [NaN, NaN, NaN, NaN, NaN, NaN, NaN, NaN, NaN, 0.0, 0.0, 0.0, 0.0, 0.0, 0.0, 0.0, 0.0, 0.0]\n",
      "alpha = [NaN, NaN, NaN, NaN, NaN, NaN, NaN, NaN, NaN, 0.0, 0.0, 0.0, 0.0, 0.0, 0.0, 0.0, 0.0, 0.0]\n",
      "alpha = [NaN, NaN, NaN, NaN, NaN, NaN, NaN, NaN, NaN, 0.0, 0.0, 0.0, 0.0, 0.0, 0.0, 0.0, 0.0, 0.0]\n",
      "alpha = [NaN, NaN, NaN, NaN, NaN, NaN, NaN, NaN, NaN, 0.0, 0.0, 0.0, 0.0, 0.0, 0.0, 0.0, 0.0, 0.0]\n",
      "alpha = [NaN, NaN, NaN, NaN, NaN, NaN, NaN, NaN, NaN, 0.0, 0.0, 0.0, 0.0, 0.0, 0.0, 0.0, 0.0, 0.0]\n",
      "alpha = [NaN, NaN, NaN, NaN, NaN, NaN, NaN, NaN, NaN, 0.0, 0.0, 0.0, 0.0, 0.0, 0.0, 0.0, 0.0, 0.0]\n",
      "alpha = [NaN, NaN, NaN, NaN, NaN, NaN, NaN, NaN, NaN, 0.0, 0.0, 0.0, 0.0, 0.0, 0.0, 0.0, 0.0, 0.0]\n",
      "alpha = [NaN, NaN, NaN, NaN, NaN, NaN, NaN, NaN, NaN, 0.0, 0.0, 0.0, 0.0, 0.0, 0.0, 0.0, 0.0, 0.0]\n"
     ]
    },
    {
     "name": "stdout",
     "output_type": "stream",
     "text": [
      "alpha = [NaN, NaN, NaN, NaN, NaN, NaN, NaN, NaN, NaN, 0.0, 0.0, 0.0, 0.0, 0.0, 0.0, 0.0, 0.0, 0.0]\n",
      "alpha = [NaN, NaN, NaN, NaN, NaN, NaN, NaN, NaN, NaN, 0.0, 0.0, 0.0, 0.0, 0.0, 0.0, 0.0, 0.0, 0.0]\n",
      "alpha = [NaN, NaN, NaN, NaN, NaN, NaN, NaN, NaN, NaN, 0.0, 0.0, 0.0, 0.0, 0.0, 0.0, 0.0, 0.0, 0.0]\n",
      "alpha = [NaN, NaN, NaN, NaN, NaN, NaN, NaN, NaN, NaN, 0.0, 0.0, 0.0, 0.0, 0.0, 0.0, 0.0, 0.0, 0.0]\n",
      "alpha = [NaN, NaN, NaN, NaN, NaN, NaN, NaN, NaN, NaN, 0.0, 0.0, 0.0, 0.0, 0.0, 0.0, 0.0, 0.0, 0.0]\n",
      "alpha = [NaN, NaN, NaN, NaN, NaN, NaN, NaN, NaN, NaN, 0.0, 0.0, 0.0, 0.0, 0.0, 0.0, 0.0, 0.0, 0.0]\n",
      "alpha = [NaN, NaN, NaN, NaN, NaN, NaN, NaN, NaN, NaN, 0.0, 0.0, 0.0, 0.0, 0.0, 0.0, 0.0, 0.0, 0.0]\n",
      "alpha = [NaN, NaN, NaN, NaN, NaN, NaN, NaN, NaN, NaN, 0.0, 0.0, 0.0, 0.0, 0.0, 0.0, 0.0, 0.0, 0.0]\n",
      "alpha = [NaN, NaN, NaN, NaN, NaN, NaN, NaN, NaN, NaN, 0.0, 0.0, 0.0, 0.0, 0.0, 0.0, 0.0, 0.0, 0.0]\n",
      "alpha = [NaN, NaN, NaN, NaN, NaN, NaN, NaN, NaN, NaN, 0.0, 0.0, 0.0, 0.0, 0.0, 0.0, 0.0, 0.0, 0.0]\n",
      "alpha = [NaN, NaN, NaN, NaN, NaN, NaN, NaN, NaN, NaN, 0.0, 0.0, 0.0, 0.0, 0.0, 0.0, 0.0, 0.0, 0.0]\n",
      "alpha = [NaN, NaN, NaN, NaN, NaN, NaN, NaN, NaN, NaN, 0.0, 0.0, 0.0, 0.0, 0.0, 0.0, 0.0, 0.0, 0.0]\n",
      "alpha = [NaN, NaN, NaN, NaN, NaN, NaN, NaN, NaN, NaN, 0.0, 0.0, 0.0, 0.0, 0.0, 0.0, 0.0, 0.0, 0.0]\n",
      "alpha = [NaN, NaN, NaN, NaN, NaN, NaN, NaN, NaN, NaN, 0.0, 0.0, 0.0, 0.0, 0.0, 0.0, 0.0, 0.0, 0.0]\n",
      "alpha = [NaN, NaN, NaN, NaN, NaN, NaN, NaN, NaN, NaN, 0.0, 0.0, 0.0, 0.0, 0.0, 0.0, 0.0, 0.0, 0.0]\n",
      "alpha = [NaN, NaN, NaN, NaN, NaN, NaN, NaN, NaN, NaN, 0.0, 0.0, 0.0, 0.0, 0.0, 0.0, 0.0, 0.0, 0.0]\n",
      "alpha = [NaN, NaN, NaN, NaN, NaN, NaN, NaN, NaN, NaN, 0.0, 0.0, 0.0, 0.0, 0.0, 0.0, 0.0, 0.0, 0.0]\n",
      "alpha = [NaN, NaN, NaN, NaN, NaN, NaN, NaN, NaN, NaN, 0.0, 0.0, 0.0, 0.0, 0.0, 0.0, 0.0, 0.0, 0.0]\n",
      "alpha = [NaN, NaN, NaN, NaN, NaN, NaN, NaN, NaN, NaN, 0.0, 0.0, 0.0, 0.0, 0.0, 0.0, 0.0, 0.0, 0.0]\n",
      "alpha = [NaN, NaN, NaN, NaN, NaN, NaN, NaN, NaN, NaN, 0.0, 0.0, 0.0, 0.0, 0.0, 0.0, 0.0, 0.0, 0.0]\n",
      "alpha = [NaN, NaN, NaN, NaN, NaN, NaN, NaN, NaN, NaN, 0.0, 0.0, 0.0, 0.0, 0.0, 0.0, 0.0, 0.0, 0.0]\n",
      "alpha = [NaN, NaN, NaN, NaN, NaN, NaN, NaN, NaN, NaN, 0.0, 0.0, 0.0, 0.0, 0.0, 0.0, 0.0, 0.0, 0.0]\n",
      "alpha = [NaN, NaN, NaN, NaN, NaN, NaN, NaN, NaN, NaN, 0.0, 0.0, 0.0, 0.0, 0.0, 0.0, 0.0, 0.0, 0.0]\n",
      "alpha = [NaN, NaN, NaN, NaN, NaN, NaN, NaN, NaN, NaN, 0.0, 0.0, 0.0, 0.0, 0.0, 0.0, 0.0, 0.0, 0.0]\n",
      "alpha = [NaN, NaN, NaN, NaN, NaN, NaN, NaN, NaN, NaN, 0.0, 0.0, 0.0, 0.0, 0.0, 0.0, 0.0, 0.0, 0.0]\n",
      "alpha = [NaN, NaN, NaN, NaN, NaN, NaN, NaN, NaN, NaN, 0.0, 0.0, 0.0, 0.0, 0.0, 0.0, 0.0, 0.0, 0.0]\n",
      "alpha = [NaN, NaN, NaN, NaN, NaN, NaN, NaN, NaN, NaN, 0.0, 0.0, 0.0, 0.0, 0.0, 0.0, 0.0, 0.0, 0.0]\n",
      "alpha = [NaN, NaN, NaN, NaN, NaN, NaN, NaN, NaN, NaN, 0.0, 0.0, 0.0, 0.0, 0.0, 0.0, 0.0, 0.0, 0.0]\n",
      "alpha = [NaN, NaN, NaN, NaN, NaN, NaN, NaN, NaN, NaN, 0.0, 0.0, 0.0, 0.0, 0.0, 0.0, 0.0, 0.0, 0.0]\n",
      "alpha = [NaN, NaN, NaN, NaN, NaN, NaN, NaN, NaN, NaN, 0.0, 0.0, 0.0, 0.0, 0.0, 0.0, 0.0, 0.0, 0.0]\n",
      "alpha = [NaN, NaN, NaN, NaN, NaN, NaN, NaN, NaN, NaN, 0.0, 0.0, 0.0, 0.0, 0.0, 0.0, 0.0, 0.0, 0.0]\n",
      "alpha = [NaN, NaN, NaN, NaN, NaN, NaN, NaN, NaN, NaN, 0.0, 0.0, 0.0, 0.0, 0.0, 0.0, 0.0, 0.0, 0.0]\n",
      "alpha = [NaN, NaN, NaN, NaN, NaN, NaN, NaN, NaN, NaN, 0.0, 0.0, 0.0, 0.0, 0.0, 0.0, 0.0, 0.0, 0.0]\n",
      "alpha = [NaN, NaN, NaN, NaN, NaN, NaN, NaN, NaN, NaN, 0.0, 0.0, 0.0, 0.0, 0.0, 0.0, 0.0, 0.0, 0.0]\n",
      "alpha = [NaN, NaN, NaN, NaN, NaN, NaN, NaN, NaN, NaN, 0.0, 0.0, 0.0, 0.0, 0.0, 0.0, 0.0, 0.0, 0.0]\n",
      "alpha = [NaN, NaN, NaN, NaN, NaN, NaN, NaN, NaN, NaN, 0.0, 0.0, 0.0, 0.0, 0.0, 0.0, 0.0, 0.0, 0.0]\n",
      "alpha = [NaN, NaN, NaN, NaN, NaN, NaN, NaN, NaN, NaN, 0.0, 0.0, 0.0, 0.0, 0.0, 0.0, 0.0, 0.0, 0.0]\n",
      "alpha = [NaN, NaN, NaN, NaN, NaN, NaN, NaN, NaN, NaN, 0.0, 0.0, 0.0, 0.0, 0.0, 0.0, 0.0, 0.0, 0.0]\n",
      "alpha = [NaN, NaN, NaN, NaN, NaN, NaN, NaN, NaN, NaN, 0.0, 0.0, 0.0, 0.0, 0.0, 0.0, 0.0, 0.0, 0.0]\n",
      "alpha = [NaN, NaN, NaN, NaN, NaN, NaN, NaN, NaN, NaN, 0.0, 0.0, 0.0, 0.0, 0.0, 0.0, 0.0, 0.0, 0.0]\n",
      "alpha = [NaN, NaN, NaN, NaN, NaN, NaN, NaN, NaN, NaN, 0.0, 0.0, 0.0, 0.0, 0.0, 0.0, 0.0, 0.0, 0.0]\n",
      "alpha = [NaN, NaN, NaN, NaN, NaN, NaN, NaN, NaN, NaN, 0.0, 0.0, 0.0, 0.0, 0.0, 0.0, 0.0, 0.0, 0.0]\n",
      "alpha = [NaN, NaN, NaN, NaN, NaN, NaN, NaN, NaN, NaN, 0.0, 0.0, 0.0, 0.0, 0.0, 0.0, 0.0, 0.0, 0.0]\n",
      "alpha = [NaN, NaN, NaN, NaN, NaN, NaN, NaN, NaN, NaN, 0.0, 0.0, 0.0, 0.0, 0.0, 0.0, 0.0, 0.0, 0.0]\n",
      "alpha = [NaN, NaN, NaN, NaN, NaN, NaN, NaN, NaN, NaN, 0.0, 0.0, 0.0, 0.0, 0.0, 0.0, 0.0, 0.0, 0.0]\n",
      "alpha = [NaN, NaN, NaN, NaN, NaN, NaN, NaN, NaN, NaN, 0.0, 0.0, 0.0, 0.0, 0.0, 0.0, 0.0, 0.0, 0.0]\n",
      "alpha = [NaN, NaN, NaN, NaN, NaN, NaN, NaN, NaN, NaN, 0.0, 0.0, 0.0, 0.0, 0.0, 0.0, 0.0, 0.0, 0.0]\n",
      "alpha = [NaN, NaN, NaN, NaN, NaN, NaN, NaN, NaN, NaN, 0.0, 0.0, 0.0, 0.0, 0.0, 0.0, 0.0, 0.0, 0.0]\n",
      "alpha = [NaN, NaN, NaN, NaN, NaN, NaN, NaN, NaN, NaN, 0.0, 0.0, 0.0, 0.0, 0.0, 0.0, 0.0, 0.0, 0.0]\n",
      "alpha = [NaN, NaN, NaN, NaN, NaN, NaN, NaN, NaN, NaN, 0.0, 0.0, 0.0, 0.0, 0.0, 0.0, 0.0, 0.0, 0.0]\n",
      "alpha = [NaN, NaN, NaN, NaN, NaN, NaN, NaN, NaN, NaN, 0.0, 0.0, 0.0, 0.0, 0.0, 0.0, 0.0, 0.0, 0.0]\n",
      "alpha = [NaN, NaN, NaN, NaN, NaN, NaN, NaN, NaN, NaN, 0.0, 0.0, 0.0, 0.0, 0.0, 0.0, 0.0, 0.0, 0.0]\n",
      "alpha = [NaN, NaN, NaN, NaN, NaN, NaN, NaN, NaN, NaN, 0.0, 0.0, 0.0, 0.0, 0.0, 0.0, 0.0, 0.0, 0.0]\n",
      "alpha = [NaN, NaN, NaN, NaN, NaN, NaN, NaN, NaN, NaN, 0.0, 0.0, 0.0, 0.0, 0.0, 0.0, 0.0, 0.0, 0.0]\n",
      "alpha = [NaN, NaN, NaN, NaN, NaN, NaN, NaN, NaN, NaN, 0.0, 0.0, 0.0, 0.0, 0.0, 0.0, 0.0, 0.0, 0.0]\n",
      "alpha = [NaN, NaN, NaN, NaN, NaN, NaN, NaN, NaN, NaN, 0.0, 0.0, 0.0, 0.0, 0.0, 0.0, 0.0, 0.0, 0.0]\n",
      "alpha = [NaN, NaN, NaN, NaN, NaN, NaN, NaN, NaN, NaN, 0.0, 0.0, 0.0, 0.0, 0.0, 0.0, 0.0, 0.0, 0.0]\n",
      "alpha = [NaN, NaN, NaN, NaN, NaN, NaN, NaN, NaN, NaN, 0.0, 0.0, 0.0, 0.0, 0.0, 0.0, 0.0, 0.0, 0.0]\n",
      "alpha = [NaN, NaN, NaN, NaN, NaN, NaN, NaN, NaN, NaN, 0.0, 0.0, 0.0, 0.0, 0.0, 0.0, 0.0, 0.0, 0.0]\n",
      "alpha = [NaN, NaN, NaN, NaN, NaN, NaN, NaN, NaN, NaN, 0.0, 0.0, 0.0, 0.0, 0.0, 0.0, 0.0, 0.0, 0.0]\n",
      "alpha = [NaN, NaN, NaN, NaN, NaN, NaN, NaN, NaN, NaN, 0.0, 0.0, 0.0, 0.0, 0.0, 0.0, 0.0, 0.0, 0.0]\n",
      "alpha = [NaN, NaN, NaN, NaN, NaN, NaN, NaN, NaN, NaN, 0.0, 0.0, 0.0, 0.0, 0.0, 0.0, 0.0, 0.0, 0.0]\n",
      "alpha = [NaN, NaN, NaN, NaN, NaN, NaN, NaN, NaN, NaN, 0.0, 0.0, 0.0, 0.0, 0.0, 0.0, 0.0, 0.0, 0.0]\n",
      "alpha = [NaN, NaN, NaN, NaN, NaN, NaN, NaN, NaN, NaN, 0.0, 0.0, 0.0, 0.0, 0.0, 0.0, 0.0, 0.0, 0.0]\n",
      "alpha = [NaN, NaN, NaN, NaN, NaN, NaN, NaN, NaN, NaN, 0.0, 0.0, 0.0, 0.0, 0.0, 0.0, 0.0, 0.0, 0.0]\n",
      "alpha = [NaN, NaN, NaN, NaN, NaN, NaN, NaN, NaN, NaN, 0.0, 0.0, 0.0, 0.0, 0.0, 0.0, 0.0, 0.0, 0.0]\n",
      "alpha = [NaN, NaN, NaN, NaN, NaN, NaN, NaN, NaN, NaN, 0.0, 0.0, 0.0, 0.0, 0.0, 0.0, 0.0, 0.0, 0.0]\n",
      "alpha = [NaN, NaN, NaN, NaN, NaN, NaN, NaN, NaN, NaN, 0.0, 0.0, 0.0, 0.0, 0.0, 0.0, 0.0, 0.0, 0.0]\n",
      "alpha = [NaN, NaN, NaN, NaN, NaN, NaN, NaN, NaN, NaN, 0.0, 0.0, 0.0, 0.0, 0.0, 0.0, 0.0, 0.0, 0.0]\n",
      "alpha = [NaN, NaN, NaN, NaN, NaN, NaN, NaN, NaN, NaN, 0.0, 0.0, 0.0, 0.0, 0.0, 0.0, 0.0, 0.0, 0.0]\n",
      "alpha = [NaN, NaN, NaN, NaN, NaN, NaN, NaN, NaN, NaN, 0.0, 0.0, 0.0, 0.0, 0.0, 0.0, 0.0, 0.0, 0.0]\n",
      "alpha = [NaN, NaN, NaN, NaN, NaN, NaN, NaN, NaN, NaN, 0.0, 0.0, 0.0, 0.0, 0.0, 0.0, 0.0, 0.0, 0.0]\n",
      "alpha = [NaN, NaN, NaN, NaN, NaN, NaN, NaN, NaN, NaN, 0.0, 0.0, 0.0, 0.0, 0.0, 0.0, 0.0, 0.0, 0.0]\n",
      "alpha = [NaN, NaN, NaN, NaN, NaN, NaN, NaN, NaN, NaN, 0.0, 0.0, 0.0, 0.0, 0.0, 0.0, 0.0, 0.0, 0.0]\n",
      "alpha = [NaN, NaN, NaN, NaN, NaN, NaN, NaN, NaN, NaN, 0.0, 0.0, 0.0, 0.0, 0.0, 0.0, 0.0, 0.0, 0.0]\n",
      "alpha = [NaN, NaN, NaN, NaN, NaN, NaN, NaN, NaN, NaN, 0.0, 0.0, 0.0, 0.0, 0.0, 0.0, 0.0, 0.0, 0.0]\n",
      "alpha = [NaN, NaN, NaN, NaN, NaN, NaN, NaN, NaN, NaN, 0.0, 0.0, 0.0, 0.0, 0.0, 0.0, 0.0, 0.0, 0.0]\n",
      "alpha = [NaN, NaN, NaN, NaN, NaN, NaN, NaN, NaN, NaN, 0.0, 0.0, 0.0, 0.0, 0.0, 0.0, 0.0, 0.0, 0.0]\n",
      "alpha = [NaN, NaN, NaN, NaN, NaN, NaN, NaN, NaN, NaN, 0.0, 0.0, 0.0, 0.0, 0.0, 0.0, 0.0, 0.0, 0.0]\n",
      "alpha = [NaN, NaN, NaN, NaN, NaN, NaN, NaN, NaN, NaN, 0.0, 0.0, 0.0, 0.0, 0.0, 0.0, 0.0, 0.0, 0.0]\n",
      "alpha = [NaN, NaN, NaN, NaN, NaN, NaN, NaN, NaN, NaN, 0.0, 0.0, 0.0, 0.0, 0.0, 0.0, 0.0, 0.0, 0.0]\n",
      "alpha = [NaN, NaN, NaN, NaN, NaN, NaN, NaN, NaN, NaN, 0.0, 0.0, 0.0, 0.0, 0.0, 0.0, 0.0, 0.0, 0.0]\n",
      "alpha = [NaN, NaN, NaN, NaN, NaN, NaN, NaN, NaN, NaN, 0.0, 0.0, 0.0, 0.0, 0.0, 0.0, 0.0, 0.0, 0.0]\n",
      "alpha = [NaN, NaN, NaN, NaN, NaN, NaN, NaN, NaN, NaN, 0.0, 0.0, 0.0, 0.0, 0.0, 0.0, 0.0, 0.0, 0.0]\n",
      "alpha = [NaN, NaN, NaN, NaN, NaN, NaN, NaN, NaN, NaN, 0.0, 0.0, 0.0, 0.0, 0.0, 0.0, 0.0, 0.0, 0.0]\n",
      "alpha = [NaN, NaN, NaN, NaN, NaN, NaN, NaN, NaN, NaN, 0.0, 0.0, 0.0, 0.0, 0.0, 0.0, 0.0, 0.0, 0.0]\n",
      "alpha = [NaN, NaN, NaN, NaN, NaN, NaN, NaN, NaN, NaN, 0.0, 0.0, 0.0, 0.0, 0.0, 0.0, 0.0, 0.0, 0.0]\n",
      "alpha = [NaN, NaN, NaN, NaN, NaN, NaN, NaN, NaN, NaN, 0.0, 0.0, 0.0, 0.0, 0.0, 0.0, 0.0, 0.0, 0.0]\n",
      "alpha = [NaN, NaN, NaN, NaN, NaN, NaN, NaN, NaN, NaN, 0.0, 0.0, 0.0, 0.0, 0.0, 0.0, 0.0, 0.0, 0.0]\n",
      "alpha = [NaN, NaN, NaN, NaN, NaN, NaN, NaN, NaN, NaN, 0.0, 0.0, 0.0, 0.0, 0.0, 0.0, 0.0, 0.0, 0.0]\n",
      "alpha = [NaN, NaN, NaN, NaN, NaN, NaN, NaN, NaN, NaN, 0.0, 0.0, 0.0, 0.0, 0.0, 0.0, 0.0, 0.0, 0.0]\n",
      "alpha = [NaN, NaN, NaN, NaN, NaN, NaN, NaN, NaN, NaN, 0.0, 0.0, 0.0, 0.0, 0.0, 0.0, 0.0, 0.0, 0.0]\n",
      "alpha = [NaN, NaN, NaN, NaN, NaN, NaN, NaN, NaN, NaN, 0.0, 0.0, 0.0, 0.0, 0.0, 0.0, 0.0, 0.0, 0.0]\n"
     ]
    }
   ],
   "source": [
    "for alpha in policy.alphas\n",
    "    @show alpha\n",
    "end"
   ]
  },
  {
   "cell_type": "code",
   "execution_count": 61,
   "metadata": {},
   "outputs": [
    {
     "name": "stdout",
     "output_type": "stream",
     "text": [
      "INFO: POMDPLinter requirements for \u001b[34msolve(::QMDPSolver, ::POMDP)\u001b[39m and dependencies. ([✔] = implemented correctly; [X] = not implemented; [?] = could not determine)\n",
      "\n",
      "For \u001b[34msolve(::QMDPSolver, ::POMDP)\u001b[39m:\n",
      "  [No additional requirements]\n",
      "For \u001b[34msolve(::ValueIterationSolver, ::Union{MDP,POMDP})\u001b[39m (in solve(::QMDPSolver, ::POMDP)):\n",
      "\u001b[32m  [✔] discount(::UnderlyingMDP{GridWorldGridWorldStateSymbol})\u001b[39m\n",
      "\u001b[32m  [✔] transition(::UnderlyingMDP{GridWorldGridWorldStateSymbol}, ::GridWorldState, ::Symbol)\u001b[39m\n",
      "\u001b[32m  [✔] reward(::UnderlyingMDP{GridWorldGridWorldStateSymbol}, ::GridWorldState, ::Symbol, ::GridWorldState)\u001b[39m\n",
      "\u001b[32m  [✔] stateindex(::UnderlyingMDP{GridWorldGridWorldStateSymbol}, ::GridWorldState)\u001b[39m\n",
      "\u001b[32m  [✔] actionindex(::UnderlyingMDP{GridWorldGridWorldStateSymbol}, ::Symbol)\u001b[39m\n",
      "\u001b[32m  [✔] actions(::UnderlyingMDP{GridWorldGridWorldStateSymbol}, ::GridWorldState)\u001b[39m\n",
      "\u001b[32m  [✔] length(::Array{GridWorldState1})\u001b[39m\n",
      "\u001b[32m  [✔] length(::Array{Symbol1})\u001b[39m\n",
      "\u001b[32m  [✔] support(::SparseCat{Vector{GridWorldState}Vector{Float64}})\u001b[39m\n",
      "\u001b[32m  [✔] pdf(::SparseCat{Vector{GridWorldState}Vector{Float64}}, ::GridWorldState)\u001b[39m\n",
      "For \u001b[34mordered_states(::Union{MDP,POMDP})\u001b[39m (in solve(::ValueIterationSolver, ::Union{MDP,POMDP})):\n",
      "\u001b[32m  [✔] states(::UnderlyingMDP{GridWorldGridWorldStateSymbol})\u001b[39m\n",
      "For \u001b[34mordered_actions(::Union{MDP,POMDP})\u001b[39m (in solve(::ValueIterationSolver, ::Union{MDP,POMDP})):\n",
      "\u001b[32m  [✔] actions(::UnderlyingMDP{GridWorldGridWorldStateSymbol})\u001b[39m\n",
      "statetype(mdp) = GridWorldState\n",
      "INFO: POMDPLinter requirements for \u001b[34msolve(::PBVISolver, ::POMDP)\u001b[39m and dependencies. ([✔] = implemented correctly; [X] = not implemented; [?] = could not determine)\n",
      "\n",
      "For \u001b[34msolve(::PBVISolver, ::POMDP)\u001b[39m:\n",
      "  [No additional requirements]\n",
      "\u001b[33m  WARNING: Some requirements may not be shown because a UndefVarError was thrown.\u001b[39m\n",
      "Note: Missing methods are often due to incorrect importing. You must explicitly import POMDPs functions to add new methods.\n",
      "\n",
      "Throwing the first exception (from processing \u001b[34msolve(::PBVISolver, ::POMDP)\u001b[39m requirements):\n",
      "\n"
     ]
    },
    {
     "ename": "LoadError",
     "evalue": "UndefVarError: state_type not defined",
     "output_type": "error",
     "traceback": [
      "UndefVarError: state_type not defined",
      "",
      "Stacktrace:",
      " [1] show_requirements(r::POMDPLinter.RequirementSet)",
      "   @ POMDPLinter ~/.julia/packages/POMDPLinter/OSyYC/src/requirements_interface.jl:213",
      " [2] top-level scope",
      "   @ ~/.julia/packages/POMDPLinter/OSyYC/src/requirements_interface.jl:114",
      " [3] eval",
      "   @ ./boot.jl:360 [inlined]",
      " [4] include_string(mapexpr::typeof(REPL.softscope), mod::Module, code::String, filename::String)",
      "   @ Base ./loading.jl:1116"
     ]
    }
   ],
   "source": [
    "using POMDPLinter\n",
    "using DiscreteValueIteration\n",
    "POMDPLinter.@show_requirements(solve(QMDPSolver(), GridWorld()))\n",
    "@show statetype(mdp)\n",
    "POMDPLinter.@show_requirements(solve(PBVISolver(), mdp))\n",
    "POMDPLinter.@show_requirements(solve(FIBSolver(), mdp))\n",
    "POMDPLinter.@show_requirements(solve(ValueIterationSolver(), mdp))\n"
   ]
  },
  {
   "cell_type": "markdown",
   "metadata": {},
   "source": [
    "Now, we can use the policy along with the ```action(...)``` function to get the optimal action in a given state."
   ]
  },
  {
   "cell_type": "code",
   "execution_count": 35,
   "metadata": {
    "jupyter": {
     "outputs_hidden": false
    }
   },
   "outputs": [
    {
     "data": {
      "text/plain": [
       ":up"
      ]
     },
     "execution_count": 35,
     "metadata": {},
     "output_type": "execute_result"
    }
   ],
   "source": [
    "# say we are in state (9,2)\n",
    "s = GridWorldState(9,2)\n",
    "a = action(policy, s)"
   ]
  },
  {
   "cell_type": "markdown",
   "metadata": {},
   "source": [
    "Remeber that the state (9,3) has an immediate reward of +10.0, so the policy we found is moving up as expected!"
   ]
  },
  {
   "cell_type": "code",
   "execution_count": 36,
   "metadata": {
    "jupyter": {
     "outputs_hidden": false
    }
   },
   "outputs": [
    {
     "data": {
      "text/plain": [
       ":left"
      ]
     },
     "execution_count": 36,
     "metadata": {},
     "output_type": "execute_result"
    }
   ],
   "source": [
    "s = GridWorldState(8,3)\n",
    "a = action(policy, s)"
   ]
  },
  {
   "cell_type": "code",
   "execution_count": 37,
   "metadata": {},
   "outputs": [
    {
     "ename": "LoadError",
     "evalue": "MethodError: no method matching value(::RandomPolicy{Random._GLOBAL_RNG, GridWorld, NothingUpdater}, ::GridWorldState)\n\u001b[0mClosest candidates are:\n\u001b[0m  value(\u001b[91m::AlphaVectorPolicy\u001b[39m, ::Any) at /home/bdobkowski/.julia/packages/POMDPPolicies/wMOK3/src/alpha_vector.jl:63\n\u001b[0m  value(\u001b[91m::ValueIterationPolicy\u001b[39m, ::S) where S at /home/bdobkowski/.julia/packages/DiscreteValueIteration/FjeJj/src/common.jl:77\n\u001b[0m  value(\u001b[91m::ValueIterationPolicy\u001b[39m, ::Any, \u001b[91m::Any\u001b[39m) at /home/bdobkowski/.julia/packages/DiscreteValueIteration/FjeJj/src/common.jl:82",
     "output_type": "error",
     "traceback": [
      "MethodError: no method matching value(::RandomPolicy{Random._GLOBAL_RNG, GridWorld, NothingUpdater}, ::GridWorldState)\n\u001b[0mClosest candidates are:\n\u001b[0m  value(\u001b[91m::AlphaVectorPolicy\u001b[39m, ::Any) at /home/bdobkowski/.julia/packages/POMDPPolicies/wMOK3/src/alpha_vector.jl:63\n\u001b[0m  value(\u001b[91m::ValueIterationPolicy\u001b[39m, ::S) where S at /home/bdobkowski/.julia/packages/DiscreteValueIteration/FjeJj/src/common.jl:77\n\u001b[0m  value(\u001b[91m::ValueIterationPolicy\u001b[39m, ::Any, \u001b[91m::Any\u001b[39m) at /home/bdobkowski/.julia/packages/DiscreteValueIteration/FjeJj/src/common.jl:82",
      "",
      "Stacktrace:",
      "  [1] (::var\"#4#5\"{RandomPolicy{Random._GLOBAL_RNG, GridWorld, NothingUpdater}})(s::GridWorldState)",
      "    @ Main ./In[11]:11",
      "  [2] iterate",
      "    @ ./generator.jl:47 [inlined]",
      "  [3] _collect",
      "    @ ./array.jl:695 [inlined]",
      "  [4] collect_similar",
      "    @ ./array.jl:606 [inlined]",
      "  [5] map",
      "    @ ./abstractarray.jl:2294 [inlined]",
      "  [6] values(mdp::GridWorld, policy::RandomPolicy{Random._GLOBAL_RNG, GridWorld, NothingUpdater})",
      "    @ Main ./In[11]:11",
      "  [7] plot_grid_world(mdp::GridWorld, policy::RandomPolicy{Random._GLOBAL_RNG, GridWorld, NothingUpdater}, iter::Int64, discount::Float64; outline::Bool, show_policy::Bool, extra_title::String, show_rewards::Bool, outline_state::Nothing)",
      "    @ Main ./In[12]:24",
      "  [8] plot_grid_world (repeats 2 times)",
      "    @ ./In[12]:13 [inlined]",
      "  [9] top-level scope",
      "    @ In[37]:1",
      " [10] eval",
      "    @ ./boot.jl:360 [inlined]",
      " [11] include_string(mapexpr::typeof(REPL.softscope), mod::Module, code::String, filename::String)",
      "    @ Base ./loading.jl:1116"
     ]
    }
   ],
   "source": [
    "plot_grid_world(mdp, policy, 30)"
   ]
  },
  {
   "cell_type": "markdown",
   "metadata": {},
   "source": [
    "To see the path an agent may take in the gridworld, starting in the initial state (set to `(1,1)`), you may run following code. Note that the policy differs from the example above, as the gridworld in the image has -1 reward for accidentaly trying to move into the wall, which we have not implemented in our MDP."
   ]
  },
  {
   "cell_type": "code",
   "execution_count": 38,
   "metadata": {},
   "outputs": [
    {
     "name": "stdout",
     "output_type": "stream",
     "text": [
      "s = GridWorldState(1, 1, false)\n",
      "a = :right\n",
      "r = 0.0\n",
      "\n",
      "s = GridWorldState(2, 1, false)\n",
      "a = :down\n",
      "r = 0.0\n",
      "\n",
      "s = GridWorldState(2, 1, false)\n",
      "a = :left\n",
      "r = 0.0\n",
      "\n",
      "s = GridWorldState(1, 1, false)\n",
      "a = :right\n",
      "r = 0.0\n",
      "\n",
      "s = GridWorldState(2, 1, false)\n",
      "a = :right\n",
      "r = 0.0\n",
      "\n",
      "s = GridWorldState(3, 1, false)\n",
      "a = :up\n",
      "r = 0.0\n",
      "\n",
      "s = GridWorldState(3, 2, false)\n",
      "a = :up\n",
      "r = 0.0\n",
      "\n",
      "s = GridWorldState(3, 3, false)\n",
      "a = :down\n",
      "r = -5.0\n",
      "\n"
     ]
    }
   ],
   "source": [
    "for (s,a,r) in stepthrough(mdp, policy, \"s,a,r\", max_steps=20)\n",
    "    @show s\n",
    "    @show a\n",
    "    @show r\n",
    "    println()\n",
    "end"
   ]
  },
  {
   "cell_type": "markdown",
   "metadata": {},
   "source": [
    "# Trying One Observation Model"
   ]
  },
  {
   "cell_type": "code",
   "execution_count": 39,
   "metadata": {},
   "outputs": [
    {
     "ename": "LoadError",
     "evalue": "\" ValueIterationError: `solve(::ValueIterationSolver, ::POMDP)` is not supported,\\n`ValueIterationSolver` supports MDP models only, look at QMDP.jl for a POMDP solver that assumes full observability.\\n If you still wish to use the transition and reward from your POMDP model you can use the `UnderlyingMDP` wrapper from POMDPModelTools.jl as follows:\\n ```\\n solver = ValueIterationSolver()\\n mdp = UnderlyingMDP(pomdp)\\n solve(solver, mdp)\\n ```\\n \"",
     "output_type": "error",
     "traceback": [
      "\" ValueIterationError: `solve(::ValueIterationSolver, ::POMDP)` is not supported,\\n`ValueIterationSolver` supports MDP models only, look at QMDP.jl for a POMDP solver that assumes full observability.\\n If you still wish to use the transition and reward from your POMDP model you can use the `UnderlyingMDP` wrapper from POMDPModelTools.jl as follows:\\n ```\\n solver = ValueIterationSolver()\\n mdp = UnderlyingMDP(pomdp)\\n solve(solver, mdp)\\n ```\\n \"",
      "",
      "Stacktrace:",
      " [1] solve(#unused#::ValueIterationSolver, #unused#::GridWorld)",
      "   @ DiscreteValueIteration ~/.julia/packages/DiscreteValueIteration/FjeJj/src/vanilla.jl:150",
      " [2] top-level scope",
      "   @ In[39]:8",
      " [3] eval",
      "   @ ./boot.jl:360 [inlined]",
      " [4] include_string(mapexpr::typeof(REPL.softscope), mod::Module, code::String, filename::String)",
      "   @ Base ./loading.jl:1116"
     ]
    }
   ],
   "source": [
    "mdp = GridWorld()\n",
    "mdp.tprob=1.0\n",
    "mdp.oprob=0.5\n",
    "\n",
    "solver = ValueIterationSolver(max_iterations=100, belres=1e-3; verbose=true)\n",
    "\n",
    "# solve for an optimal policy\n",
    "policy = solve(solver, mdp); \n",
    "\n",
    "# plot policy and values of each state\n",
    "plot_grid_world(mdp, policy, 30, show_rewards=true)\n"
   ]
  },
  {
   "cell_type": "markdown",
   "metadata": {},
   "source": [
    "## Monte-Carlo Tree Search Solver\n",
    "Monte-Carlo Tree Search (MCTS) is another MDP solver. It is an online method that looks for the best action from only the current state by building a search tree. A nice overview of MCTS can be found [here](http://www.diego-perez.net/papers/MCTSSurvey.pdf). Run the following command to donwload the module\n",
    "\n"
   ]
  },
  {
   "cell_type": "markdown",
   "metadata": {},
   "source": [
    "```julia\n",
    "POMDPs.add(\"MCTS\")\n",
    "```"
   ]
  },
  {
   "cell_type": "markdown",
   "metadata": {},
   "source": [
    "Let's quickly run through an example of using the solver:"
   ]
  },
  {
   "cell_type": "code",
   "execution_count": 40,
   "metadata": {
    "jupyter": {
     "outputs_hidden": false
    },
    "scrolled": true
   },
   "outputs": [
    {
     "ename": "LoadError",
     "evalue": "MethodError: no method matching estimate_value(::MCTS.SolvedRolloutEstimator{RandomPolicy{Random._GLOBAL_RNG, GridWorld, NothingUpdater}, Random._GLOBAL_RNG}, ::GridWorld, ::GridWorldState, ::Int64)\n\u001b[0mClosest candidates are:\n\u001b[0m  estimate_value(\u001b[91m::Function\u001b[39m, ::Union{MDP, POMDP}, ::Any, ::Int64) at /home/bdobkowski/.julia/packages/MCTS/ww2qH/src/domain_knowledge.jl:8\n\u001b[0m  estimate_value(\u001b[91m::Number\u001b[39m, ::Union{MDP, POMDP}, ::Any, ::Int64) at /home/bdobkowski/.julia/packages/MCTS/ww2qH/src/domain_knowledge.jl:9\n\u001b[0m  estimate_value(::MCTS.SolvedRolloutEstimator, \u001b[91m::MDP\u001b[39m, ::Any, ::Int64) at /home/bdobkowski/.julia/packages/MCTS/ww2qH/src/domain_knowledge.jl:49",
     "output_type": "error",
     "traceback": [
      "MethodError: no method matching estimate_value(::MCTS.SolvedRolloutEstimator{RandomPolicy{Random._GLOBAL_RNG, GridWorld, NothingUpdater}, Random._GLOBAL_RNG}, ::GridWorld, ::GridWorldState, ::Int64)\n\u001b[0mClosest candidates are:\n\u001b[0m  estimate_value(\u001b[91m::Function\u001b[39m, ::Union{MDP, POMDP}, ::Any, ::Int64) at /home/bdobkowski/.julia/packages/MCTS/ww2qH/src/domain_knowledge.jl:8\n\u001b[0m  estimate_value(\u001b[91m::Number\u001b[39m, ::Union{MDP, POMDP}, ::Any, ::Int64) at /home/bdobkowski/.julia/packages/MCTS/ww2qH/src/domain_knowledge.jl:9\n\u001b[0m  estimate_value(::MCTS.SolvedRolloutEstimator, \u001b[91m::MDP\u001b[39m, ::Any, ::Int64) at /home/bdobkowski/.julia/packages/MCTS/ww2qH/src/domain_knowledge.jl:49",
      "",
      "Stacktrace:",
      " [1] simulate(planner::MCTSPlanner{GridWorld, GridWorldState, Symbol, MCTS.SolvedRolloutEstimator{RandomPolicy{Random._GLOBAL_RNG, GridWorld, NothingUpdater}, Random._GLOBAL_RNG}, Random._GLOBAL_RNG}, node::StateNode{GridWorldState, Symbol}, depth::Int64)",
      "   @ MCTS ~/.julia/packages/MCTS/ww2qH/src/vanilla.jl:286",
      " [2] simulate(planner::MCTSPlanner{GridWorld, GridWorldState, Symbol, MCTS.SolvedRolloutEstimator{RandomPolicy{Random._GLOBAL_RNG, GridWorld, NothingUpdater}, Random._GLOBAL_RNG}, Random._GLOBAL_RNG}, node::StateNode{GridWorldState, Symbol}, depth::Int64) (repeats 20 times)",
      "   @ MCTS ~/.julia/packages/MCTS/ww2qH/src/vanilla.jl:302",
      " [3] build_tree(planner::MCTSPlanner{GridWorld, GridWorldState, Symbol, MCTS.SolvedRolloutEstimator{RandomPolicy{Random._GLOBAL_RNG, GridWorld, NothingUpdater}, Random._GLOBAL_RNG}, Random._GLOBAL_RNG}, s::GridWorldState)",
      "   @ MCTS ~/.julia/packages/MCTS/ww2qH/src/vanilla.jl:267",
      " [4] plan!",
      "   @ ~/.julia/packages/MCTS/ww2qH/src/vanilla.jl:242 [inlined]",
      " [5] action_info(p::MCTSPlanner{GridWorld, GridWorldState, Symbol, MCTS.SolvedRolloutEstimator{RandomPolicy{Random._GLOBAL_RNG, GridWorld, NothingUpdater}, Random._GLOBAL_RNG}, Random._GLOBAL_RNG}, s::GridWorldState)",
      "   @ MCTS ~/.julia/packages/MCTS/ww2qH/src/vanilla.jl:197",
      " [6] action(p::MCTSPlanner{GridWorld, GridWorldState, Symbol, MCTS.SolvedRolloutEstimator{RandomPolicy{Random._GLOBAL_RNG, GridWorld, NothingUpdater}, Random._GLOBAL_RNG}, Random._GLOBAL_RNG}, s::GridWorldState)",
      "   @ MCTS ~/.julia/packages/MCTS/ww2qH/src/vanilla.jl:202",
      " [7] top-level scope",
      "   @ In[40]:21",
      " [8] eval",
      "   @ ./boot.jl:360 [inlined]",
      " [9] include_string(mapexpr::typeof(REPL.softscope), mod::Module, code::String, filename::String)",
      "   @ Base ./loading.jl:1116"
     ]
    }
   ],
   "source": [
    "using MCTS\n",
    "\n",
    "# initialize the problem\n",
    "mdp = GridWorld()\n",
    "\n",
    "# initialize the solver with hyper parameters\n",
    "# n_iterations: the number of iterations that each search runs for\n",
    "# depth: the depth of the tree (how far away from the current state the algorithm explores)\n",
    "# exploration constant: this is how much weight to put into exploratory actions. \n",
    "# A good rule of thumb is to set the exploration constant to what you expect the upper bound on your average expected reward to be.\n",
    "solver = MCTSSolver(n_iterations=1000,\n",
    "                    depth=20,\n",
    "                    exploration_constant=10.0,\n",
    "                    enable_tree_vis=true)\n",
    "\n",
    "# initialize the planner by calling the `solve` function. For online solvers, the \n",
    "planner = solve(solver, mdp)\n",
    "\n",
    "# to get the action:\n",
    "s = GridWorldState(9,2)\n",
    "a = action(planner, s)"
   ]
  },
  {
   "cell_type": "markdown",
   "metadata": {},
   "source": [
    "Let's simulate using the planner to determine a good action at each timestep."
   ]
  },
  {
   "cell_type": "code",
   "execution_count": 41,
   "metadata": {
    "jupyter": {
     "outputs_hidden": false
    }
   },
   "outputs": [
    {
     "ename": "LoadError",
     "evalue": "MethodError: no method matching simulate(::HistoryRecorder, ::GridWorld, ::RandomPolicy{Random._GLOBAL_RNG, GridWorld, NothingUpdater}, ::GridWorldState)\n\u001b[0mClosest candidates are:\n\u001b[0m  simulate(\u001b[91m::RolloutSimulator\u001b[39m, ::POMDP{S, A, O} where {A, O}, ::Policy, ::S) where S at /home/bdobkowski/.julia/packages/POMDPSimulators/zxTz3/src/rollout.jl:182\n\u001b[0m  simulate(\u001b[91m::DisplaySimulator\u001b[39m, ::Any, ::Any...) at /home/bdobkowski/.julia/packages/POMDPSimulators/zxTz3/src/display.jl:55\n\u001b[0m  simulate(::HistoryRecorder, \u001b[91m::MDP{S, A}\u001b[39m, ::Policy, ::S) where {S, A} at /home/bdobkowski/.julia/packages/POMDPSimulators/zxTz3/src/history_recorder.jl:133\n\u001b[0m  ...",
     "output_type": "error",
     "traceback": [
      "MethodError: no method matching simulate(::HistoryRecorder, ::GridWorld, ::RandomPolicy{Random._GLOBAL_RNG, GridWorld, NothingUpdater}, ::GridWorldState)\n\u001b[0mClosest candidates are:\n\u001b[0m  simulate(\u001b[91m::RolloutSimulator\u001b[39m, ::POMDP{S, A, O} where {A, O}, ::Policy, ::S) where S at /home/bdobkowski/.julia/packages/POMDPSimulators/zxTz3/src/rollout.jl:182\n\u001b[0m  simulate(\u001b[91m::DisplaySimulator\u001b[39m, ::Any, ::Any...) at /home/bdobkowski/.julia/packages/POMDPSimulators/zxTz3/src/display.jl:55\n\u001b[0m  simulate(::HistoryRecorder, \u001b[91m::MDP{S, A}\u001b[39m, ::Policy, ::S) where {S, A} at /home/bdobkowski/.julia/packages/POMDPSimulators/zxTz3/src/history_recorder.jl:133\n\u001b[0m  ...",
      "",
      "Stacktrace:",
      " [1] top-level scope",
      "   @ In[41]:4",
      " [2] eval",
      "   @ ./boot.jl:360 [inlined]",
      " [3] include_string(mapexpr::typeof(REPL.softscope), mod::Module, code::String, filename::String)",
      "   @ Base ./loading.jl:1116"
     ]
    }
   ],
   "source": [
    "s = GridWorldState(4,1) # this is our starting state\n",
    "hist = HistoryRecorder(max_steps=1000)\n",
    "\n",
    "hist = simulate(hist, mdp, policy, s)\n",
    "\n",
    "println(\"Total discounted reward: $(discounted_reward(hist))\")"
   ]
  },
  {
   "cell_type": "markdown",
   "metadata": {},
   "source": [
    "Now we can view the state-action history using the `eachstep` function."
   ]
  },
  {
   "cell_type": "code",
   "execution_count": 42,
   "metadata": {
    "jupyter": {
     "outputs_hidden": false
    }
   },
   "outputs": [
    {
     "ename": "LoadError",
     "evalue": "MethodError: no method matching eachstep(::HistoryRecorder, ::String)\n\u001b[0mClosest candidates are:\n\u001b[0m  eachstep(\u001b[91m::AbstractSimHistory\u001b[39m, ::Any) at /home/bdobkowski/.julia/packages/POMDPSimulators/zxTz3/src/history.jl:126",
     "output_type": "error",
     "traceback": [
      "MethodError: no method matching eachstep(::HistoryRecorder, ::String)\n\u001b[0mClosest candidates are:\n\u001b[0m  eachstep(\u001b[91m::AbstractSimHistory\u001b[39m, ::Any) at /home/bdobkowski/.julia/packages/POMDPSimulators/zxTz3/src/history.jl:126",
      "",
      "Stacktrace:",
      " [1] top-level scope",
      "   @ ./In[42]:2",
      " [2] eval",
      "   @ ./boot.jl:360 [inlined]",
      " [3] include_string(mapexpr::typeof(REPL.softscope), mod::Module, code::String, filename::String)",
      "   @ Base ./loading.jl:1116"
     ]
    }
   ],
   "source": [
    "using Printf\n",
    "for (s, a, sp) in eachstep(hist, \"s,a,sp\")\n",
    "    @printf(\"s: %-26s  a: %-6s  s': %-26s\\n\", s, a, sp)\n",
    "end"
   ]
  },
  {
   "cell_type": "markdown",
   "metadata": {},
   "source": [
    "To see what the planner is doing, we can look at the tree created when it plans at a particular state, for example, the first state in the history."
   ]
  },
  {
   "cell_type": "code",
   "execution_count": 43,
   "metadata": {
    "jupyter": {
     "outputs_hidden": false
    }
   },
   "outputs": [
    {
     "ename": "LoadError",
     "evalue": "ArgumentError: Package D3Trees not found in current path:\n- Run `import Pkg; Pkg.add(\"D3Trees\")` to install the D3Trees package.\n",
     "output_type": "error",
     "traceback": [
      "ArgumentError: Package D3Trees not found in current path:\n- Run `import Pkg; Pkg.add(\"D3Trees\")` to install the D3Trees package.\n",
      "",
      "Stacktrace:",
      " [1] require(into::Module, mod::Symbol)",
      "   @ Base ./loading.jl:893",
      " [2] eval",
      "   @ ./boot.jl:360 [inlined]",
      " [3] include_string(mapexpr::typeof(REPL.softscope), mod::Module, code::String, filename::String)",
      "   @ Base ./loading.jl:1116"
     ]
    }
   ],
   "source": [
    "using D3Trees\n",
    "\n",
    "# first, run the planner on the state\n",
    "s = state_hist(hist)[1]\n",
    "a, info = action_info(planner, s);\n",
    "\n",
    "# show the tree (click the node to expand)\n",
    "D3Tree(info[:tree], init_expand=1)"
   ]
  },
  {
   "cell_type": "code",
   "execution_count": null,
   "metadata": {},
   "outputs": [],
   "source": []
  }
 ],
 "metadata": {
  "anaconda-cloud": {},
  "kernelspec": {
   "display_name": "Julia 1.6.3",
   "language": "julia",
   "name": "julia-1.6"
  },
  "language_info": {
   "file_extension": ".jl",
   "mimetype": "application/julia",
   "name": "julia",
   "version": "1.6.3"
  }
 },
 "nbformat": 4,
 "nbformat_minor": 4
}
